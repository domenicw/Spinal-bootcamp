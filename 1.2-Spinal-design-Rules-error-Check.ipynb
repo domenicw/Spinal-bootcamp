{
 "cells": [
  {
   "cell_type": "markdown",
   "metadata": {},
   "source": [
    "<a name=\"top\"></a><img src=\"./source/SpinalHDL.png\" alt=\"SpinalHDL based on Scala\" style=\"width:320px;\" />"
   ]
  },
  {
   "cell_type": "markdown",
   "metadata": {},
   "source": [
    "Before running Spinal HDL code, be sure to load SpinalHDL Libraries  \n",
    "**Note** : This may be a little slow when the first time load, please wait a moment to download Lib from remote.)   "
   ]
  },
  {
   "cell_type": "code",
   "execution_count": 1,
   "metadata": {},
   "outputs": [
    {
     "data": {
      "text/plain": [
       "\u001b[36mpath\u001b[39m: \u001b[32mString\u001b[39m = \u001b[32m\"/Users/domenic/Documents/Spinal-bootcamp/source/load-spinal.sc\"\u001b[39m"
      ]
     },
     "execution_count": 1,
     "metadata": {},
     "output_type": "execute_result"
    }
   ],
   "source": [
    "val path = System.getProperty(\"user.dir\") + \"/source/load-spinal.sc\"\n",
    "interp.load.module(ammonite.ops.Path(java.nio.file.FileSystems.getDefault().getPath(path)))"
   ]
  },
  {
   "cell_type": "markdown",
   "metadata": {},
   "source": [
    "## Assignement overlap\n",
    "SpinalHDL will check that no signal assignement completly erases a previous one.   \n",
    "The following code will throw the following error:"
   ]
  },
  {
   "cell_type": "code",
   "execution_count": 2,
   "metadata": {},
   "outputs": [
    {
     "name": "stdout",
     "output_type": "stream",
     "text": [
      "[Runtime] SpinalHDL v1.4.1    git head : d1b4746673438bc5f242515335278fa39a666c38\n",
      "[Runtime] JVM max memory : 1820.5MiB\n",
      "[Runtime] Current date : 2020.09.23 09:44:01\n",
      "[Progress] at 0.000 : Elaborate components\n",
      "[Progress] at 0.094 : Checks and transforms\n",
      "\n",
      "**********************************************************************************************\n",
      "[Warning] Elaboration failed (1 error).\n",
      "          Spinal will restart with scala trace to help you to find the problem.\n",
      "**********************************************************************************************\n",
      "\n",
      "[Progress] at 0.144 : Elaborate components\n",
      "[Progress] at 0.146 : Checks and transforms\n"
     ]
    },
    {
     "ename": "",
     "evalue": "",
     "output_type": "error",
     "traceback": [
      "\u001b[31mspinal.core.SpinalExit: \n\n\n \n********************************************************************************\n********************************************************************************\n\nASSIGNMENT OVERLAP completely the previous one of (toplevel/a :  UInt[8 bits])\n    ammonite.$sess.cmd1$Helper$TopLevel.<init>(cmd1.sc:4)\n    ammonite.$sess.cmd1$Helper.$anonfun$res1_1$1(cmd1.sc:6)\n    ammonite.$file.dummy.source.load$minusspinal$Helper.showRtl(Main.sc:28)\n    ammonite.$sess.cmd1$Helper.<init>(cmd1.sc:6)\n    ammonite.$sess.cmd1$.<init>(cmd1.sc:7)\n    ammonite.$sess.cmd1$.<clinit>(cmd1.sc)\n    ammonite.$sess.cmd1.$main(cmd1.sc)\n    ammonite.runtime.Evaluator$$anon$1.$anonfun$evalMain$1(Evaluator.scala:112)\n    ammonite.util.Util$.withContextClassloader(Util.scala:16)\n    ammonite.runtime.Evaluator$$anon$1.evalMain(Evaluator.scala:94)\n    ammonite.runtime.Evaluator$$anon$1.$anonfun$processLine$2(Evaluator.scala:131)\n    ammonite.util.Catching.map(Res.scala:117)\n    ammonite.runtime.Evaluator$$anon$1.$anonfun$processLine$1(Evaluator.scala:125)\n    ammonite.util.Res$Success.flatMap(Res.scala:62)\n    ammonite.runtime.Evaluator$$anon$1.processLine(Evaluator.scala:124)\n    ammonite.interp.Interpreter.$anonfun$evaluateLine$3(Interpreter.scala:295)\n    ammonite.util.Res$Success.flatMap(Res.scala:62)\n    ammonite.interp.Interpreter.$anonfun$evaluateLine$1(Interpreter.scala:281)\n    ammonite.util.Catching.flatMap(Res.scala:115)\n    ammonite.interp.Interpreter.evaluateLine(Interpreter.scala:280)\n    ammonite.interp.Interpreter.$anonfun$processLine$5(Interpreter.scala:267)\n    ammonite.util.Res$Success.flatMap(Res.scala:62)\n    ammonite.interp.Interpreter.$anonfun$processLine$3(Interpreter.scala:251)\n    ammonite.util.Res$Success.flatMap(Res.scala:62)\n    ammonite.interp.Interpreter.$anonfun$processLine$1(Interpreter.scala:244)\n    ammonite.util.Catching.flatMap(Res.scala:115)\n    ammonite.interp.Interpreter.processLine(Interpreter.scala:243)\n    almond.Execute.$anonfun$ammResult$9(Execute.scala:226)\n    almond.internals.CaptureImpl.$anonfun$apply$2(CaptureImpl.scala:53)\n    almond.internals.CaptureImpl.$anonfun$apply$1(CaptureImpl.scala:45)\n    almond.internals.CaptureImpl.apply(CaptureImpl.scala:45)\n    almond.Execute.capturingOutput(Execute.scala:164)\n    almond.Execute.$anonfun$ammResult$8(Execute.scala:222)\n    almond.Execute.$anonfun$withClientStdin$1(Execute.scala:144)\n    almond.Execute.withClientStdin(Execute.scala:140)\n    almond.Execute.$anonfun$ammResult$7(Execute.scala:222)\n    almond.Execute.withInputManager(Execute.scala:132)\n    almond.Execute.$anonfun$ammResult$6(Execute.scala:221)\n    ammonite.repl.Signaller.apply(Signaller.scala:28)\n    almond.Execute.interruptible(Execute.scala:181)\n    almond.Execute.$anonfun$ammResult$5(Execute.scala:220)\n    ammonite.util.Res$Success.flatMap(Res.scala:62)\n    almond.Execute.$anonfun$ammResult$1(Execute.scala:211)\n    almond.Execute.withOutputHandler(Execute.scala:155)\n    almond.Execute.ammResult(Execute.scala:211)\n    almond.Execute.apply(Execute.scala:308)\n    almond.ScalaInterpreter.execute(ScalaInterpreter.scala:115)\n    almond.interpreter.InterpreterToIOInterpreter.$anonfun$execute$2(InterpreterToIOInterpreter.scala:69)\n    cats.effect.internals.IORunLoop$.cats$effect$internals$IORunLoop$$loop(IORunLoop.scala:87)\n    cats.effect.internals.IORunLoop$RestartCallback.signal(IORunLoop.scala:351)\n    cats.effect.internals.IORunLoop$RestartCallback.apply(IORunLoop.scala:372)\n    cats.effect.internals.IORunLoop$RestartCallback.apply(IORunLoop.scala:312)\n    cats.effect.internals.IOShift$Tick.run(IOShift.scala:36)\n    java.util.concurrent.ThreadPoolExecutor.runWorker(ThreadPoolExecutor.java:1149)\n    java.util.concurrent.ThreadPoolExecutor$Worker.run(ThreadPoolExecutor.java:624)\n    java.lang.Thread.run(Thread.java:748)\n\n\n********************************************************************************\n********************************************************************************\n\nDesign's errors are listed above.\nSpinalHDL compiler exit stack : \n\u001b[39m\n  spinal.core.SpinalExit$.apply(\u001b[32mMisc.scala\u001b[39m:\u001b[32m396\u001b[39m)\n  spinal.core.SpinalError$.apply(\u001b[32mMisc.scala\u001b[39m:\u001b[32m447\u001b[39m)\n  spinal.core.internals.PhaseContext.checkPendingErrors(\u001b[32mPhase.scala\u001b[39m:\u001b[32m174\u001b[39m)\n  spinal.core.internals.PhaseContext.doPhase(\u001b[32mPhase.scala\u001b[39m:\u001b[32m190\u001b[39m)\n  spinal.core.internals.SpinalVerilogBoot$.$anonfun$singleShot$12(\u001b[32mPhase.scala\u001b[39m:\u001b[32m2362\u001b[39m)\n  spinal.core.internals.SpinalVerilogBoot$.$anonfun$singleShot$12$adapted(\u001b[32mPhase.scala\u001b[39m:\u001b[32m2360\u001b[39m)\n  scala.collection.mutable.ResizableArray.foreach(\u001b[32mResizableArray.scala\u001b[39m:\u001b[32m59\u001b[39m)\n  scala.collection.mutable.ResizableArray.foreach$(\u001b[32mResizableArray.scala\u001b[39m:\u001b[32m52\u001b[39m)\n  scala.collection.mutable.ArrayBuffer.foreach(\u001b[32mArrayBuffer.scala\u001b[39m:\u001b[32m48\u001b[39m)\n  spinal.core.internals.SpinalVerilogBoot$.$anonfun$singleShot$7(\u001b[32mPhase.scala\u001b[39m:\u001b[32m2360\u001b[39m)\n  spinal.core.ScopeProperty$.sandbox(\u001b[32mScopeProperty.scala\u001b[39m:\u001b[32m31\u001b[39m)\n  spinal.core.internals.SpinalVerilogBoot$.singleShot(\u001b[32mPhase.scala\u001b[39m:\u001b[32m2300\u001b[39m)\n  spinal.core.internals.SpinalVerilogBoot$.apply(\u001b[32mPhase.scala\u001b[39m:\u001b[32m2295\u001b[39m)\n  spinal.core.Spinal$.apply(\u001b[32mSpinal.scala\u001b[39m:\u001b[32m341\u001b[39m)\n  spinal.core.SpinalConfig.generate(\u001b[32mSpinal.scala\u001b[39m:\u001b[32m148\u001b[39m)\n  ammonite.$file.dummy.source.load$minusspinal$Helper.showRtl(\u001b[32mMain.sc\u001b[39m:\u001b[32m28\u001b[39m)\n  ammonite.$sess.cmd1$Helper.<init>(\u001b[32mcmd1.sc\u001b[39m:\u001b[32m6\u001b[39m)\n  ammonite.$sess.cmd1$.<init>(\u001b[32mcmd1.sc\u001b[39m:\u001b[32m7\u001b[39m)\n  ammonite.$sess.cmd1$.<clinit>(\u001b[32mcmd1.sc\u001b[39m:\u001b[32m-1\u001b[39m)"
     ]
    }
   ],
   "source": [
    "class TopLevel extends Component {\n",
    "  val a = UInt(8 bits)\n",
    "  a := 42\n",
    "  a := 66 //Erease the a := 42 :(\n",
    "}\n",
    "showRtl(new TopLevel)"
   ]
  },
  {
   "cell_type": "markdown",
   "metadata": {},
   "source": [
    "A fix could be:"
   ]
  },
  {
   "cell_type": "code",
   "execution_count": 2,
   "metadata": {},
   "outputs": [
    {
     "name": "stderr",
     "output_type": "stream",
     "text": [
      "cmd2.sc:4: not found: value something\n",
      "  when(something){\n",
      "       ^Compilation Failed"
     ]
    },
    {
     "ename": "",
     "evalue": "",
     "output_type": "error",
     "traceback": [
      "Compilation Failed"
     ]
    }
   ],
   "source": [
    "class TopLevel extends Component {\n",
    "  val a = UInt(8 bits)\n",
    "  a := 42\n",
    "  when(something){\n",
    "    a := 66\n",
    "  }\n",
    "}\n",
    "showRtl(new TopLevel)"
   ]
  },
  {
   "cell_type": "markdown",
   "metadata": {},
   "source": [
    "But in the case you really want to override the previous assignement (Yes, it could make sense in some cases), you can do the following:"
   ]
  },
  {
   "cell_type": "code",
   "execution_count": 3,
   "metadata": {},
   "outputs": [
    {
     "name": "stdout",
     "output_type": "stream",
     "text": [
      "[Runtime] SpinalHDL v1.4.1    git head : d1b4746673438bc5f242515335278fa39a666c38\n",
      "[Runtime] JVM max memory : 1820.5MiB\n",
      "[Runtime] Current date : 2020.09.23 09:45:54\n",
      "[Progress] at 112.497 : Elaborate components\n",
      "[Progress] at 112.499 : Checks and transforms\n",
      "[Progress] at 112.517 : Generate Verilog\n",
      "[Warning] 1 signals were pruned. You can call printPruned on the backend report to get more informations.\n",
      "[Done] at 112.597\n",
      "// Generator : SpinalHDL v1.4.1    git head : d1b4746673438bc5f242515335278fa39a666c38\n",
      "// Component : TopLevel\n",
      "// Git hash  : 3c8f67ad383413c37b9e460fd52ce27764b102b4\n",
      "\n",
      "\n",
      "\n",
      "module TopLevel (\n",
      ");\n",
      "  reg        [7:0]    a;\n",
      "  function [7:0] zz_a(input dummy);\n",
      "    begin\n",
      "      zz_a = 8'h2a;\n",
      "      zz_a = 8'h42;\n",
      "    end\n",
      "  endfunction\n",
      "  wire [7:0] _zz_1;\n",
      "\n",
      "  assign _zz_1 = zz_a(1'b0);\n",
      "  always @ (*) a = _zz_1;\n",
      "\n",
      "endmodule\n",
      "\n"
     ]
    },
    {
     "data": {
      "text/plain": [
       "defined \u001b[32mclass\u001b[39m \u001b[36mTopLevel\u001b[39m"
      ]
     },
     "execution_count": 3,
     "metadata": {},
     "output_type": "execute_result"
    }
   ],
   "source": [
    "class TopLevel extends Component {\n",
    "  val a = UInt(8 bits)\n",
    "  a := 42\n",
    "  a.allowOverride\n",
    "  a := 66\n",
    "}\n",
    "showRtl(new TopLevel)"
   ]
  },
  {
   "cell_type": "markdown",
   "metadata": {},
   "source": [
    "## Clock crossing violation\n",
    "SpinalHDL will check that every register of your design only depends (through some combinatorial logic) on registers which use the same or a synchronous clock domain. \n",
    "\n",
    "The following code will throw error:"
   ]
  },
  {
   "cell_type": "code",
   "execution_count": 4,
   "metadata": {},
   "outputs": [
    {
     "name": "stdout",
     "output_type": "stream",
     "text": [
      "[Runtime] SpinalHDL v1.4.1    git head : d1b4746673438bc5f242515335278fa39a666c38\n",
      "[Runtime] JVM max memory : 1820.5MiB\n",
      "[Runtime] Current date : 2020.09.23 09:47:24\n",
      "[Progress] at 202.537 : Elaborate components\n",
      "[Progress] at 202.547 : Checks and transforms\n",
      "\n",
      "**********************************************************************************************\n",
      "[Warning] Elaboration failed (1 error).\n",
      "          Spinal will restart with scala trace to help you to find the problem.\n",
      "**********************************************************************************************\n",
      "\n",
      "[Progress] at 202.569 : Elaborate components\n",
      "[Progress] at 202.572 : Checks and transforms\n"
     ]
    },
    {
     "ename": "",
     "evalue": "",
     "output_type": "error",
     "traceback": [
      "\u001b[31mspinal.core.SpinalExit: \n\n\n \n********************************************************************************\n********************************************************************************\n\nCLOCK CROSSING VIOLATION :\n- Source            : (toplevel/regA :  UInt[8 bits]) ammonite.$sess.cmd3$Helper$TopLevel.$anonfun$regA$2(cmd3.sc:5)\n- Source clock      : (clkA_clk :  Bool)\n- Destination       : (toplevel/regB :  UInt[8 bits]) ammonite.$sess.cmd3$Helper$TopLevel.$anonfun$regB$2(cmd3.sc:6)\n- Destination clock : (clkB_clk :  Bool)\n- Source declaration :\n    ammonite.$sess.cmd3$Helper$TopLevel.$anonfun$regA$2(cmd3.sc:5)\n    ammonite.$sess.cmd3$Helper$TopLevel.$anonfun$regA$1(cmd3.sc:5)\n    ammonite.$sess.cmd3$Helper$TopLevel.<init>(cmd3.sc:5)\n    ammonite.$sess.cmd3$Helper.$anonfun$res3_1$1(cmd3.sc:11)\n    ammonite.$file.dummy.source.load$minusspinal$Helper.showRtl(Main.sc:28)\n    ammonite.$sess.cmd3$Helper.<init>(cmd3.sc:11)\n    ammonite.$sess.cmd3$.<init>(cmd3.sc:7)\n    ammonite.$sess.cmd3$.<clinit>(cmd3.sc)\n    ammonite.$sess.cmd3.$main(cmd3.sc)\n    ammonite.runtime.Evaluator$$anon$1.$anonfun$evalMain$1(Evaluator.scala:112)\n    ammonite.util.Util$.withContextClassloader(Util.scala:16)\n    ammonite.runtime.Evaluator$$anon$1.evalMain(Evaluator.scala:94)\n    ammonite.runtime.Evaluator$$anon$1.$anonfun$processLine$2(Evaluator.scala:131)\n    ammonite.util.Catching.map(Res.scala:117)\n    ammonite.runtime.Evaluator$$anon$1.$anonfun$processLine$1(Evaluator.scala:125)\n    ammonite.util.Res$Success.flatMap(Res.scala:62)\n    ammonite.runtime.Evaluator$$anon$1.processLine(Evaluator.scala:124)\n    ammonite.interp.Interpreter.$anonfun$evaluateLine$3(Interpreter.scala:295)\n    ammonite.util.Res$Success.flatMap(Res.scala:62)\n    ammonite.interp.Interpreter.$anonfun$evaluateLine$1(Interpreter.scala:281)\n    ammonite.util.Catching.flatMap(Res.scala:115)\n    ammonite.interp.Interpreter.evaluateLine(Interpreter.scala:280)\n    ammonite.interp.Interpreter.$anonfun$processLine$5(Interpreter.scala:267)\n    ammonite.util.Res$Success.flatMap(Res.scala:62)\n    ammonite.interp.Interpreter.$anonfun$processLine$3(Interpreter.scala:251)\n    ammonite.util.Res$Success.flatMap(Res.scala:62)\n    ammonite.interp.Interpreter.$anonfun$processLine$1(Interpreter.scala:244)\n    ammonite.util.Catching.flatMap(Res.scala:115)\n    ammonite.interp.Interpreter.processLine(Interpreter.scala:243)\n    almond.Execute.$anonfun$ammResult$9(Execute.scala:226)\n    almond.internals.CaptureImpl.$anonfun$apply$2(CaptureImpl.scala:53)\n    almond.internals.CaptureImpl.$anonfun$apply$1(CaptureImpl.scala:45)\n    almond.internals.CaptureImpl.apply(CaptureImpl.scala:45)\n    almond.Execute.capturingOutput(Execute.scala:164)\n    almond.Execute.$anonfun$ammResult$8(Execute.scala:222)\n    almond.Execute.$anonfun$withClientStdin$1(Execute.scala:144)\n    almond.Execute.withClientStdin(Execute.scala:140)\n    almond.Execute.$anonfun$ammResult$7(Execute.scala:222)\n    almond.Execute.withInputManager(Execute.scala:132)\n    almond.Execute.$anonfun$ammResult$6(Execute.scala:221)\n    ammonite.repl.Signaller.apply(Signaller.scala:28)\n    almond.Execute.interruptible(Execute.scala:181)\n    almond.Execute.$anonfun$ammResult$5(Execute.scala:220)\n    ammonite.util.Res$Success.flatMap(Res.scala:62)\n    almond.Execute.$anonfun$ammResult$1(Execute.scala:211)\n    almond.Execute.withOutputHandler(Execute.scala:155)\n    almond.Execute.ammResult(Execute.scala:211)\n    almond.Execute.apply(Execute.scala:308)\n    almond.ScalaInterpreter.execute(ScalaInterpreter.scala:115)\n    almond.interpreter.InterpreterToIOInterpreter.$anonfun$execute$2(InterpreterToIOInterpreter.scala:69)\n    cats.effect.internals.IORunLoop$.cats$effect$internals$IORunLoop$$loop(IORunLoop.scala:87)\n    cats.effect.internals.IORunLoop$RestartCallback.signal(IORunLoop.scala:351)\n    cats.effect.internals.IORunLoop$RestartCallback.apply(IORunLoop.scala:372)\n    cats.effect.internals.IORunLoop$RestartCallback.apply(IORunLoop.scala:312)\n    cats.effect.internals.IOShift$Tick.run(IOShift.scala:36)\n    java.util.concurrent.ThreadPoolExecutor.runWorker(ThreadPoolExecutor.java:1149)\n    java.util.concurrent.ThreadPoolExecutor$Worker.run(ThreadPoolExecutor.java:624)\n    java.lang.Thread.run(Thread.java:748)\n\n\n- Destination declaration :\n    ammonite.$sess.cmd3$Helper$TopLevel.$anonfun$regB$2(cmd3.sc:6)\n    ammonite.$sess.cmd3$Helper$TopLevel.$anonfun$regB$1(cmd3.sc:6)\n    ammonite.$sess.cmd3$Helper$TopLevel.<init>(cmd3.sc:6)\n    ammonite.$sess.cmd3$Helper.$anonfun$res3_1$1(cmd3.sc:11)\n    ammonite.$file.dummy.source.load$minusspinal$Helper.showRtl(Main.sc:28)\n    ammonite.$sess.cmd3$Helper.<init>(cmd3.sc:11)\n    ammonite.$sess.cmd3$.<init>(cmd3.sc:7)\n    ammonite.$sess.cmd3$.<clinit>(cmd3.sc)\n    ammonite.$sess.cmd3.$main(cmd3.sc)\n    ammonite.runtime.Evaluator$$anon$1.$anonfun$evalMain$1(Evaluator.scala:112)\n    ammonite.util.Util$.withContextClassloader(Util.scala:16)\n    ammonite.runtime.Evaluator$$anon$1.evalMain(Evaluator.scala:94)\n    ammonite.runtime.Evaluator$$anon$1.$anonfun$processLine$2(Evaluator.scala:131)\n    ammonite.util.Catching.map(Res.scala:117)\n    ammonite.runtime.Evaluator$$anon$1.$anonfun$processLine$1(Evaluator.scala:125)\n    ammonite.util.Res$Success.flatMap(Res.scala:62)\n    ammonite.runtime.Evaluator$$anon$1.processLine(Evaluator.scala:124)\n    ammonite.interp.Interpreter.$anonfun$evaluateLine$3(Interpreter.scala:295)\n    ammonite.util.Res$Success.flatMap(Res.scala:62)\n    ammonite.interp.Interpreter.$anonfun$evaluateLine$1(Interpreter.scala:281)\n    ammonite.util.Catching.flatMap(Res.scala:115)\n    ammonite.interp.Interpreter.evaluateLine(Interpreter.scala:280)\n    ammonite.interp.Interpreter.$anonfun$processLine$5(Interpreter.scala:267)\n    ammonite.util.Res$Success.flatMap(Res.scala:62)\n    ammonite.interp.Interpreter.$anonfun$processLine$3(Interpreter.scala:251)\n    ammonite.util.Res$Success.flatMap(Res.scala:62)\n    ammonite.interp.Interpreter.$anonfun$processLine$1(Interpreter.scala:244)\n    ammonite.util.Catching.flatMap(Res.scala:115)\n    ammonite.interp.Interpreter.processLine(Interpreter.scala:243)\n    almond.Execute.$anonfun$ammResult$9(Execute.scala:226)\n    almond.internals.CaptureImpl.$anonfun$apply$2(CaptureImpl.scala:53)\n    almond.internals.CaptureImpl.$anonfun$apply$1(CaptureImpl.scala:45)\n    almond.internals.CaptureImpl.apply(CaptureImpl.scala:45)\n    almond.Execute.capturingOutput(Execute.scala:164)\n    almond.Execute.$anonfun$ammResult$8(Execute.scala:222)\n    almond.Execute.$anonfun$withClientStdin$1(Execute.scala:144)\n    almond.Execute.withClientStdin(Execute.scala:140)\n    almond.Execute.$anonfun$ammResult$7(Execute.scala:222)\n    almond.Execute.withInputManager(Execute.scala:132)\n    almond.Execute.$anonfun$ammResult$6(Execute.scala:221)\n    ammonite.repl.Signaller.apply(Signaller.scala:28)\n    almond.Execute.interruptible(Execute.scala:181)\n    almond.Execute.$anonfun$ammResult$5(Execute.scala:220)\n    ammonite.util.Res$Success.flatMap(Res.scala:62)\n    almond.Execute.$anonfun$ammResult$1(Execute.scala:211)\n    almond.Execute.withOutputHandler(Execute.scala:155)\n    almond.Execute.ammResult(Execute.scala:211)\n    almond.Execute.apply(Execute.scala:308)\n    almond.ScalaInterpreter.execute(ScalaInterpreter.scala:115)\n    almond.interpreter.InterpreterToIOInterpreter.$anonfun$execute$2(InterpreterToIOInterpreter.scala:69)\n    cats.effect.internals.IORunLoop$.cats$effect$internals$IORunLoop$$loop(IORunLoop.scala:87)\n    cats.effect.internals.IORunLoop$RestartCallback.signal(IORunLoop.scala:351)\n    cats.effect.internals.IORunLoop$RestartCallback.apply(IORunLoop.scala:372)\n    cats.effect.internals.IORunLoop$RestartCallback.apply(IORunLoop.scala:312)\n    cats.effect.internals.IOShift$Tick.run(IOShift.scala:36)\n    java.util.concurrent.ThreadPoolExecutor.runWorker(ThreadPoolExecutor.java:1149)\n    java.util.concurrent.ThreadPoolExecutor$Worker.run(ThreadPoolExecutor.java:624)\n    java.lang.Thread.run(Thread.java:748)\n\n\n- Connection path :\n      >>> (toplevel/regA :  UInt[8 bits]) at ammonite.$sess.cmd3$Helper$TopLevel.$anonfun$regA$2(cmd3.sc:5) >>>\n      >>> (toplevel/tmp :  UInt[8 bits]) at ammonite.$sess.cmd3$Helper$TopLevel.<init>(cmd3.sc:8) >>>\n      >>> (toplevel/regB :  UInt[8 bits]) at ammonite.$sess.cmd3$Helper$TopLevel.$anonfun$regB$2(cmd3.sc:6) >>>\n\n             \n********************************************************************************\n********************************************************************************\n\nDesign's errors are listed above.\nSpinalHDL compiler exit stack : \n\u001b[39m\n  spinal.core.SpinalExit$.apply(\u001b[32mMisc.scala\u001b[39m:\u001b[32m396\u001b[39m)\n  spinal.core.SpinalError$.apply(\u001b[32mMisc.scala\u001b[39m:\u001b[32m447\u001b[39m)\n  spinal.core.internals.PhaseContext.checkPendingErrors(\u001b[32mPhase.scala\u001b[39m:\u001b[32m174\u001b[39m)\n  spinal.core.internals.PhaseContext.doPhase(\u001b[32mPhase.scala\u001b[39m:\u001b[32m190\u001b[39m)\n  spinal.core.internals.SpinalVerilogBoot$.$anonfun$singleShot$12(\u001b[32mPhase.scala\u001b[39m:\u001b[32m2362\u001b[39m)\n  spinal.core.internals.SpinalVerilogBoot$.$anonfun$singleShot$12$adapted(\u001b[32mPhase.scala\u001b[39m:\u001b[32m2360\u001b[39m)\n  scala.collection.mutable.ResizableArray.foreach(\u001b[32mResizableArray.scala\u001b[39m:\u001b[32m59\u001b[39m)\n  scala.collection.mutable.ResizableArray.foreach$(\u001b[32mResizableArray.scala\u001b[39m:\u001b[32m52\u001b[39m)\n  scala.collection.mutable.ArrayBuffer.foreach(\u001b[32mArrayBuffer.scala\u001b[39m:\u001b[32m48\u001b[39m)\n  spinal.core.internals.SpinalVerilogBoot$.$anonfun$singleShot$7(\u001b[32mPhase.scala\u001b[39m:\u001b[32m2360\u001b[39m)\n  spinal.core.ScopeProperty$.sandbox(\u001b[32mScopeProperty.scala\u001b[39m:\u001b[32m31\u001b[39m)\n  spinal.core.internals.SpinalVerilogBoot$.singleShot(\u001b[32mPhase.scala\u001b[39m:\u001b[32m2300\u001b[39m)\n  spinal.core.internals.SpinalVerilogBoot$.apply(\u001b[32mPhase.scala\u001b[39m:\u001b[32m2295\u001b[39m)\n  spinal.core.Spinal$.apply(\u001b[32mSpinal.scala\u001b[39m:\u001b[32m341\u001b[39m)\n  spinal.core.SpinalConfig.generate(\u001b[32mSpinal.scala\u001b[39m:\u001b[32m148\u001b[39m)\n  ammonite.$file.dummy.source.load$minusspinal$Helper.showRtl(\u001b[32mMain.sc\u001b[39m:\u001b[32m28\u001b[39m)\n  ammonite.$sess.cmd3$Helper.<init>(\u001b[32mcmd3.sc\u001b[39m:\u001b[32m11\u001b[39m)\n  ammonite.$sess.cmd3$.<init>(\u001b[32mcmd3.sc\u001b[39m:\u001b[32m7\u001b[39m)\n  ammonite.$sess.cmd3$.<clinit>(\u001b[32mcmd3.sc\u001b[39m:\u001b[32m-1\u001b[39m)"
     ]
    }
   ],
   "source": [
    "class TopLevel extends Component {\n",
    "  val clkA = ClockDomain.external(\"clkA\")\n",
    "  val clkB = ClockDomain.external(\"clkB\")\n",
    "\n",
    "  val regA = clkA(Reg(UInt(8 bits)))   //PlayDev.scala:834\n",
    "  val regB = clkB(Reg(UInt(8 bits)))   //PlayDev.scala:835\n",
    "\n",
    "  val tmp = regA + regA                //PlayDev.scala:838\n",
    "  regB := tmp\n",
    "}\n",
    "showRtl(new TopLevel)"
   ]
  },
  {
   "cell_type": "markdown",
   "metadata": {},
   "source": [
    "There are multiple possible fixes:\n",
    "### crossClockDomain tag\n",
    "The crossClockDomain tag can be used to say “It’s alright, don’t panic” to SpinalHDL"
   ]
  },
  {
   "cell_type": "code",
   "execution_count": 5,
   "metadata": {},
   "outputs": [
    {
     "name": "stdout",
     "output_type": "stream",
     "text": [
      "[Runtime] SpinalHDL v1.4.1    git head : d1b4746673438bc5f242515335278fa39a666c38\n",
      "[Runtime] JVM max memory : 1820.5MiB\n",
      "[Runtime] Current date : 2020.09.23 09:48:05\n",
      "[Progress] at 243.524 : Elaborate components\n",
      "[Progress] at 243.527 : Checks and transforms\n",
      "[Progress] at 243.531 : Generate Verilog\n",
      "[Warning] 7 signals were pruned. You can call printPruned on the backend report to get more informations.\n",
      "[Done] at 243.557\n",
      "// Generator : SpinalHDL v1.4.1    git head : d1b4746673438bc5f242515335278fa39a666c38\n",
      "// Component : TopLevel\n",
      "// Git hash  : 3c8f67ad383413c37b9e460fd52ce27764b102b4\n",
      "\n",
      "\n",
      "\n",
      "module TopLevel (\n",
      "  input               clkA_clk,\n",
      "  input               clkA_reset,\n",
      "  input               clkB_clk,\n",
      "  input               clkB_reset\n",
      ");\n",
      "  reg        [7:0]    regA;\n",
      "  reg        [7:0]    regB;\n",
      "  wire       [7:0]    tmp;\n",
      "\n",
      "  assign tmp = (regA + regA);\n",
      "  always @ (posedge clkB_clk) begin\n",
      "    regB <= tmp;\n",
      "  end\n",
      "\n",
      "\n",
      "endmodule\n",
      "\n"
     ]
    },
    {
     "data": {
      "text/plain": [
       "defined \u001b[32mclass\u001b[39m \u001b[36mTopLevel\u001b[39m"
      ]
     },
     "execution_count": 5,
     "metadata": {},
     "output_type": "execute_result"
    }
   ],
   "source": [
    "class TopLevel extends Component {\n",
    "  val clkA = ClockDomain.external(\"clkA\")\n",
    "  val clkB = ClockDomain.external(\"clkB\")\n",
    "\n",
    "  val regA = clkA(Reg(UInt(8 bits)))\n",
    "  val regB = clkB(Reg(UInt(8 bits))).addTag(crossClockDomain)\n",
    "\n",
    "\n",
    "  val tmp = regA + regA\n",
    "  regB := tmp\n",
    "}\n",
    "showRtl(new TopLevel)"
   ]
  },
  {
   "cell_type": "markdown",
   "metadata": {},
   "source": [
    "### setSyncronousWith\n",
    "You can also specify that two clock domains are syncronous together."
   ]
  },
  {
   "cell_type": "code",
   "execution_count": 6,
   "metadata": {},
   "outputs": [
    {
     "name": "stdout",
     "output_type": "stream",
     "text": [
      "[Runtime] SpinalHDL v1.4.1    git head : d1b4746673438bc5f242515335278fa39a666c38\n",
      "[Runtime] JVM max memory : 1820.5MiB\n",
      "[Runtime] Current date : 2020.09.23 09:48:49\n",
      "[Progress] at 287.822 : Elaborate components\n",
      "[Progress] at 287.825 : Checks and transforms\n",
      "[Progress] at 287.830 : Generate Verilog\n",
      "[Warning] 7 signals were pruned. You can call printPruned on the backend report to get more informations.\n",
      "[Done] at 287.847\n",
      "// Generator : SpinalHDL v1.4.1    git head : d1b4746673438bc5f242515335278fa39a666c38\n",
      "// Component : TopLevel\n",
      "// Git hash  : 3c8f67ad383413c37b9e460fd52ce27764b102b4\n",
      "\n",
      "\n",
      "\n",
      "module TopLevel (\n",
      "  input               clkA_clk,\n",
      "  input               clkA_reset,\n",
      "  input               clkB_clk,\n",
      "  input               clkB_reset\n",
      ");\n",
      "  reg        [7:0]    regA;\n",
      "  reg        [7:0]    regB;\n",
      "  wire       [7:0]    tmp;\n",
      "\n",
      "  assign tmp = (regA + regA);\n",
      "  always @ (posedge clkB_clk) begin\n",
      "    regB <= tmp;\n",
      "  end\n",
      "\n",
      "\n",
      "endmodule\n",
      "\n"
     ]
    },
    {
     "data": {
      "text/plain": [
       "defined \u001b[32mclass\u001b[39m \u001b[36mTopLevel\u001b[39m"
      ]
     },
     "execution_count": 6,
     "metadata": {},
     "output_type": "execute_result"
    }
   ],
   "source": [
    "class TopLevel extends Component {\n",
    "  val clkA = ClockDomain.external(\"clkA\")\n",
    "  val clkB = ClockDomain.external(\"clkB\")\n",
    "  clkB.setSyncronousWith(clkA)\n",
    "\n",
    "  val regA = clkA(Reg(UInt(8 bits)))\n",
    "  val regB = clkB(Reg(UInt(8 bits)))\n",
    "\n",
    "\n",
    "  val tmp = regA + regA\n",
    "  regB := tmp\n",
    "}\n",
    "\n",
    "showRtl(new TopLevel)"
   ]
  },
  {
   "cell_type": "markdown",
   "metadata": {},
   "source": [
    "### BufferCC\n",
    "Signal Bits or Gray-coded Bits can use BufferCC to cross different clockDomain"
   ]
  },
  {
   "cell_type": "code",
   "execution_count": 7,
   "metadata": {},
   "outputs": [
    {
     "name": "stdout",
     "output_type": "stream",
     "text": [
      "[Runtime] SpinalHDL v1.4.1    git head : d1b4746673438bc5f242515335278fa39a666c38\n",
      "[Runtime] JVM max memory : 1820.5MiB\n",
      "[Runtime] Current date : 2020.09.23 09:50:55\n",
      "[Progress] at 413.655 : Elaborate components\n",
      "[Progress] at 413.676 : Checks and transforms\n",
      "[Progress] at 413.684 : Generate Verilog\n",
      "[Warning] 4 signals were pruned. You can call printPruned on the backend report to get more informations.\n",
      "[Done] at 413.715\n",
      "// Generator : SpinalHDL v1.4.1    git head : d1b4746673438bc5f242515335278fa39a666c38\n",
      "// Component : syncRead2Write\n",
      "// Git hash  : 3c8f67ad383413c37b9e460fd52ce27764b102b4\n",
      "\n",
      "\n",
      "\n",
      "module syncRead2Write (\n",
      "  input               io_pushClock,\n",
      "  input               io_pushRst,\n",
      "  input      [7:0]    io_readPtr\n",
      ");\n",
      "  wire       [7:0]    _zz_1;\n",
      "  reg        [7:0]    pushCC_pushPtrGray;\n",
      "\n",
      "  assign _zz_1 = (io_readPtr >>> 1'b1);\n",
      "  always @ (posedge io_pushClock or posedge io_pushRst) begin\n",
      "    if (io_pushRst) begin\n",
      "      pushCC_pushPtrGray <= 8'h0;\n",
      "    end else begin\n",
      "      pushCC_pushPtrGray <= (_zz_1 ^ io_readPtr);\n",
      "    end\n",
      "  end\n",
      "\n",
      "\n",
      "endmodule\n",
      "\n"
     ]
    },
    {
     "data": {
      "text/plain": [
       "defined \u001b[32mclass\u001b[39m \u001b[36msyncRead2Write\u001b[39m"
      ]
     },
     "execution_count": 7,
     "metadata": {},
     "output_type": "execute_result"
    }
   ],
   "source": [
    "class syncRead2Write extends Component {\n",
    "  val io = new Bundle{\n",
    "    val pushClock, pushRst = in Bool()\n",
    "    val readPtr = in UInt(8 bits)\n",
    "  }\n",
    "  val pushCC = new ClockingArea(ClockDomain(io.pushClock, io.pushRst)) {\n",
    "    val pushPtrGray = RegNext(toGray(io.readPtr)) init(0)\n",
    "  }\n",
    "}\n",
    "showRtl(new syncRead2Write)"
   ]
  },
  {
   "cell_type": "markdown",
   "metadata": {},
   "source": [
    "## Combinational loop\n",
    "SpinalHDL will check that there are no combinatorial loops in the design.\n",
    "\n",
    "The following code will throw error:"
   ]
  },
  {
   "cell_type": "code",
   "execution_count": 8,
   "metadata": {},
   "outputs": [
    {
     "name": "stdout",
     "output_type": "stream",
     "text": [
      "[Runtime] SpinalHDL v1.4.1    git head : d1b4746673438bc5f242515335278fa39a666c38\n",
      "[Runtime] JVM max memory : 1820.5MiB\n",
      "[Runtime] Current date : 2020.09.23 09:52:54\n",
      "[Progress] at 532.491 : Elaborate components\n",
      "[Progress] at 532.493 : Checks and transforms\n",
      "\n",
      "**********************************************************************************************\n",
      "[Warning] Elaboration failed (1 error).\n",
      "          Spinal will restart with scala trace to help you to find the problem.\n",
      "**********************************************************************************************\n",
      "\n",
      "[Progress] at 532.504 : Elaborate components\n",
      "[Progress] at 532.506 : Checks and transforms\n"
     ]
    },
    {
     "ename": "",
     "evalue": "",
     "output_type": "error",
     "traceback": [
      "\u001b[31mspinal.core.SpinalExit: \n\n\n \n********************************************************************************\n********************************************************************************\n\nCOMBINATORIAL LOOP :\n  Partial chain :\n    >>> (toplevel/a :  UInt[8 bits]) at ammonite.$sess.cmd7$Helper$TopLevel.<init>(cmd7.sc:2) >>>\n    >>> (toplevel/d :  UInt[8 bits]) at ammonite.$sess.cmd7$Helper$TopLevel.<init>(cmd7.sc:5) >>>\n    >>> (toplevel/b :  UInt[8 bits]) at ammonite.$sess.cmd7$Helper$TopLevel.<init>(cmd7.sc:3) >>>\n    >>> (toplevel/a :  UInt[8 bits]) at ammonite.$sess.cmd7$Helper$TopLevel.<init>(cmd7.sc:2) >>>\n\n  Full chain :\n    (toplevel/a :  UInt[8 bits])\n    (toplevel/d :  UInt[8 bits])\n    (UInt | UInt)[8 bits]\n    (toplevel/b :  UInt[8 bits])\n    (toplevel/a :  UInt[8 bits])\n********************************************************************************\n********************************************************************************\n\nDesign's errors are listed above.\nSpinalHDL compiler exit stack : \n\u001b[39m\n  spinal.core.SpinalExit$.apply(\u001b[32mMisc.scala\u001b[39m:\u001b[32m396\u001b[39m)\n  spinal.core.SpinalError$.apply(\u001b[32mMisc.scala\u001b[39m:\u001b[32m447\u001b[39m)\n  spinal.core.internals.PhaseContext.checkPendingErrors(\u001b[32mPhase.scala\u001b[39m:\u001b[32m174\u001b[39m)\n  spinal.core.internals.PhaseContext.doPhase(\u001b[32mPhase.scala\u001b[39m:\u001b[32m190\u001b[39m)\n  spinal.core.internals.SpinalVerilogBoot$.$anonfun$singleShot$12(\u001b[32mPhase.scala\u001b[39m:\u001b[32m2362\u001b[39m)\n  spinal.core.internals.SpinalVerilogBoot$.$anonfun$singleShot$12$adapted(\u001b[32mPhase.scala\u001b[39m:\u001b[32m2360\u001b[39m)\n  scala.collection.mutable.ResizableArray.foreach(\u001b[32mResizableArray.scala\u001b[39m:\u001b[32m59\u001b[39m)\n  scala.collection.mutable.ResizableArray.foreach$(\u001b[32mResizableArray.scala\u001b[39m:\u001b[32m52\u001b[39m)\n  scala.collection.mutable.ArrayBuffer.foreach(\u001b[32mArrayBuffer.scala\u001b[39m:\u001b[32m48\u001b[39m)\n  spinal.core.internals.SpinalVerilogBoot$.$anonfun$singleShot$7(\u001b[32mPhase.scala\u001b[39m:\u001b[32m2360\u001b[39m)\n  spinal.core.ScopeProperty$.sandbox(\u001b[32mScopeProperty.scala\u001b[39m:\u001b[32m31\u001b[39m)\n  spinal.core.internals.SpinalVerilogBoot$.singleShot(\u001b[32mPhase.scala\u001b[39m:\u001b[32m2300\u001b[39m)\n  spinal.core.internals.SpinalVerilogBoot$.apply(\u001b[32mPhase.scala\u001b[39m:\u001b[32m2295\u001b[39m)\n  spinal.core.Spinal$.apply(\u001b[32mSpinal.scala\u001b[39m:\u001b[32m341\u001b[39m)\n  spinal.core.SpinalConfig.generate(\u001b[32mSpinal.scala\u001b[39m:\u001b[32m148\u001b[39m)\n  ammonite.$file.dummy.source.load$minusspinal$Helper.showRtl(\u001b[32mMain.sc\u001b[39m:\u001b[32m28\u001b[39m)\n  ammonite.$sess.cmd7$Helper.<init>(\u001b[32mcmd7.sc\u001b[39m:\u001b[32m12\u001b[39m)\n  ammonite.$sess.cmd7$.<init>(\u001b[32mcmd7.sc\u001b[39m:\u001b[32m7\u001b[39m)\n  ammonite.$sess.cmd7$.<clinit>(\u001b[32mcmd7.sc\u001b[39m:\u001b[32m-1\u001b[39m)"
     ]
    }
   ],
   "source": [
    "class TopLevel extends Component {\n",
    "  val a = UInt(8 bits) //PlayDev.scala line 831\n",
    "  val b = UInt(8 bits) //PlayDev.scala line 832\n",
    "  val c = UInt(8 bits)\n",
    "  val d = UInt(8 bits)\n",
    "\n",
    "  a := b\n",
    "  b := c | d\n",
    "  d := a\n",
    "  c := 0\n",
    "}\n",
    "showRtl(new TopLevel)"
   ]
  },
  {
   "cell_type": "markdown",
   "metadata": {},
   "source": [
    "A possible fix could be:"
   ]
  },
  {
   "cell_type": "code",
   "execution_count": 9,
   "metadata": {},
   "outputs": [
    {
     "name": "stdout",
     "output_type": "stream",
     "text": [
      "[Runtime] SpinalHDL v1.4.1    git head : d1b4746673438bc5f242515335278fa39a666c38\n",
      "[Runtime] JVM max memory : 1820.5MiB\n",
      "[Runtime] Current date : 2020.09.23 09:53:48\n",
      "[Progress] at 586.391 : Elaborate components\n",
      "[Progress] at 586.392 : Checks and transforms\n",
      "[Progress] at 586.396 : Generate Verilog\n",
      "[Warning] 4 signals were pruned. You can call printPruned on the backend report to get more informations.\n",
      "[Done] at 586.430\n",
      "// Generator : SpinalHDL v1.4.1    git head : d1b4746673438bc5f242515335278fa39a666c38\n",
      "// Component : TopLevel\n",
      "// Git hash  : 3c8f67ad383413c37b9e460fd52ce27764b102b4\n",
      "\n",
      "\n",
      "\n",
      "module TopLevel (\n",
      ");\n",
      "  wire       [7:0]    a;\n",
      "  wire       [7:0]    b;\n",
      "  wire       [7:0]    c;\n",
      "  wire       [7:0]    d;\n",
      "\n",
      "  assign a = b;\n",
      "  assign b = (c | d);\n",
      "  assign d = 8'h2a;\n",
      "  assign c = 8'h0;\n",
      "\n",
      "endmodule\n",
      "\n"
     ]
    },
    {
     "data": {
      "text/plain": [
       "defined \u001b[32mclass\u001b[39m \u001b[36mTopLevel\u001b[39m"
      ]
     },
     "execution_count": 9,
     "metadata": {},
     "output_type": "execute_result"
    }
   ],
   "source": [
    "class TopLevel extends Component {\n",
    "  val a = UInt(8 bits) //PlayDev.scala line 831\n",
    "  val b = UInt(8 bits) //PlayDev.scala line 832\n",
    "  val c = UInt(8 bits)\n",
    "  val d = UInt(8 bits)\n",
    "\n",
    "  a := b\n",
    "  b := c | d\n",
    "  d := 42\n",
    "  c := 0\n",
    "}\n",
    "showRtl(new TopLevel)"
   ]
  },
  {
   "cell_type": "markdown",
   "metadata": {},
   "source": [
    "### False-positive\n",
    "It should be said that SpinalHDL’s algorithm to detect combinatorial loops can be pessimistic, and it may give false positives. If it is giving a false positive, you can manualy disable loop checking on one signal of the loop like so:"
   ]
  },
  {
   "cell_type": "code",
   "execution_count": 10,
   "metadata": {},
   "outputs": [
    {
     "name": "stdout",
     "output_type": "stream",
     "text": [
      "[Runtime] SpinalHDL v1.4.1    git head : d1b4746673438bc5f242515335278fa39a666c38\n",
      "[Runtime] JVM max memory : 1820.5MiB\n",
      "[Runtime] Current date : 2020.09.23 09:54:47\n",
      "[Progress] at 645.029 : Elaborate components\n",
      "[Progress] at 645.032 : Checks and transforms\n",
      "\n",
      "**********************************************************************************************\n",
      "[Warning] Elaboration failed (1 error).\n",
      "          Spinal will restart with scala trace to help you to find the problem.\n",
      "**********************************************************************************************\n",
      "\n",
      "[Progress] at 645.038 : Elaborate components\n",
      "[Progress] at 645.040 : Checks and transforms\n"
     ]
    },
    {
     "ename": "",
     "evalue": "",
     "output_type": "error",
     "traceback": [
      "\u001b[31mspinal.core.SpinalExit: \n\n\n \n********************************************************************************\n********************************************************************************\n\nCOMBINATORIAL LOOP :\n  Partial chain :\n    >>> (toplevel/a :  UInt[8 bits]) at ammonite.$sess.cmd9$Helper$TopLevel.<init>(cmd9.sc:2) >>>\n    >>> (toplevel/a :  UInt[8 bits]) at ammonite.$sess.cmd9$Helper$TopLevel.<init>(cmd9.sc:2) >>>\n\n  Full chain :\n    (toplevel/a :  UInt[8 bits])\n    UInt(Int)\n    (toplevel/a :  UInt[8 bits])\n********************************************************************************\n********************************************************************************\n\nDesign's errors are listed above.\nSpinalHDL compiler exit stack : \n\u001b[39m\n  spinal.core.SpinalExit$.apply(\u001b[32mMisc.scala\u001b[39m:\u001b[32m396\u001b[39m)\n  spinal.core.SpinalError$.apply(\u001b[32mMisc.scala\u001b[39m:\u001b[32m447\u001b[39m)\n  spinal.core.internals.PhaseContext.checkPendingErrors(\u001b[32mPhase.scala\u001b[39m:\u001b[32m174\u001b[39m)\n  spinal.core.internals.PhaseContext.doPhase(\u001b[32mPhase.scala\u001b[39m:\u001b[32m190\u001b[39m)\n  spinal.core.internals.SpinalVerilogBoot$.$anonfun$singleShot$12(\u001b[32mPhase.scala\u001b[39m:\u001b[32m2362\u001b[39m)\n  spinal.core.internals.SpinalVerilogBoot$.$anonfun$singleShot$12$adapted(\u001b[32mPhase.scala\u001b[39m:\u001b[32m2360\u001b[39m)\n  scala.collection.mutable.ResizableArray.foreach(\u001b[32mResizableArray.scala\u001b[39m:\u001b[32m59\u001b[39m)\n  scala.collection.mutable.ResizableArray.foreach$(\u001b[32mResizableArray.scala\u001b[39m:\u001b[32m52\u001b[39m)\n  scala.collection.mutable.ArrayBuffer.foreach(\u001b[32mArrayBuffer.scala\u001b[39m:\u001b[32m48\u001b[39m)\n  spinal.core.internals.SpinalVerilogBoot$.$anonfun$singleShot$7(\u001b[32mPhase.scala\u001b[39m:\u001b[32m2360\u001b[39m)\n  spinal.core.ScopeProperty$.sandbox(\u001b[32mScopeProperty.scala\u001b[39m:\u001b[32m31\u001b[39m)\n  spinal.core.internals.SpinalVerilogBoot$.singleShot(\u001b[32mPhase.scala\u001b[39m:\u001b[32m2300\u001b[39m)\n  spinal.core.internals.SpinalVerilogBoot$.apply(\u001b[32mPhase.scala\u001b[39m:\u001b[32m2295\u001b[39m)\n  spinal.core.Spinal$.apply(\u001b[32mSpinal.scala\u001b[39m:\u001b[32m341\u001b[39m)\n  spinal.core.SpinalConfig.generate(\u001b[32mSpinal.scala\u001b[39m:\u001b[32m148\u001b[39m)\n  ammonite.$file.dummy.source.load$minusspinal$Helper.showRtl(\u001b[32mMain.sc\u001b[39m:\u001b[32m28\u001b[39m)\n  ammonite.$sess.cmd9$Helper.<init>(\u001b[32mcmd9.sc\u001b[39m:\u001b[32m6\u001b[39m)\n  ammonite.$sess.cmd9$.<init>(\u001b[32mcmd9.sc\u001b[39m:\u001b[32m7\u001b[39m)\n  ammonite.$sess.cmd9$.<clinit>(\u001b[32mcmd9.sc\u001b[39m:\u001b[32m-1\u001b[39m)"
     ]
    }
   ],
   "source": [
    "class TopLevel extends Component {\n",
    "  val a = UInt(8 bits)\n",
    "  a := 0\n",
    "  a(1) := a(0) //False positive because of this line\n",
    "}\n",
    "showRtl(new TopLevel)"
   ]
  },
  {
   "cell_type": "markdown",
   "metadata": {},
   "source": [
    "could be fixed by :"
   ]
  },
  {
   "cell_type": "code",
   "execution_count": 11,
   "metadata": {},
   "outputs": [
    {
     "name": "stdout",
     "output_type": "stream",
     "text": [
      "[Runtime] SpinalHDL v1.4.1    git head : d1b4746673438bc5f242515335278fa39a666c38\n",
      "[Runtime] JVM max memory : 1820.5MiB\n",
      "[Runtime] Current date : 2020.09.23 09:54:58\n",
      "[Progress] at 656.354 : Elaborate components\n",
      "[Progress] at 656.354 : Checks and transforms\n",
      "[Progress] at 656.357 : Generate Verilog\n",
      "[Warning] 1 signals were pruned. You can call printPruned on the backend report to get more informations.\n",
      "[Done] at 656.391\n",
      "// Generator : SpinalHDL v1.4.1    git head : d1b4746673438bc5f242515335278fa39a666c38\n",
      "// Component : TopLevel\n",
      "// Git hash  : 3c8f67ad383413c37b9e460fd52ce27764b102b4\n",
      "\n",
      "\n",
      "\n",
      "module TopLevel (\n",
      ");\n",
      "  reg        [7:0]    a;\n",
      "\n",
      "  always @ (*) begin\n",
      "    a = 8'h0;\n",
      "    a[1] = a[0];\n",
      "  end\n",
      "\n",
      "\n",
      "endmodule\n",
      "\n"
     ]
    },
    {
     "data": {
      "text/plain": [
       "defined \u001b[32mclass\u001b[39m \u001b[36mTopLevel\u001b[39m"
      ]
     },
     "execution_count": 11,
     "metadata": {},
     "output_type": "execute_result"
    }
   ],
   "source": [
    "class TopLevel extends Component {\n",
    "  val a = UInt(8 bits).noCombLoopCheck\n",
    "  a := 0\n",
    "  a(1) := a(0)\n",
    "}\n",
    "showRtl(new TopLevel)"
   ]
  },
  {
   "cell_type": "markdown",
   "metadata": {},
   "source": [
    "It should also be said that assignments such as (a(1) := a(0)) can make some tools like Verilator unhappy. It may be better to use a Vec(Bool, 8) in this case"
   ]
  },
  {
   "cell_type": "markdown",
   "metadata": {},
   "source": [
    "## Hierarchy violation\n",
    "\n",
    "SpinalHDL will check that signals are never accessed outside of the current component’s scope.\n",
    "\n",
    "The following signals can be read inside a component:\n",
    "\n",
    "- All directionless signals defined in the current component\n",
    "\n",
    "- All in/out/inout signals of the current component\n",
    "\n",
    "- All in/out/inout signals of children components\n",
    "\n",
    "In addition, the following signals can be assigned to inside a component:\n",
    "\n",
    "- All directionless signals defined in the current component\n",
    "\n",
    "- All out/inout signals of the current component\n",
    "\n",
    "- All in/inout signals of children components\n",
    "\n",
    "If a `HIERARCHY VIOLATION`error appears, it means that one of the above rules was violated.\n",
    "\n",
    "The following code will throw error:"
   ]
  },
  {
   "cell_type": "code",
   "execution_count": 12,
   "metadata": {},
   "outputs": [
    {
     "name": "stdout",
     "output_type": "stream",
     "text": [
      "[Runtime] SpinalHDL v1.4.1    git head : d1b4746673438bc5f242515335278fa39a666c38\n",
      "[Runtime] JVM max memory : 1820.5MiB\n",
      "[Runtime] Current date : 2020.09.23 09:57:41\n",
      "[Progress] at 819.987 : Elaborate components\n",
      "[Progress] at 819.991 : Checks and transforms\n",
      "\n",
      "**********************************************************************************************\n",
      "[Warning] Elaboration failed (1 error).\n",
      "          Spinal will restart with scala trace to help you to find the problem.\n",
      "**********************************************************************************************\n",
      "\n",
      "[Progress] at 819.994 : Elaborate components\n",
      "[Progress] at 819.996 : Checks and transforms\n"
     ]
    },
    {
     "ename": "",
     "evalue": "",
     "output_type": "error",
     "traceback": [
      "\u001b[31mspinal.core.SpinalExit: \n\n\n \n********************************************************************************\n********************************************************************************\n\nHIERARCHY VIOLATION : (toplevel/io_a : in UInt[8 bits]) is driven by (toplevel/tmp :  UInt[8 bits]), but isn't accessible in the toplevel component.\n    ammonite.$sess.cmd11$Helper$TopLevel.<init>(cmd11.sc:6)\n    ammonite.$sess.cmd11$Helper.$anonfun$res11_1$1(cmd11.sc:8)\n    ammonite.$file.dummy.source.load$minusspinal$Helper.showRtl(Main.sc:28)\n    ammonite.$sess.cmd11$Helper.<init>(cmd11.sc:8)\n    ammonite.$sess.cmd11$.<init>(cmd11.sc:7)\n    ammonite.$sess.cmd11$.<clinit>(cmd11.sc)\n    ammonite.$sess.cmd11.$main(cmd11.sc)\n    ammonite.runtime.Evaluator$$anon$1.$anonfun$evalMain$1(Evaluator.scala:112)\n    ammonite.util.Util$.withContextClassloader(Util.scala:16)\n    ammonite.runtime.Evaluator$$anon$1.evalMain(Evaluator.scala:94)\n    ammonite.runtime.Evaluator$$anon$1.$anonfun$processLine$2(Evaluator.scala:131)\n    ammonite.util.Catching.map(Res.scala:117)\n    ammonite.runtime.Evaluator$$anon$1.$anonfun$processLine$1(Evaluator.scala:125)\n    ammonite.util.Res$Success.flatMap(Res.scala:62)\n    ammonite.runtime.Evaluator$$anon$1.processLine(Evaluator.scala:124)\n    ammonite.interp.Interpreter.$anonfun$evaluateLine$3(Interpreter.scala:295)\n    ammonite.util.Res$Success.flatMap(Res.scala:62)\n    ammonite.interp.Interpreter.$anonfun$evaluateLine$1(Interpreter.scala:281)\n    ammonite.util.Catching.flatMap(Res.scala:115)\n    ammonite.interp.Interpreter.evaluateLine(Interpreter.scala:280)\n    ammonite.interp.Interpreter.$anonfun$processLine$5(Interpreter.scala:267)\n    ammonite.util.Res$Success.flatMap(Res.scala:62)\n    ammonite.interp.Interpreter.$anonfun$processLine$3(Interpreter.scala:251)\n    ammonite.util.Res$Success.flatMap(Res.scala:62)\n    ammonite.interp.Interpreter.$anonfun$processLine$1(Interpreter.scala:244)\n    ammonite.util.Catching.flatMap(Res.scala:115)\n    ammonite.interp.Interpreter.processLine(Interpreter.scala:243)\n    almond.Execute.$anonfun$ammResult$9(Execute.scala:226)\n    almond.internals.CaptureImpl.$anonfun$apply$2(CaptureImpl.scala:53)\n    almond.internals.CaptureImpl.$anonfun$apply$1(CaptureImpl.scala:45)\n    almond.internals.CaptureImpl.apply(CaptureImpl.scala:45)\n    almond.Execute.capturingOutput(Execute.scala:164)\n    almond.Execute.$anonfun$ammResult$8(Execute.scala:222)\n    almond.Execute.$anonfun$withClientStdin$1(Execute.scala:144)\n    almond.Execute.withClientStdin(Execute.scala:140)\n    almond.Execute.$anonfun$ammResult$7(Execute.scala:222)\n    almond.Execute.withInputManager(Execute.scala:132)\n    almond.Execute.$anonfun$ammResult$6(Execute.scala:221)\n    ammonite.repl.Signaller.apply(Signaller.scala:28)\n    almond.Execute.interruptible(Execute.scala:181)\n    almond.Execute.$anonfun$ammResult$5(Execute.scala:220)\n    ammonite.util.Res$Success.flatMap(Res.scala:62)\n    almond.Execute.$anonfun$ammResult$1(Execute.scala:211)\n    almond.Execute.withOutputHandler(Execute.scala:155)\n    almond.Execute.ammResult(Execute.scala:211)\n    almond.Execute.apply(Execute.scala:308)\n    almond.ScalaInterpreter.execute(ScalaInterpreter.scala:115)\n    almond.interpreter.InterpreterToIOInterpreter.$anonfun$execute$2(InterpreterToIOInterpreter.scala:69)\n    cats.effect.internals.IORunLoop$.cats$effect$internals$IORunLoop$$loop(IORunLoop.scala:87)\n    cats.effect.internals.IORunLoop$RestartCallback.signal(IORunLoop.scala:351)\n    cats.effect.internals.IORunLoop$RestartCallback.apply(IORunLoop.scala:372)\n    cats.effect.internals.IORunLoop$RestartCallback.apply(IORunLoop.scala:312)\n    cats.effect.internals.IOShift$Tick.run(IOShift.scala:36)\n    java.util.concurrent.ThreadPoolExecutor.runWorker(ThreadPoolExecutor.java:1149)\n    java.util.concurrent.ThreadPoolExecutor$Worker.run(ThreadPoolExecutor.java:624)\n    java.lang.Thread.run(Thread.java:748)\n\n\n********************************************************************************\n********************************************************************************\n\nDesign's errors are listed above.\nSpinalHDL compiler exit stack : \n\u001b[39m\n  spinal.core.SpinalExit$.apply(\u001b[32mMisc.scala\u001b[39m:\u001b[32m396\u001b[39m)\n  spinal.core.SpinalError$.apply(\u001b[32mMisc.scala\u001b[39m:\u001b[32m447\u001b[39m)\n  spinal.core.internals.PhaseContext.checkPendingErrors(\u001b[32mPhase.scala\u001b[39m:\u001b[32m174\u001b[39m)\n  spinal.core.internals.PhaseContext.doPhase(\u001b[32mPhase.scala\u001b[39m:\u001b[32m190\u001b[39m)\n  spinal.core.internals.SpinalVerilogBoot$.$anonfun$singleShot$12(\u001b[32mPhase.scala\u001b[39m:\u001b[32m2362\u001b[39m)\n  spinal.core.internals.SpinalVerilogBoot$.$anonfun$singleShot$12$adapted(\u001b[32mPhase.scala\u001b[39m:\u001b[32m2360\u001b[39m)\n  scala.collection.mutable.ResizableArray.foreach(\u001b[32mResizableArray.scala\u001b[39m:\u001b[32m59\u001b[39m)\n  scala.collection.mutable.ResizableArray.foreach$(\u001b[32mResizableArray.scala\u001b[39m:\u001b[32m52\u001b[39m)\n  scala.collection.mutable.ArrayBuffer.foreach(\u001b[32mArrayBuffer.scala\u001b[39m:\u001b[32m48\u001b[39m)\n  spinal.core.internals.SpinalVerilogBoot$.$anonfun$singleShot$7(\u001b[32mPhase.scala\u001b[39m:\u001b[32m2360\u001b[39m)\n  spinal.core.ScopeProperty$.sandbox(\u001b[32mScopeProperty.scala\u001b[39m:\u001b[32m31\u001b[39m)\n  spinal.core.internals.SpinalVerilogBoot$.singleShot(\u001b[32mPhase.scala\u001b[39m:\u001b[32m2300\u001b[39m)\n  spinal.core.internals.SpinalVerilogBoot$.apply(\u001b[32mPhase.scala\u001b[39m:\u001b[32m2295\u001b[39m)\n  spinal.core.Spinal$.apply(\u001b[32mSpinal.scala\u001b[39m:\u001b[32m341\u001b[39m)\n  spinal.core.SpinalConfig.generate(\u001b[32mSpinal.scala\u001b[39m:\u001b[32m148\u001b[39m)\n  ammonite.$file.dummy.source.load$minusspinal$Helper.showRtl(\u001b[32mMain.sc\u001b[39m:\u001b[32m28\u001b[39m)\n  ammonite.$sess.cmd11$Helper.<init>(\u001b[32mcmd11.sc\u001b[39m:\u001b[32m8\u001b[39m)\n  ammonite.$sess.cmd11$.<init>(\u001b[32mcmd11.sc\u001b[39m:\u001b[32m7\u001b[39m)\n  ammonite.$sess.cmd11$.<clinit>(\u001b[32mcmd11.sc\u001b[39m:\u001b[32m-1\u001b[39m)"
     ]
    }
   ],
   "source": [
    "class TopLevel extends Component {\n",
    "  val io = new Bundle {\n",
    "    val a = in UInt(8 bits)\n",
    "  }\n",
    "  val tmp = U\"x42\"\n",
    "  io.a := tmp\n",
    "}\n",
    "showRtl(new TopLevel)"
   ]
  },
  {
   "cell_type": "markdown",
   "metadata": {},
   "source": [
    "A fix could be :"
   ]
  },
  {
   "cell_type": "code",
   "execution_count": 13,
   "metadata": {},
   "outputs": [
    {
     "name": "stdout",
     "output_type": "stream",
     "text": [
      "[Runtime] SpinalHDL v1.4.1    git head : d1b4746673438bc5f242515335278fa39a666c38\n",
      "[Runtime] JVM max memory : 1820.5MiB\n",
      "[Runtime] Current date : 2020.09.23 09:58:06\n",
      "[Progress] at 844.160 : Elaborate components\n",
      "[Progress] at 844.163 : Checks and transforms\n",
      "[Progress] at 844.166 : Generate Verilog\n",
      "[Done] at 844.184\n",
      "// Generator : SpinalHDL v1.4.1    git head : d1b4746673438bc5f242515335278fa39a666c38\n",
      "// Component : TopLevel\n",
      "// Git hash  : 3c8f67ad383413c37b9e460fd52ce27764b102b4\n",
      "\n",
      "\n",
      "\n",
      "module TopLevel (\n",
      "  output     [7:0]    io_a\n",
      ");\n",
      "  wire       [7:0]    tmp;\n",
      "\n",
      "  assign tmp = 8'h42;\n",
      "  assign io_a = tmp;\n",
      "\n",
      "endmodule\n",
      "\n"
     ]
    },
    {
     "data": {
      "text/plain": [
       "defined \u001b[32mclass\u001b[39m \u001b[36mTopLevel\u001b[39m"
      ]
     },
     "execution_count": 13,
     "metadata": {},
     "output_type": "execute_result"
    }
   ],
   "source": [
    "class TopLevel extends Component {\n",
    "  val io = new Bundle {\n",
    "    val a = out UInt(8 bits) // changed from in to out\n",
    "  }\n",
    "  val tmp = U\"x42\"\n",
    "  io.a := tmp\n",
    "}\n",
    "showRtl(new TopLevel)"
   ]
  },
  {
   "cell_type": "markdown",
   "metadata": {},
   "source": [
    "## Io bundle\n",
    "SpinalHDL will check that each io bundle contains only in/out/inout signals."
   ]
  },
  {
   "cell_type": "code",
   "execution_count": 14,
   "metadata": {},
   "outputs": [
    {
     "name": "stdout",
     "output_type": "stream",
     "text": [
      "[Runtime] SpinalHDL v1.4.1    git head : d1b4746673438bc5f242515335278fa39a666c38\n",
      "[Runtime] JVM max memory : 1820.5MiB\n",
      "[Runtime] Current date : 2020.09.23 09:59:41\n",
      "[Progress] at 939.086 : Elaborate components\n",
      "[Progress] at 939.088 : Checks and transforms\n",
      "\n",
      "**********************************************************************************************\n",
      "[Warning] Elaboration failed (1 error).\n",
      "          Spinal will restart with scala trace to help you to find the problem.\n",
      "**********************************************************************************************\n",
      "\n",
      "[Progress] at 939.091 : Elaborate components\n",
      "[Progress] at 939.092 : Checks and transforms\n"
     ]
    },
    {
     "ename": "",
     "evalue": "",
     "output_type": "error",
     "traceback": [
      "\u001b[31mspinal.core.SpinalExit: \n\n\n \n********************************************************************************\n********************************************************************************\n\nIO BUNDLE ERROR : A direction less (toplevel/io_a :  UInt[8 bits]) signal was defined into toplevel component's io bundle\n    ammonite.$sess.cmd13$Helper$TopLevel$$anon$1.<init>(cmd13.sc:3)\n    ammonite.$sess.cmd13$Helper$TopLevel.<init>(cmd13.sc:2)\n    ammonite.$sess.cmd13$Helper.$anonfun$res13_1$1(cmd13.sc:6)\n    ammonite.$file.dummy.source.load$minusspinal$Helper.showRtl(Main.sc:28)\n    ammonite.$sess.cmd13$Helper.<init>(cmd13.sc:6)\n    ammonite.$sess.cmd13$.<init>(cmd13.sc:7)\n    ammonite.$sess.cmd13$.<clinit>(cmd13.sc)\n    ammonite.$sess.cmd13.$main(cmd13.sc)\n    ammonite.runtime.Evaluator$$anon$1.$anonfun$evalMain$1(Evaluator.scala:112)\n    ammonite.util.Util$.withContextClassloader(Util.scala:16)\n    ammonite.runtime.Evaluator$$anon$1.evalMain(Evaluator.scala:94)\n    ammonite.runtime.Evaluator$$anon$1.$anonfun$processLine$2(Evaluator.scala:131)\n    ammonite.util.Catching.map(Res.scala:117)\n    ammonite.runtime.Evaluator$$anon$1.$anonfun$processLine$1(Evaluator.scala:125)\n    ammonite.util.Res$Success.flatMap(Res.scala:62)\n    ammonite.runtime.Evaluator$$anon$1.processLine(Evaluator.scala:124)\n    ammonite.interp.Interpreter.$anonfun$evaluateLine$3(Interpreter.scala:295)\n    ammonite.util.Res$Success.flatMap(Res.scala:62)\n    ammonite.interp.Interpreter.$anonfun$evaluateLine$1(Interpreter.scala:281)\n    ammonite.util.Catching.flatMap(Res.scala:115)\n    ammonite.interp.Interpreter.evaluateLine(Interpreter.scala:280)\n    ammonite.interp.Interpreter.$anonfun$processLine$5(Interpreter.scala:267)\n    ammonite.util.Res$Success.flatMap(Res.scala:62)\n    ammonite.interp.Interpreter.$anonfun$processLine$3(Interpreter.scala:251)\n    ammonite.util.Res$Success.flatMap(Res.scala:62)\n    ammonite.interp.Interpreter.$anonfun$processLine$1(Interpreter.scala:244)\n    ammonite.util.Catching.flatMap(Res.scala:115)\n    ammonite.interp.Interpreter.processLine(Interpreter.scala:243)\n    almond.Execute.$anonfun$ammResult$9(Execute.scala:226)\n    almond.internals.CaptureImpl.$anonfun$apply$2(CaptureImpl.scala:53)\n    almond.internals.CaptureImpl.$anonfun$apply$1(CaptureImpl.scala:45)\n    almond.internals.CaptureImpl.apply(CaptureImpl.scala:45)\n    almond.Execute.capturingOutput(Execute.scala:164)\n    almond.Execute.$anonfun$ammResult$8(Execute.scala:222)\n    almond.Execute.$anonfun$withClientStdin$1(Execute.scala:144)\n    almond.Execute.withClientStdin(Execute.scala:140)\n    almond.Execute.$anonfun$ammResult$7(Execute.scala:222)\n    almond.Execute.withInputManager(Execute.scala:132)\n    almond.Execute.$anonfun$ammResult$6(Execute.scala:221)\n    ammonite.repl.Signaller.apply(Signaller.scala:28)\n    almond.Execute.interruptible(Execute.scala:181)\n    almond.Execute.$anonfun$ammResult$5(Execute.scala:220)\n    ammonite.util.Res$Success.flatMap(Res.scala:62)\n    almond.Execute.$anonfun$ammResult$1(Execute.scala:211)\n    almond.Execute.withOutputHandler(Execute.scala:155)\n    almond.Execute.ammResult(Execute.scala:211)\n    almond.Execute.apply(Execute.scala:308)\n    almond.ScalaInterpreter.execute(ScalaInterpreter.scala:115)\n    almond.interpreter.InterpreterToIOInterpreter.$anonfun$execute$2(InterpreterToIOInterpreter.scala:69)\n    cats.effect.internals.IORunLoop$.cats$effect$internals$IORunLoop$$loop(IORunLoop.scala:87)\n    cats.effect.internals.IORunLoop$RestartCallback.signal(IORunLoop.scala:351)\n    cats.effect.internals.IORunLoop$RestartCallback.apply(IORunLoop.scala:372)\n    cats.effect.internals.IORunLoop$RestartCallback.apply(IORunLoop.scala:312)\n    cats.effect.internals.IOShift$Tick.run(IOShift.scala:36)\n    java.util.concurrent.ThreadPoolExecutor.runWorker(ThreadPoolExecutor.java:1149)\n    java.util.concurrent.ThreadPoolExecutor$Worker.run(ThreadPoolExecutor.java:624)\n    java.lang.Thread.run(Thread.java:748)\n\n\n********************************************************************************\n********************************************************************************\n\nDesign's errors are listed above.\nSpinalHDL compiler exit stack : \n\u001b[39m\n  spinal.core.SpinalExit$.apply(\u001b[32mMisc.scala\u001b[39m:\u001b[32m396\u001b[39m)\n  spinal.core.SpinalError$.apply(\u001b[32mMisc.scala\u001b[39m:\u001b[32m447\u001b[39m)\n  spinal.core.internals.PhaseContext.checkPendingErrors(\u001b[32mPhase.scala\u001b[39m:\u001b[32m174\u001b[39m)\n  spinal.core.internals.PhaseContext.doPhase(\u001b[32mPhase.scala\u001b[39m:\u001b[32m190\u001b[39m)\n  spinal.core.internals.SpinalVerilogBoot$.$anonfun$singleShot$12(\u001b[32mPhase.scala\u001b[39m:\u001b[32m2362\u001b[39m)\n  spinal.core.internals.SpinalVerilogBoot$.$anonfun$singleShot$12$adapted(\u001b[32mPhase.scala\u001b[39m:\u001b[32m2360\u001b[39m)\n  scala.collection.mutable.ResizableArray.foreach(\u001b[32mResizableArray.scala\u001b[39m:\u001b[32m59\u001b[39m)\n  scala.collection.mutable.ResizableArray.foreach$(\u001b[32mResizableArray.scala\u001b[39m:\u001b[32m52\u001b[39m)\n  scala.collection.mutable.ArrayBuffer.foreach(\u001b[32mArrayBuffer.scala\u001b[39m:\u001b[32m48\u001b[39m)\n  spinal.core.internals.SpinalVerilogBoot$.$anonfun$singleShot$7(\u001b[32mPhase.scala\u001b[39m:\u001b[32m2360\u001b[39m)\n  spinal.core.ScopeProperty$.sandbox(\u001b[32mScopeProperty.scala\u001b[39m:\u001b[32m31\u001b[39m)\n  spinal.core.internals.SpinalVerilogBoot$.singleShot(\u001b[32mPhase.scala\u001b[39m:\u001b[32m2300\u001b[39m)\n  spinal.core.internals.SpinalVerilogBoot$.apply(\u001b[32mPhase.scala\u001b[39m:\u001b[32m2295\u001b[39m)\n  spinal.core.Spinal$.apply(\u001b[32mSpinal.scala\u001b[39m:\u001b[32m341\u001b[39m)\n  spinal.core.SpinalConfig.generate(\u001b[32mSpinal.scala\u001b[39m:\u001b[32m148\u001b[39m)\n  ammonite.$file.dummy.source.load$minusspinal$Helper.showRtl(\u001b[32mMain.sc\u001b[39m:\u001b[32m28\u001b[39m)\n  ammonite.$sess.cmd13$Helper.<init>(\u001b[32mcmd13.sc\u001b[39m:\u001b[32m6\u001b[39m)\n  ammonite.$sess.cmd13$.<init>(\u001b[32mcmd13.sc\u001b[39m:\u001b[32m7\u001b[39m)\n  ammonite.$sess.cmd13$.<clinit>(\u001b[32mcmd13.sc\u001b[39m:\u001b[32m-1\u001b[39m)"
     ]
    }
   ],
   "source": [
    "class TopLevel extends Component {\n",
    "  val io = new Bundle {\n",
    "    val a = UInt(8 bits)\n",
    "  }\n",
    "}\n",
    "showRtl(new TopLevel)"
   ]
  },
  {
   "cell_type": "markdown",
   "metadata": {},
   "source": [
    "A fix could be:"
   ]
  },
  {
   "cell_type": "code",
   "execution_count": 15,
   "metadata": {},
   "outputs": [
    {
     "name": "stdout",
     "output_type": "stream",
     "text": [
      "[Runtime] SpinalHDL v1.4.1    git head : d1b4746673438bc5f242515335278fa39a666c38\n",
      "[Runtime] JVM max memory : 1820.5MiB\n",
      "[Runtime] Current date : 2020.09.23 09:59:48\n",
      "[Progress] at 946.852 : Elaborate components\n",
      "[Progress] at 946.854 : Checks and transforms\n",
      "[Progress] at 946.856 : Generate Verilog\n",
      "[Warning] 1 signals were pruned. You can call printPruned on the backend report to get more informations.\n",
      "[Done] at 946.880\n",
      "// Generator : SpinalHDL v1.4.1    git head : d1b4746673438bc5f242515335278fa39a666c38\n",
      "// Component : TopLevel\n",
      "// Git hash  : 3c8f67ad383413c37b9e460fd52ce27764b102b4\n",
      "\n",
      "\n",
      "\n",
      "module TopLevel (\n",
      "  input      [7:0]    io_a\n",
      ");\n",
      "\n",
      "\n",
      "endmodule\n",
      "\n"
     ]
    },
    {
     "data": {
      "text/plain": [
       "defined \u001b[32mclass\u001b[39m \u001b[36mTopLevel\u001b[39m"
      ]
     },
     "execution_count": 15,
     "metadata": {},
     "output_type": "execute_result"
    }
   ],
   "source": [
    "class TopLevel extends Component {\n",
    "  val io = new Bundle {\n",
    "    val a = in UInt(8 bits)\n",
    "  }\n",
    "}\n",
    "showRtl(new TopLevel)"
   ]
  },
  {
   "cell_type": "markdown",
   "metadata": {},
   "source": [
    "But if for meta hardware description reasons you realy want io.a to be directionless, you can do:"
   ]
  },
  {
   "cell_type": "code",
   "execution_count": 16,
   "metadata": {},
   "outputs": [
    {
     "name": "stdout",
     "output_type": "stream",
     "text": [
      "[Runtime] SpinalHDL v1.4.1    git head : d1b4746673438bc5f242515335278fa39a666c38\n",
      "[Runtime] JVM max memory : 1820.5MiB\n",
      "[Runtime] Current date : 2020.09.23 10:00:04\n",
      "[Progress] at 962.413 : Elaborate components\n",
      "[Progress] at 962.415 : Checks and transforms\n",
      "[Progress] at 962.417 : Generate Verilog\n",
      "[Warning] 1 signals were pruned. You can call printPruned on the backend report to get more informations.\n",
      "[Done] at 962.437\n",
      "// Generator : SpinalHDL v1.4.1    git head : d1b4746673438bc5f242515335278fa39a666c38\n",
      "// Component : TopLevel\n",
      "// Git hash  : 3c8f67ad383413c37b9e460fd52ce27764b102b4\n",
      "\n",
      "\n",
      "\n",
      "module TopLevel (\n",
      ");\n",
      "  wire       [7:0]    io_a;\n",
      "\n",
      "\n",
      "endmodule\n",
      "\n"
     ]
    },
    {
     "data": {
      "text/plain": [
       "defined \u001b[32mclass\u001b[39m \u001b[36mTopLevel\u001b[39m"
      ]
     },
     "execution_count": 16,
     "metadata": {},
     "output_type": "execute_result"
    }
   ],
   "source": [
    "class TopLevel extends Component {\n",
    "  val io = new Bundle {\n",
    "    val a = UInt(8 bits)\n",
    "  }\n",
    "  io.a.allowDirectionLessIo\n",
    "}\n",
    "showRtl(new TopLevel)"
   ]
  },
  {
   "cell_type": "markdown",
   "metadata": {},
   "source": [
    "## Latch detected\n",
    "SpinalHDL will check that no combinatorial signal will infer a latch during synthesis. In other words, that no combinatorial signals are partialy assigned."
   ]
  },
  {
   "cell_type": "code",
   "execution_count": 17,
   "metadata": {},
   "outputs": [
    {
     "name": "stdout",
     "output_type": "stream",
     "text": [
      "[Runtime] SpinalHDL v1.4.1    git head : d1b4746673438bc5f242515335278fa39a666c38\n",
      "[Runtime] JVM max memory : 1820.5MiB\n",
      "[Runtime] Current date : 2020.09.23 10:00:27\n",
      "[Progress] at 985.088 : Elaborate components\n",
      "[Progress] at 985.092 : Checks and transforms\n",
      "\n",
      "**********************************************************************************************\n",
      "[Warning] Elaboration failed (1 error).\n",
      "          Spinal will restart with scala trace to help you to find the problem.\n",
      "**********************************************************************************************\n",
      "\n",
      "[Progress] at 985.101 : Elaborate components\n",
      "[Progress] at 985.102 : Checks and transforms\n"
     ]
    },
    {
     "ename": "",
     "evalue": "",
     "output_type": "error",
     "traceback": [
      "\u001b[31mspinal.core.SpinalExit: \n\n\n \n********************************************************************************\n********************************************************************************\n\nLATCH DETECTED from the combinatorial signal (toplevel/a :  UInt[8 bits]), defined at\n    ammonite.$sess.cmd16$Helper$TopLevel.<init>(cmd16.sc:3)\n    ammonite.$sess.cmd16$Helper.$anonfun$res16_1$1(cmd16.sc:9)\n    ammonite.$file.dummy.source.load$minusspinal$Helper.showRtl(Main.sc:28)\n    ammonite.$sess.cmd16$Helper.<init>(cmd16.sc:9)\n    ammonite.$sess.cmd16$.<init>(cmd16.sc:7)\n    ammonite.$sess.cmd16$.<clinit>(cmd16.sc)\n    ammonite.$sess.cmd16.$main(cmd16.sc)\n    ammonite.runtime.Evaluator$$anon$1.$anonfun$evalMain$1(Evaluator.scala:112)\n    ammonite.util.Util$.withContextClassloader(Util.scala:16)\n    ammonite.runtime.Evaluator$$anon$1.evalMain(Evaluator.scala:94)\n    ammonite.runtime.Evaluator$$anon$1.$anonfun$processLine$2(Evaluator.scala:131)\n    ammonite.util.Catching.map(Res.scala:117)\n    ammonite.runtime.Evaluator$$anon$1.$anonfun$processLine$1(Evaluator.scala:125)\n    ammonite.util.Res$Success.flatMap(Res.scala:62)\n    ammonite.runtime.Evaluator$$anon$1.processLine(Evaluator.scala:124)\n    ammonite.interp.Interpreter.$anonfun$evaluateLine$3(Interpreter.scala:295)\n    ammonite.util.Res$Success.flatMap(Res.scala:62)\n    ammonite.interp.Interpreter.$anonfun$evaluateLine$1(Interpreter.scala:281)\n    ammonite.util.Catching.flatMap(Res.scala:115)\n    ammonite.interp.Interpreter.evaluateLine(Interpreter.scala:280)\n    ammonite.interp.Interpreter.$anonfun$processLine$5(Interpreter.scala:267)\n    ammonite.util.Res$Success.flatMap(Res.scala:62)\n    ammonite.interp.Interpreter.$anonfun$processLine$3(Interpreter.scala:251)\n    ammonite.util.Res$Success.flatMap(Res.scala:62)\n    ammonite.interp.Interpreter.$anonfun$processLine$1(Interpreter.scala:244)\n    ammonite.util.Catching.flatMap(Res.scala:115)\n    ammonite.interp.Interpreter.processLine(Interpreter.scala:243)\n    almond.Execute.$anonfun$ammResult$9(Execute.scala:226)\n    almond.internals.CaptureImpl.$anonfun$apply$2(CaptureImpl.scala:53)\n    almond.internals.CaptureImpl.$anonfun$apply$1(CaptureImpl.scala:45)\n    almond.internals.CaptureImpl.apply(CaptureImpl.scala:45)\n    almond.Execute.capturingOutput(Execute.scala:164)\n    almond.Execute.$anonfun$ammResult$8(Execute.scala:222)\n    almond.Execute.$anonfun$withClientStdin$1(Execute.scala:144)\n    almond.Execute.withClientStdin(Execute.scala:140)\n    almond.Execute.$anonfun$ammResult$7(Execute.scala:222)\n    almond.Execute.withInputManager(Execute.scala:132)\n    almond.Execute.$anonfun$ammResult$6(Execute.scala:221)\n    ammonite.repl.Signaller.apply(Signaller.scala:28)\n    almond.Execute.interruptible(Execute.scala:181)\n    almond.Execute.$anonfun$ammResult$5(Execute.scala:220)\n    ammonite.util.Res$Success.flatMap(Res.scala:62)\n    almond.Execute.$anonfun$ammResult$1(Execute.scala:211)\n    almond.Execute.withOutputHandler(Execute.scala:155)\n    almond.Execute.ammResult(Execute.scala:211)\n    almond.Execute.apply(Execute.scala:308)\n    almond.ScalaInterpreter.execute(ScalaInterpreter.scala:115)\n    almond.interpreter.InterpreterToIOInterpreter.$anonfun$execute$2(InterpreterToIOInterpreter.scala:69)\n    cats.effect.internals.IORunLoop$.cats$effect$internals$IORunLoop$$loop(IORunLoop.scala:87)\n    cats.effect.internals.IORunLoop$RestartCallback.signal(IORunLoop.scala:351)\n    cats.effect.internals.IORunLoop$RestartCallback.apply(IORunLoop.scala:372)\n    cats.effect.internals.IORunLoop$RestartCallback.apply(IORunLoop.scala:312)\n    cats.effect.internals.IOShift$Tick.run(IOShift.scala:36)\n    java.util.concurrent.ThreadPoolExecutor.runWorker(ThreadPoolExecutor.java:1149)\n    java.util.concurrent.ThreadPoolExecutor$Worker.run(ThreadPoolExecutor.java:624)\n    java.lang.Thread.run(Thread.java:748)\n\n\n********************************************************************************\n********************************************************************************\n\nDesign's errors are listed above.\nSpinalHDL compiler exit stack : \n\u001b[39m\n  spinal.core.SpinalExit$.apply(\u001b[32mMisc.scala\u001b[39m:\u001b[32m396\u001b[39m)\n  spinal.core.SpinalError$.apply(\u001b[32mMisc.scala\u001b[39m:\u001b[32m447\u001b[39m)\n  spinal.core.internals.PhaseContext.checkPendingErrors(\u001b[32mPhase.scala\u001b[39m:\u001b[32m174\u001b[39m)\n  spinal.core.internals.PhaseContext.doPhase(\u001b[32mPhase.scala\u001b[39m:\u001b[32m190\u001b[39m)\n  spinal.core.internals.SpinalVerilogBoot$.$anonfun$singleShot$12(\u001b[32mPhase.scala\u001b[39m:\u001b[32m2362\u001b[39m)\n  spinal.core.internals.SpinalVerilogBoot$.$anonfun$singleShot$12$adapted(\u001b[32mPhase.scala\u001b[39m:\u001b[32m2360\u001b[39m)\n  scala.collection.mutable.ResizableArray.foreach(\u001b[32mResizableArray.scala\u001b[39m:\u001b[32m59\u001b[39m)\n  scala.collection.mutable.ResizableArray.foreach$(\u001b[32mResizableArray.scala\u001b[39m:\u001b[32m52\u001b[39m)\n  scala.collection.mutable.ArrayBuffer.foreach(\u001b[32mArrayBuffer.scala\u001b[39m:\u001b[32m48\u001b[39m)\n  spinal.core.internals.SpinalVerilogBoot$.$anonfun$singleShot$7(\u001b[32mPhase.scala\u001b[39m:\u001b[32m2360\u001b[39m)\n  spinal.core.ScopeProperty$.sandbox(\u001b[32mScopeProperty.scala\u001b[39m:\u001b[32m31\u001b[39m)\n  spinal.core.internals.SpinalVerilogBoot$.singleShot(\u001b[32mPhase.scala\u001b[39m:\u001b[32m2300\u001b[39m)\n  spinal.core.internals.SpinalVerilogBoot$.apply(\u001b[32mPhase.scala\u001b[39m:\u001b[32m2295\u001b[39m)\n  spinal.core.Spinal$.apply(\u001b[32mSpinal.scala\u001b[39m:\u001b[32m341\u001b[39m)\n  spinal.core.SpinalConfig.generate(\u001b[32mSpinal.scala\u001b[39m:\u001b[32m148\u001b[39m)\n  ammonite.$file.dummy.source.load$minusspinal$Helper.showRtl(\u001b[32mMain.sc\u001b[39m:\u001b[32m28\u001b[39m)\n  ammonite.$sess.cmd16$Helper.<init>(\u001b[32mcmd16.sc\u001b[39m:\u001b[32m9\u001b[39m)\n  ammonite.$sess.cmd16$.<init>(\u001b[32mcmd16.sc\u001b[39m:\u001b[32m7\u001b[39m)\n  ammonite.$sess.cmd16$.<clinit>(\u001b[32mcmd16.sc\u001b[39m:\u001b[32m-1\u001b[39m)"
     ]
    }
   ],
   "source": [
    "class TopLevel extends Component {\n",
    "  val cond = in(Bool)\n",
    "  val a = UInt(8 bits)\n",
    "\n",
    "  when(cond){\n",
    "    a := 42\n",
    "  }\n",
    "}\n",
    "showRtl(new TopLevel)"
   ]
  },
  {
   "cell_type": "markdown",
   "metadata": {},
   "source": [
    "A fix could be:"
   ]
  },
  {
   "cell_type": "code",
   "execution_count": 18,
   "metadata": {},
   "outputs": [
    {
     "name": "stdout",
     "output_type": "stream",
     "text": [
      "[Runtime] SpinalHDL v1.4.1    git head : d1b4746673438bc5f242515335278fa39a666c38\n",
      "[Runtime] JVM max memory : 1820.5MiB\n",
      "[Runtime] Current date : 2020.09.23 10:01:02\n",
      "[Progress] at 1020.366 : Elaborate components\n",
      "[Progress] at 1020.367 : Checks and transforms\n",
      "[Progress] at 1020.371 : Generate Verilog\n",
      "[Warning] 2 signals were pruned. You can call printPruned on the backend report to get more informations.\n",
      "[Done] at 1020.406\n",
      "// Generator : SpinalHDL v1.4.1    git head : d1b4746673438bc5f242515335278fa39a666c38\n",
      "// Component : TopLevel\n",
      "// Git hash  : 3c8f67ad383413c37b9e460fd52ce27764b102b4\n",
      "\n",
      "\n",
      "\n",
      "module TopLevel (\n",
      "  input               cond\n",
      ");\n",
      "  reg        [7:0]    a;\n",
      "\n",
      "  always @ (*) begin\n",
      "    a = 8'h0;\n",
      "    if(cond)begin\n",
      "      a = 8'h2a;\n",
      "    end\n",
      "  end\n",
      "\n",
      "\n",
      "endmodule\n",
      "\n"
     ]
    },
    {
     "data": {
      "text/plain": [
       "defined \u001b[32mclass\u001b[39m \u001b[36mTopLevel\u001b[39m"
      ]
     },
     "execution_count": 18,
     "metadata": {},
     "output_type": "execute_result"
    }
   ],
   "source": [
    "class TopLevel extends Component {\n",
    "  val cond = in(Bool)\n",
    "  val a = UInt(8 bits)\n",
    "\n",
    "  a := 0\n",
    "  when(cond){\n",
    "    a := 42\n",
    "  }\n",
    "}\n",
    "showRtl(new TopLevel)"
   ]
  },
  {
   "cell_type": "markdown",
   "metadata": {},
   "source": [
    "## No driver on\n",
    "SpinalHDL will check that all combinatorial signals which have an impact on the design are assigned by something."
   ]
  },
  {
   "cell_type": "code",
   "execution_count": 19,
   "metadata": {},
   "outputs": [
    {
     "name": "stdout",
     "output_type": "stream",
     "text": [
      "[Runtime] SpinalHDL v1.4.1    git head : d1b4746673438bc5f242515335278fa39a666c38\n",
      "[Runtime] JVM max memory : 1820.5MiB\n",
      "[Runtime] Current date : 2020.09.23 10:01:53\n",
      "[Progress] at 1071.628 : Elaborate components\n",
      "[Progress] at 1071.629 : Checks and transforms\n",
      "\n",
      "**********************************************************************************************\n",
      "[Warning] Elaboration failed (1 error).\n",
      "          Spinal will restart with scala trace to help you to find the problem.\n",
      "**********************************************************************************************\n",
      "\n",
      "[Progress] at 1071.632 : Elaborate components\n",
      "[Progress] at 1071.633 : Checks and transforms\n"
     ]
    },
    {
     "ename": "",
     "evalue": "",
     "output_type": "error",
     "traceback": [
      "\u001b[31mspinal.core.SpinalExit: \n\n\n \n********************************************************************************\n********************************************************************************\n\nNO DRIVER ON (toplevel/a :  UInt[8 bits]), defined at\n    ammonite.$sess.cmd18$Helper$TopLevel.<init>(cmd18.sc:3)\n    ammonite.$sess.cmd18$Helper.$anonfun$res18_1$1(cmd18.sc:6)\n    ammonite.$file.dummy.source.load$minusspinal$Helper.showRtl(Main.sc:28)\n    ammonite.$sess.cmd18$Helper.<init>(cmd18.sc:6)\n    ammonite.$sess.cmd18$.<init>(cmd18.sc:7)\n    ammonite.$sess.cmd18$.<clinit>(cmd18.sc)\n    ammonite.$sess.cmd18.$main(cmd18.sc)\n    ammonite.runtime.Evaluator$$anon$1.$anonfun$evalMain$1(Evaluator.scala:112)\n    ammonite.util.Util$.withContextClassloader(Util.scala:16)\n    ammonite.runtime.Evaluator$$anon$1.evalMain(Evaluator.scala:94)\n    ammonite.runtime.Evaluator$$anon$1.$anonfun$processLine$2(Evaluator.scala:131)\n    ammonite.util.Catching.map(Res.scala:117)\n    ammonite.runtime.Evaluator$$anon$1.$anonfun$processLine$1(Evaluator.scala:125)\n    ammonite.util.Res$Success.flatMap(Res.scala:62)\n    ammonite.runtime.Evaluator$$anon$1.processLine(Evaluator.scala:124)\n    ammonite.interp.Interpreter.$anonfun$evaluateLine$3(Interpreter.scala:295)\n    ammonite.util.Res$Success.flatMap(Res.scala:62)\n    ammonite.interp.Interpreter.$anonfun$evaluateLine$1(Interpreter.scala:281)\n    ammonite.util.Catching.flatMap(Res.scala:115)\n    ammonite.interp.Interpreter.evaluateLine(Interpreter.scala:280)\n    ammonite.interp.Interpreter.$anonfun$processLine$5(Interpreter.scala:267)\n    ammonite.util.Res$Success.flatMap(Res.scala:62)\n    ammonite.interp.Interpreter.$anonfun$processLine$3(Interpreter.scala:251)\n    ammonite.util.Res$Success.flatMap(Res.scala:62)\n    ammonite.interp.Interpreter.$anonfun$processLine$1(Interpreter.scala:244)\n    ammonite.util.Catching.flatMap(Res.scala:115)\n    ammonite.interp.Interpreter.processLine(Interpreter.scala:243)\n    almond.Execute.$anonfun$ammResult$9(Execute.scala:226)\n    almond.internals.CaptureImpl.$anonfun$apply$2(CaptureImpl.scala:53)\n    almond.internals.CaptureImpl.$anonfun$apply$1(CaptureImpl.scala:45)\n    almond.internals.CaptureImpl.apply(CaptureImpl.scala:45)\n    almond.Execute.capturingOutput(Execute.scala:164)\n    almond.Execute.$anonfun$ammResult$8(Execute.scala:222)\n    almond.Execute.$anonfun$withClientStdin$1(Execute.scala:144)\n    almond.Execute.withClientStdin(Execute.scala:140)\n    almond.Execute.$anonfun$ammResult$7(Execute.scala:222)\n    almond.Execute.withInputManager(Execute.scala:132)\n    almond.Execute.$anonfun$ammResult$6(Execute.scala:221)\n    ammonite.repl.Signaller.apply(Signaller.scala:28)\n    almond.Execute.interruptible(Execute.scala:181)\n    almond.Execute.$anonfun$ammResult$5(Execute.scala:220)\n    ammonite.util.Res$Success.flatMap(Res.scala:62)\n    almond.Execute.$anonfun$ammResult$1(Execute.scala:211)\n    almond.Execute.withOutputHandler(Execute.scala:155)\n    almond.Execute.ammResult(Execute.scala:211)\n    almond.Execute.apply(Execute.scala:308)\n    almond.ScalaInterpreter.execute(ScalaInterpreter.scala:115)\n    almond.interpreter.InterpreterToIOInterpreter.$anonfun$execute$2(InterpreterToIOInterpreter.scala:69)\n    cats.effect.internals.IORunLoop$.cats$effect$internals$IORunLoop$$loop(IORunLoop.scala:87)\n    cats.effect.internals.IORunLoop$RestartCallback.signal(IORunLoop.scala:351)\n    cats.effect.internals.IORunLoop$RestartCallback.apply(IORunLoop.scala:372)\n    cats.effect.internals.IORunLoop$RestartCallback.apply(IORunLoop.scala:312)\n    cats.effect.internals.IOShift$Tick.run(IOShift.scala:36)\n    java.util.concurrent.ThreadPoolExecutor.runWorker(ThreadPoolExecutor.java:1149)\n    java.util.concurrent.ThreadPoolExecutor$Worker.run(ThreadPoolExecutor.java:624)\n    java.lang.Thread.run(Thread.java:748)\n\n\n********************************************************************************\n********************************************************************************\n\nDesign's errors are listed above.\nSpinalHDL compiler exit stack : \n\u001b[39m\n  spinal.core.SpinalExit$.apply(\u001b[32mMisc.scala\u001b[39m:\u001b[32m396\u001b[39m)\n  spinal.core.SpinalError$.apply(\u001b[32mMisc.scala\u001b[39m:\u001b[32m447\u001b[39m)\n  spinal.core.internals.PhaseContext.checkPendingErrors(\u001b[32mPhase.scala\u001b[39m:\u001b[32m174\u001b[39m)\n  spinal.core.internals.PhaseContext.doPhase(\u001b[32mPhase.scala\u001b[39m:\u001b[32m190\u001b[39m)\n  spinal.core.internals.SpinalVerilogBoot$.$anonfun$singleShot$12(\u001b[32mPhase.scala\u001b[39m:\u001b[32m2362\u001b[39m)\n  spinal.core.internals.SpinalVerilogBoot$.$anonfun$singleShot$12$adapted(\u001b[32mPhase.scala\u001b[39m:\u001b[32m2360\u001b[39m)\n  scala.collection.mutable.ResizableArray.foreach(\u001b[32mResizableArray.scala\u001b[39m:\u001b[32m59\u001b[39m)\n  scala.collection.mutable.ResizableArray.foreach$(\u001b[32mResizableArray.scala\u001b[39m:\u001b[32m52\u001b[39m)\n  scala.collection.mutable.ArrayBuffer.foreach(\u001b[32mArrayBuffer.scala\u001b[39m:\u001b[32m48\u001b[39m)\n  spinal.core.internals.SpinalVerilogBoot$.$anonfun$singleShot$7(\u001b[32mPhase.scala\u001b[39m:\u001b[32m2360\u001b[39m)\n  spinal.core.ScopeProperty$.sandbox(\u001b[32mScopeProperty.scala\u001b[39m:\u001b[32m31\u001b[39m)\n  spinal.core.internals.SpinalVerilogBoot$.singleShot(\u001b[32mPhase.scala\u001b[39m:\u001b[32m2300\u001b[39m)\n  spinal.core.internals.SpinalVerilogBoot$.apply(\u001b[32mPhase.scala\u001b[39m:\u001b[32m2295\u001b[39m)\n  spinal.core.Spinal$.apply(\u001b[32mSpinal.scala\u001b[39m:\u001b[32m341\u001b[39m)\n  spinal.core.SpinalConfig.generate(\u001b[32mSpinal.scala\u001b[39m:\u001b[32m148\u001b[39m)\n  ammonite.$file.dummy.source.load$minusspinal$Helper.showRtl(\u001b[32mMain.sc\u001b[39m:\u001b[32m28\u001b[39m)\n  ammonite.$sess.cmd18$Helper.<init>(\u001b[32mcmd18.sc\u001b[39m:\u001b[32m6\u001b[39m)\n  ammonite.$sess.cmd18$.<init>(\u001b[32mcmd18.sc\u001b[39m:\u001b[32m7\u001b[39m)\n  ammonite.$sess.cmd18$.<clinit>(\u001b[32mcmd18.sc\u001b[39m:\u001b[32m-1\u001b[39m)"
     ]
    }
   ],
   "source": [
    "class TopLevel extends Component {\n",
    "  val result = out(UInt(8 bits))\n",
    "  val a = UInt(8 bits)\n",
    "  result := a\n",
    "}\n",
    "showRtl(new TopLevel)"
   ]
  },
  {
   "cell_type": "markdown",
   "metadata": {},
   "source": [
    "A fix could be:"
   ]
  },
  {
   "cell_type": "code",
   "execution_count": 20,
   "metadata": {},
   "outputs": [
    {
     "name": "stdout",
     "output_type": "stream",
     "text": [
      "[Runtime] SpinalHDL v1.4.1    git head : d1b4746673438bc5f242515335278fa39a666c38\n",
      "[Runtime] JVM max memory : 1820.5MiB\n",
      "[Runtime] Current date : 2020.09.23 10:02:11\n",
      "[Progress] at 1089.433 : Elaborate components\n",
      "[Progress] at 1089.434 : Checks and transforms\n",
      "[Progress] at 1089.436 : Generate Verilog\n",
      "[Done] at 1089.458\n",
      "// Generator : SpinalHDL v1.4.1    git head : d1b4746673438bc5f242515335278fa39a666c38\n",
      "// Component : TopLevel\n",
      "// Git hash  : 3c8f67ad383413c37b9e460fd52ce27764b102b4\n",
      "\n",
      "\n",
      "\n",
      "module TopLevel (\n",
      "  output     [7:0]    result\n",
      ");\n",
      "  wire       [7:0]    a;\n",
      "\n",
      "  assign a = 8'h2a;\n",
      "  assign result = a;\n",
      "\n",
      "endmodule\n",
      "\n"
     ]
    },
    {
     "data": {
      "text/plain": [
       "defined \u001b[32mclass\u001b[39m \u001b[36mTopLevel\u001b[39m"
      ]
     },
     "execution_count": 20,
     "metadata": {},
     "output_type": "execute_result"
    }
   ],
   "source": [
    "class TopLevel extends Component {\n",
    "  val result = out(UInt(8 bits))\n",
    "  val a = UInt(8 bits)\n",
    "  a := 42\n",
    "  result := a\n",
    "}\n",
    "showRtl(new TopLevel)"
   ]
  },
  {
   "cell_type": "markdown",
   "metadata": {},
   "source": [
    "## NullPointerException\n",
    "NullPointerException is a Scala runtime reported error which can happen when a variable is accessed before it was initialised."
   ]
  },
  {
   "cell_type": "code",
   "execution_count": 21,
   "metadata": {},
   "outputs": [
    {
     "name": "stdout",
     "output_type": "stream",
     "text": [
      "[Runtime] SpinalHDL v1.4.1    git head : d1b4746673438bc5f242515335278fa39a666c38\n",
      "[Runtime] JVM max memory : 1820.5MiB\n",
      "[Runtime] Current date : 2020.09.23 10:02:34\n",
      "[Progress] at 1112.670 : Elaborate components\n",
      "\n",
      "ERROR !\n",
      "A null pointer access has been detected in the JVM.\n",
      "This could happen when in your SpinalHDL description, you access an signal which is only defined further.\n",
      "For instance :\n",
      "  val result = Bool\n",
      "  result := a ^ b  //a and b can't be accessed there because they are only defined one line below (Software rule of execution order)\n",
      "  val a,b = Bool\n",
      "          \n"
     ]
    },
    {
     "ename": "",
     "evalue": "",
     "output_type": "error",
     "traceback": [
      "\u001b[31mjava.lang.NullPointerException\u001b[39m\n  ammonite.$sess.cmd20$Helper$TopLevel.<init>(\u001b[32mcmd20.sc\u001b[39m:\u001b[32m2\u001b[39m)\n  ammonite.$sess.cmd20$Helper.$anonfun$res20_1$1(\u001b[32mcmd20.sc\u001b[39m:\u001b[32m5\u001b[39m)\n  spinal.core.internals.PhaseCreateComponent.impl(\u001b[32mPhase.scala\u001b[39m:\u001b[32m2125\u001b[39m)\n  spinal.core.internals.PhaseContext.doPhase(\u001b[32mPhase.scala\u001b[39m:\u001b[32m180\u001b[39m)\n  spinal.core.internals.SpinalVerilogBoot$.$anonfun$singleShot$12(\u001b[32mPhase.scala\u001b[39m:\u001b[32m2362\u001b[39m)\n  spinal.core.internals.SpinalVerilogBoot$.$anonfun$singleShot$12$adapted(\u001b[32mPhase.scala\u001b[39m:\u001b[32m2360\u001b[39m)\n  scala.collection.mutable.ResizableArray.foreach(\u001b[32mResizableArray.scala\u001b[39m:\u001b[32m59\u001b[39m)\n  scala.collection.mutable.ResizableArray.foreach$(\u001b[32mResizableArray.scala\u001b[39m:\u001b[32m52\u001b[39m)\n  scala.collection.mutable.ArrayBuffer.foreach(\u001b[32mArrayBuffer.scala\u001b[39m:\u001b[32m48\u001b[39m)\n  spinal.core.internals.SpinalVerilogBoot$.$anonfun$singleShot$7(\u001b[32mPhase.scala\u001b[39m:\u001b[32m2360\u001b[39m)\n  spinal.core.ScopeProperty$.sandbox(\u001b[32mScopeProperty.scala\u001b[39m:\u001b[32m31\u001b[39m)\n  spinal.core.internals.SpinalVerilogBoot$.singleShot(\u001b[32mPhase.scala\u001b[39m:\u001b[32m2300\u001b[39m)\n  spinal.core.internals.SpinalVerilogBoot$.apply(\u001b[32mPhase.scala\u001b[39m:\u001b[32m2270\u001b[39m)\n  spinal.core.Spinal$.apply(\u001b[32mSpinal.scala\u001b[39m:\u001b[32m341\u001b[39m)\n  spinal.core.SpinalConfig.generate(\u001b[32mSpinal.scala\u001b[39m:\u001b[32m148\u001b[39m)\n  ammonite.$file.dummy.source.load$minusspinal$Helper.showRtl(\u001b[32mMain.sc\u001b[39m:\u001b[32m28\u001b[39m)\n  ammonite.$sess.cmd20$Helper.<init>(\u001b[32mcmd20.sc\u001b[39m:\u001b[32m5\u001b[39m)\n  ammonite.$sess.cmd20$.<init>(\u001b[32mcmd20.sc\u001b[39m:\u001b[32m7\u001b[39m)\n  ammonite.$sess.cmd20$.<clinit>(\u001b[32mcmd20.sc\u001b[39m:\u001b[32m-1\u001b[39m)"
     ]
    }
   ],
   "source": [
    "class TopLevel extends Component {\n",
    "  a := 42\n",
    "  val a = UInt(8 bits)\n",
    "}\n",
    "showRtl(new TopLevel)"
   ]
  },
  {
   "cell_type": "markdown",
   "metadata": {},
   "source": [
    "A fix could be:"
   ]
  },
  {
   "cell_type": "code",
   "execution_count": 22,
   "metadata": {},
   "outputs": [
    {
     "name": "stdout",
     "output_type": "stream",
     "text": [
      "[Runtime] SpinalHDL v1.4.1    git head : d1b4746673438bc5f242515335278fa39a666c38\n",
      "[Runtime] JVM max memory : 1820.5MiB\n",
      "[Runtime] Current date : 2020.09.23 10:02:59\n",
      "[Progress] at 1137.803 : Elaborate components\n",
      "[Progress] at 1137.804 : Checks and transforms\n",
      "[Progress] at 1137.806 : Generate Verilog\n",
      "[Warning] 1 signals were pruned. You can call printPruned on the backend report to get more informations.\n",
      "[Done] at 1137.829\n",
      "// Generator : SpinalHDL v1.4.1    git head : d1b4746673438bc5f242515335278fa39a666c38\n",
      "// Component : TopLevel\n",
      "// Git hash  : 3c8f67ad383413c37b9e460fd52ce27764b102b4\n",
      "\n",
      "\n",
      "\n",
      "module TopLevel (\n",
      ");\n",
      "  wire       [7:0]    a;\n",
      "\n",
      "  assign a = 8'h2a;\n",
      "\n",
      "endmodule\n",
      "\n"
     ]
    },
    {
     "data": {
      "text/plain": [
       "defined \u001b[32mclass\u001b[39m \u001b[36mTopLevel\u001b[39m"
      ]
     },
     "execution_count": 22,
     "metadata": {},
     "output_type": "execute_result"
    }
   ],
   "source": [
    "class TopLevel extends Component {\n",
    "  val a = UInt(8 bits)\n",
    "  a := 42\n",
    "}\n",
    "showRtl(new TopLevel)"
   ]
  },
  {
   "cell_type": "markdown",
   "metadata": {},
   "source": [
    "**Issue explanation :**\n",
    "SpinalHDL is not a language, it is a Scala library, which means it obeys the same rules as the Scala general purpose programming language. When you run your SpinalHDL hardware description to generate the corresponding VHDL/Verilog RTL, your SpinalHDL hardware description will be executed as a Scala programm, and a will be a null reference until the program executes val a = UInt(8 bits), so trying to assign it before then will result in a NullPointerException."
   ]
  },
  {
   "cell_type": "markdown",
   "metadata": {},
   "source": [
    "## Register defined as component input\n",
    "In SpinalHDL, you are not allowed to define a component that has a register as an input. The reasoning behind this is to prevent surprises when the user tries to drive the inputs of child components with the registered signal. If a registered input is desired, you will need to declare the unregistered input in the io bundle, and register the signal in the body of the component."
   ]
  },
  {
   "cell_type": "code",
   "execution_count": 23,
   "metadata": {},
   "outputs": [
    {
     "name": "stdout",
     "output_type": "stream",
     "text": [
      "[Runtime] SpinalHDL v1.4.1    git head : d1b4746673438bc5f242515335278fa39a666c38\n",
      "[Runtime] JVM max memory : 1820.5MiB\n",
      "[Runtime] Current date : 2020.09.23 10:05:26\n",
      "[Progress] at 1284.515 : Elaborate components\n",
      "[Progress] at 1284.517 : Checks and transforms\n",
      "\n",
      "**********************************************************************************************\n",
      "[Warning] Elaboration failed (1 error).\n",
      "          Spinal will restart with scala trace to help you to find the problem.\n",
      "**********************************************************************************************\n",
      "\n",
      "[Progress] at 1284.519 : Elaborate components\n",
      "[Progress] at 1284.521 : Checks and transforms\n"
     ]
    },
    {
     "ename": "",
     "evalue": "",
     "output_type": "error",
     "traceback": [
      "\u001b[31mspinal.core.SpinalExit: \n\n\n \n********************************************************************************\n********************************************************************************\n\nREGISTER DEFINED AS COMPONENT INPUT : (toplevel/io_a : in UInt[8 bits]) is defined as a registered input of the toplevel component, but isn't allowed.\n    ammonite.$sess.cmd22$Helper$TopLevel$$anon$1.$anonfun$a$1(cmd22.sc:3)\n    ammonite.$sess.cmd22$Helper$TopLevel$$anon$1.<init>(cmd22.sc:3)\n    ammonite.$sess.cmd22$Helper$TopLevel.<init>(cmd22.sc:2)\n    ammonite.$sess.cmd22$Helper.$anonfun$res22_1$1(cmd22.sc:6)\n    ammonite.$file.dummy.source.load$minusspinal$Helper.showRtl(Main.sc:28)\n    ammonite.$sess.cmd22$Helper.<init>(cmd22.sc:6)\n    ammonite.$sess.cmd22$.<init>(cmd22.sc:7)\n    ammonite.$sess.cmd22$.<clinit>(cmd22.sc)\n    ammonite.$sess.cmd22.$main(cmd22.sc)\n    ammonite.runtime.Evaluator$$anon$1.$anonfun$evalMain$1(Evaluator.scala:112)\n    ammonite.util.Util$.withContextClassloader(Util.scala:16)\n    ammonite.runtime.Evaluator$$anon$1.evalMain(Evaluator.scala:94)\n    ammonite.runtime.Evaluator$$anon$1.$anonfun$processLine$2(Evaluator.scala:131)\n    ammonite.util.Catching.map(Res.scala:117)\n    ammonite.runtime.Evaluator$$anon$1.$anonfun$processLine$1(Evaluator.scala:125)\n    ammonite.util.Res$Success.flatMap(Res.scala:62)\n    ammonite.runtime.Evaluator$$anon$1.processLine(Evaluator.scala:124)\n    ammonite.interp.Interpreter.$anonfun$evaluateLine$3(Interpreter.scala:295)\n    ammonite.util.Res$Success.flatMap(Res.scala:62)\n    ammonite.interp.Interpreter.$anonfun$evaluateLine$1(Interpreter.scala:281)\n    ammonite.util.Catching.flatMap(Res.scala:115)\n    ammonite.interp.Interpreter.evaluateLine(Interpreter.scala:280)\n    ammonite.interp.Interpreter.$anonfun$processLine$5(Interpreter.scala:267)\n    ammonite.util.Res$Success.flatMap(Res.scala:62)\n    ammonite.interp.Interpreter.$anonfun$processLine$3(Interpreter.scala:251)\n    ammonite.util.Res$Success.flatMap(Res.scala:62)\n    ammonite.interp.Interpreter.$anonfun$processLine$1(Interpreter.scala:244)\n    ammonite.util.Catching.flatMap(Res.scala:115)\n    ammonite.interp.Interpreter.processLine(Interpreter.scala:243)\n    almond.Execute.$anonfun$ammResult$9(Execute.scala:226)\n    almond.internals.CaptureImpl.$anonfun$apply$2(CaptureImpl.scala:53)\n    almond.internals.CaptureImpl.$anonfun$apply$1(CaptureImpl.scala:45)\n    almond.internals.CaptureImpl.apply(CaptureImpl.scala:45)\n    almond.Execute.capturingOutput(Execute.scala:164)\n    almond.Execute.$anonfun$ammResult$8(Execute.scala:222)\n    almond.Execute.$anonfun$withClientStdin$1(Execute.scala:144)\n    almond.Execute.withClientStdin(Execute.scala:140)\n    almond.Execute.$anonfun$ammResult$7(Execute.scala:222)\n    almond.Execute.withInputManager(Execute.scala:132)\n    almond.Execute.$anonfun$ammResult$6(Execute.scala:221)\n    ammonite.repl.Signaller.apply(Signaller.scala:28)\n    almond.Execute.interruptible(Execute.scala:181)\n    almond.Execute.$anonfun$ammResult$5(Execute.scala:220)\n    ammonite.util.Res$Success.flatMap(Res.scala:62)\n    almond.Execute.$anonfun$ammResult$1(Execute.scala:211)\n    almond.Execute.withOutputHandler(Execute.scala:155)\n    almond.Execute.ammResult(Execute.scala:211)\n    almond.Execute.apply(Execute.scala:308)\n    almond.ScalaInterpreter.execute(ScalaInterpreter.scala:115)\n    almond.interpreter.InterpreterToIOInterpreter.$anonfun$execute$2(InterpreterToIOInterpreter.scala:69)\n    cats.effect.internals.IORunLoop$.cats$effect$internals$IORunLoop$$loop(IORunLoop.scala:87)\n    cats.effect.internals.IORunLoop$RestartCallback.signal(IORunLoop.scala:351)\n    cats.effect.internals.IORunLoop$RestartCallback.apply(IORunLoop.scala:372)\n    cats.effect.internals.IORunLoop$RestartCallback.apply(IORunLoop.scala:312)\n    cats.effect.internals.IOShift$Tick.run(IOShift.scala:36)\n    java.util.concurrent.ThreadPoolExecutor.runWorker(ThreadPoolExecutor.java:1149)\n    java.util.concurrent.ThreadPoolExecutor$Worker.run(ThreadPoolExecutor.java:624)\n    java.lang.Thread.run(Thread.java:748)\n\n\n********************************************************************************\n********************************************************************************\n\nDesign's errors are listed above.\nSpinalHDL compiler exit stack : \n\u001b[39m\n  spinal.core.SpinalExit$.apply(\u001b[32mMisc.scala\u001b[39m:\u001b[32m396\u001b[39m)\n  spinal.core.SpinalError$.apply(\u001b[32mMisc.scala\u001b[39m:\u001b[32m447\u001b[39m)\n  spinal.core.internals.PhaseContext.checkPendingErrors(\u001b[32mPhase.scala\u001b[39m:\u001b[32m174\u001b[39m)\n  spinal.core.internals.PhaseContext.doPhase(\u001b[32mPhase.scala\u001b[39m:\u001b[32m190\u001b[39m)\n  spinal.core.internals.SpinalVerilogBoot$.$anonfun$singleShot$12(\u001b[32mPhase.scala\u001b[39m:\u001b[32m2362\u001b[39m)\n  spinal.core.internals.SpinalVerilogBoot$.$anonfun$singleShot$12$adapted(\u001b[32mPhase.scala\u001b[39m:\u001b[32m2360\u001b[39m)\n  scala.collection.mutable.ResizableArray.foreach(\u001b[32mResizableArray.scala\u001b[39m:\u001b[32m59\u001b[39m)\n  scala.collection.mutable.ResizableArray.foreach$(\u001b[32mResizableArray.scala\u001b[39m:\u001b[32m52\u001b[39m)\n  scala.collection.mutable.ArrayBuffer.foreach(\u001b[32mArrayBuffer.scala\u001b[39m:\u001b[32m48\u001b[39m)\n  spinal.core.internals.SpinalVerilogBoot$.$anonfun$singleShot$7(\u001b[32mPhase.scala\u001b[39m:\u001b[32m2360\u001b[39m)\n  spinal.core.ScopeProperty$.sandbox(\u001b[32mScopeProperty.scala\u001b[39m:\u001b[32m31\u001b[39m)\n  spinal.core.internals.SpinalVerilogBoot$.singleShot(\u001b[32mPhase.scala\u001b[39m:\u001b[32m2300\u001b[39m)\n  spinal.core.internals.SpinalVerilogBoot$.apply(\u001b[32mPhase.scala\u001b[39m:\u001b[32m2295\u001b[39m)\n  spinal.core.Spinal$.apply(\u001b[32mSpinal.scala\u001b[39m:\u001b[32m341\u001b[39m)\n  spinal.core.SpinalConfig.generate(\u001b[32mSpinal.scala\u001b[39m:\u001b[32m148\u001b[39m)\n  ammonite.$file.dummy.source.load$minusspinal$Helper.showRtl(\u001b[32mMain.sc\u001b[39m:\u001b[32m28\u001b[39m)\n  ammonite.$sess.cmd22$Helper.<init>(\u001b[32mcmd22.sc\u001b[39m:\u001b[32m6\u001b[39m)\n  ammonite.$sess.cmd22$.<init>(\u001b[32mcmd22.sc\u001b[39m:\u001b[32m7\u001b[39m)\n  ammonite.$sess.cmd22$.<clinit>(\u001b[32mcmd22.sc\u001b[39m:\u001b[32m-1\u001b[39m)"
     ]
    }
   ],
   "source": [
    "class TopLevel extends Component {\n",
    "  val io = new Bundle {\n",
    "    val a = in(Reg(UInt(8 bits)))\n",
    "  }\n",
    "}\n",
    "showRtl(new TopLevel)"
   ]
  },
  {
   "cell_type": "code",
   "execution_count": 24,
   "metadata": {},
   "outputs": [
    {
     "name": "stdout",
     "output_type": "stream",
     "text": [
      "[Runtime] SpinalHDL v1.4.1    git head : d1b4746673438bc5f242515335278fa39a666c38\n",
      "[Runtime] JVM max memory : 1820.5MiB\n",
      "[Runtime] Current date : 2020.09.23 10:05:36\n",
      "[Progress] at 1294.353 : Elaborate components\n",
      "[Progress] at 1294.355 : Checks and transforms\n",
      "[Progress] at 1294.357 : Generate Verilog\n",
      "[Warning] 1 signals were pruned. You can call printPruned on the backend report to get more informations.\n",
      "[Done] at 1294.384\n",
      "// Generator : SpinalHDL v1.4.1    git head : d1b4746673438bc5f242515335278fa39a666c38\n",
      "// Component : TopLevel\n",
      "// Git hash  : 3c8f67ad383413c37b9e460fd52ce27764b102b4\n",
      "\n",
      "\n",
      "\n",
      "module TopLevel (\n",
      "  input      [7:0]    io_a\n",
      ");\n",
      "\n",
      "\n",
      "endmodule\n",
      "\n"
     ]
    },
    {
     "data": {
      "text/plain": [
       "defined \u001b[32mclass\u001b[39m \u001b[36mTopLevel\u001b[39m"
      ]
     },
     "execution_count": 24,
     "metadata": {},
     "output_type": "execute_result"
    }
   ],
   "source": [
    "class TopLevel extends Component {\n",
    "  val io = new Bundle {\n",
    "    val a = in UInt(8 bits)\n",
    "  }\n",
    "}\n",
    "showRtl(new TopLevel)"
   ]
  },
  {
   "cell_type": "markdown",
   "metadata": {},
   "source": [
    "If a registered a is really wanted, it can be done like so:"
   ]
  },
  {
   "cell_type": "code",
   "execution_count": 25,
   "metadata": {},
   "outputs": [
    {
     "name": "stdout",
     "output_type": "stream",
     "text": [
      "[Runtime] SpinalHDL v1.4.1    git head : d1b4746673438bc5f242515335278fa39a666c38\n",
      "[Runtime] JVM max memory : 1820.5MiB\n",
      "[Runtime] Current date : 2020.09.23 10:05:45\n",
      "[Progress] at 1303.385 : Elaborate components\n",
      "[Progress] at 1303.387 : Checks and transforms\n",
      "[Progress] at 1303.390 : Generate Verilog\n",
      "[Warning] 4 signals were pruned. You can call printPruned on the backend report to get more informations.\n",
      "[Done] at 1303.417\n",
      "// Generator : SpinalHDL v1.4.1    git head : d1b4746673438bc5f242515335278fa39a666c38\n",
      "// Component : TopLevel\n",
      "// Git hash  : 3c8f67ad383413c37b9e460fd52ce27764b102b4\n",
      "\n",
      "\n",
      "\n",
      "module TopLevel (\n",
      "  input      [7:0]    io_a,\n",
      "  input               clk,\n",
      "  input               reset\n",
      ");\n",
      "  reg        [7:0]    a;\n",
      "\n",
      "  always @ (posedge clk) begin\n",
      "    a <= io_a;\n",
      "  end\n",
      "\n",
      "\n",
      "endmodule\n",
      "\n"
     ]
    },
    {
     "data": {
      "text/plain": [
       "defined \u001b[32mclass\u001b[39m \u001b[36mTopLevel\u001b[39m"
      ]
     },
     "execution_count": 25,
     "metadata": {},
     "output_type": "execute_result"
    }
   ],
   "source": [
    "class TopLevel extends Component {\n",
    "  val io = new Bundle {\n",
    "    val a = in UInt(8 bits)\n",
    "  }\n",
    "  val a = RegNext(io.a)\n",
    "}\n",
    "showRtl(new TopLevel)"
   ]
  },
  {
   "cell_type": "markdown",
   "metadata": {},
   "source": [
    "## Scope violation\n",
    "SpinalHDL will check that there are no signals assigned outside the scope they are defined in. This error isn’t easy to trigger as it requires some specific meta hardware description tricks."
   ]
  },
  {
   "cell_type": "code",
   "execution_count": 26,
   "metadata": {},
   "outputs": [
    {
     "name": "stdout",
     "output_type": "stream",
     "text": [
      "[Runtime] SpinalHDL v1.4.1    git head : d1b4746673438bc5f242515335278fa39a666c38\n",
      "[Runtime] JVM max memory : 1820.5MiB\n",
      "[Runtime] Current date : 2020.09.23 10:07:57\n",
      "[Progress] at 1435.730 : Elaborate components\n",
      "[Progress] at 1435.732 : Checks and transforms\n",
      "\n",
      "**********************************************************************************************\n",
      "[Warning] Elaboration failed (1 error).\n",
      "          Spinal will restart with scala trace to help you to find the problem.\n",
      "**********************************************************************************************\n",
      "\n",
      "[Progress] at 1435.734 : Elaborate components\n",
      "[Progress] at 1435.736 : Checks and transforms\n"
     ]
    },
    {
     "ename": "",
     "evalue": "",
     "output_type": "error",
     "traceback": [
      "\u001b[31mspinal.core.SpinalExit: \n\n\n \n********************************************************************************\n********************************************************************************\n\nSCOPE VIOLATION : (toplevel/??? :  UInt[8 bits]) is assigned outside its declaration scope at \n    ammonite.$sess.cmd25$Helper$TopLevel.<init>(cmd25.sc:8)\n    ammonite.$sess.cmd25$Helper.$anonfun$res25_1$1(cmd25.sc:10)\n    ammonite.$file.dummy.source.load$minusspinal$Helper.showRtl(Main.sc:28)\n    ammonite.$sess.cmd25$Helper.<init>(cmd25.sc:10)\n    ammonite.$sess.cmd25$.<init>(cmd25.sc:7)\n    ammonite.$sess.cmd25$.<clinit>(cmd25.sc)\n    ammonite.$sess.cmd25.$main(cmd25.sc)\n    ammonite.runtime.Evaluator$$anon$1.$anonfun$evalMain$1(Evaluator.scala:112)\n    ammonite.util.Util$.withContextClassloader(Util.scala:16)\n    ammonite.runtime.Evaluator$$anon$1.evalMain(Evaluator.scala:94)\n    ammonite.runtime.Evaluator$$anon$1.$anonfun$processLine$2(Evaluator.scala:131)\n    ammonite.util.Catching.map(Res.scala:117)\n    ammonite.runtime.Evaluator$$anon$1.$anonfun$processLine$1(Evaluator.scala:125)\n    ammonite.util.Res$Success.flatMap(Res.scala:62)\n    ammonite.runtime.Evaluator$$anon$1.processLine(Evaluator.scala:124)\n    ammonite.interp.Interpreter.$anonfun$evaluateLine$3(Interpreter.scala:295)\n    ammonite.util.Res$Success.flatMap(Res.scala:62)\n    ammonite.interp.Interpreter.$anonfun$evaluateLine$1(Interpreter.scala:281)\n    ammonite.util.Catching.flatMap(Res.scala:115)\n    ammonite.interp.Interpreter.evaluateLine(Interpreter.scala:280)\n    ammonite.interp.Interpreter.$anonfun$processLine$5(Interpreter.scala:267)\n    ammonite.util.Res$Success.flatMap(Res.scala:62)\n    ammonite.interp.Interpreter.$anonfun$processLine$3(Interpreter.scala:251)\n    ammonite.util.Res$Success.flatMap(Res.scala:62)\n    ammonite.interp.Interpreter.$anonfun$processLine$1(Interpreter.scala:244)\n    ammonite.util.Catching.flatMap(Res.scala:115)\n    ammonite.interp.Interpreter.processLine(Interpreter.scala:243)\n    almond.Execute.$anonfun$ammResult$9(Execute.scala:226)\n    almond.internals.CaptureImpl.$anonfun$apply$2(CaptureImpl.scala:53)\n    almond.internals.CaptureImpl.$anonfun$apply$1(CaptureImpl.scala:45)\n    almond.internals.CaptureImpl.apply(CaptureImpl.scala:45)\n    almond.Execute.capturingOutput(Execute.scala:164)\n    almond.Execute.$anonfun$ammResult$8(Execute.scala:222)\n    almond.Execute.$anonfun$withClientStdin$1(Execute.scala:144)\n    almond.Execute.withClientStdin(Execute.scala:140)\n    almond.Execute.$anonfun$ammResult$7(Execute.scala:222)\n    almond.Execute.withInputManager(Execute.scala:132)\n    almond.Execute.$anonfun$ammResult$6(Execute.scala:221)\n    ammonite.repl.Signaller.apply(Signaller.scala:28)\n    almond.Execute.interruptible(Execute.scala:181)\n    almond.Execute.$anonfun$ammResult$5(Execute.scala:220)\n    ammonite.util.Res$Success.flatMap(Res.scala:62)\n    almond.Execute.$anonfun$ammResult$1(Execute.scala:211)\n    almond.Execute.withOutputHandler(Execute.scala:155)\n    almond.Execute.ammResult(Execute.scala:211)\n    almond.Execute.apply(Execute.scala:308)\n    almond.ScalaInterpreter.execute(ScalaInterpreter.scala:115)\n    almond.interpreter.InterpreterToIOInterpreter.$anonfun$execute$2(InterpreterToIOInterpreter.scala:69)\n    cats.effect.internals.IORunLoop$.cats$effect$internals$IORunLoop$$loop(IORunLoop.scala:87)\n    cats.effect.internals.IORunLoop$RestartCallback.signal(IORunLoop.scala:351)\n    cats.effect.internals.IORunLoop$RestartCallback.apply(IORunLoop.scala:372)\n    cats.effect.internals.IORunLoop$RestartCallback.apply(IORunLoop.scala:312)\n    cats.effect.internals.IOShift$Tick.run(IOShift.scala:36)\n    java.util.concurrent.ThreadPoolExecutor.runWorker(ThreadPoolExecutor.java:1149)\n    java.util.concurrent.ThreadPoolExecutor$Worker.run(ThreadPoolExecutor.java:624)\n    java.lang.Thread.run(Thread.java:748)\n\n\n********************************************************************************\n********************************************************************************\n\nDesign's errors are listed above.\nSpinalHDL compiler exit stack : \n\u001b[39m\n  spinal.core.SpinalExit$.apply(\u001b[32mMisc.scala\u001b[39m:\u001b[32m396\u001b[39m)\n  spinal.core.SpinalError$.apply(\u001b[32mMisc.scala\u001b[39m:\u001b[32m447\u001b[39m)\n  spinal.core.internals.PhaseContext.checkPendingErrors(\u001b[32mPhase.scala\u001b[39m:\u001b[32m174\u001b[39m)\n  spinal.core.internals.PhaseContext.doPhase(\u001b[32mPhase.scala\u001b[39m:\u001b[32m190\u001b[39m)\n  spinal.core.internals.SpinalVerilogBoot$.$anonfun$singleShot$12(\u001b[32mPhase.scala\u001b[39m:\u001b[32m2362\u001b[39m)\n  spinal.core.internals.SpinalVerilogBoot$.$anonfun$singleShot$12$adapted(\u001b[32mPhase.scala\u001b[39m:\u001b[32m2360\u001b[39m)\n  scala.collection.mutable.ResizableArray.foreach(\u001b[32mResizableArray.scala\u001b[39m:\u001b[32m59\u001b[39m)\n  scala.collection.mutable.ResizableArray.foreach$(\u001b[32mResizableArray.scala\u001b[39m:\u001b[32m52\u001b[39m)\n  scala.collection.mutable.ArrayBuffer.foreach(\u001b[32mArrayBuffer.scala\u001b[39m:\u001b[32m48\u001b[39m)\n  spinal.core.internals.SpinalVerilogBoot$.$anonfun$singleShot$7(\u001b[32mPhase.scala\u001b[39m:\u001b[32m2360\u001b[39m)\n  spinal.core.ScopeProperty$.sandbox(\u001b[32mScopeProperty.scala\u001b[39m:\u001b[32m31\u001b[39m)\n  spinal.core.internals.SpinalVerilogBoot$.singleShot(\u001b[32mPhase.scala\u001b[39m:\u001b[32m2300\u001b[39m)\n  spinal.core.internals.SpinalVerilogBoot$.apply(\u001b[32mPhase.scala\u001b[39m:\u001b[32m2295\u001b[39m)\n  spinal.core.Spinal$.apply(\u001b[32mSpinal.scala\u001b[39m:\u001b[32m341\u001b[39m)\n  spinal.core.SpinalConfig.generate(\u001b[32mSpinal.scala\u001b[39m:\u001b[32m148\u001b[39m)\n  ammonite.$file.dummy.source.load$minusspinal$Helper.showRtl(\u001b[32mMain.sc\u001b[39m:\u001b[32m28\u001b[39m)\n  ammonite.$sess.cmd25$Helper.<init>(\u001b[32mcmd25.sc\u001b[39m:\u001b[32m10\u001b[39m)\n  ammonite.$sess.cmd25$.<init>(\u001b[32mcmd25.sc\u001b[39m:\u001b[32m7\u001b[39m)\n  ammonite.$sess.cmd25$.<clinit>(\u001b[32mcmd25.sc\u001b[39m:\u001b[32m-1\u001b[39m)"
     ]
    }
   ],
   "source": [
    "class TopLevel extends Component {\n",
    "  val cond = Bool()\n",
    "\n",
    "  var tmp : UInt = null\n",
    "  when(cond){\n",
    "    tmp = UInt(8 bits)\n",
    "  }\n",
    "  tmp := U\"x42\"\n",
    "}\n",
    "showRtl(new TopLevel)"
   ]
  },
  {
   "cell_type": "markdown",
   "metadata": {},
   "source": [
    "A fix could be:"
   ]
  },
  {
   "cell_type": "code",
   "execution_count": 27,
   "metadata": {},
   "outputs": [
    {
     "name": "stdout",
     "output_type": "stream",
     "text": [
      "[Runtime] SpinalHDL v1.4.1    git head : d1b4746673438bc5f242515335278fa39a666c38\n",
      "[Runtime] JVM max memory : 1820.5MiB\n",
      "[Runtime] Current date : 2020.09.23 10:08:19\n",
      "[Progress] at 1457.827 : Elaborate components\n",
      "[Progress] at 1457.829 : Checks and transforms\n",
      "[Progress] at 1457.832 : Generate Verilog\n",
      "[Warning] 2 signals were pruned. You can call printPruned on the backend report to get more informations.\n",
      "[Done] at 1457.854\n",
      "// Generator : SpinalHDL v1.4.1    git head : d1b4746673438bc5f242515335278fa39a666c38\n",
      "// Component : TopLevel\n",
      "// Git hash  : 3c8f67ad383413c37b9e460fd52ce27764b102b4\n",
      "\n",
      "\n",
      "\n",
      "module TopLevel (\n",
      ");\n",
      "  wire                cond;\n",
      "  wire       [7:0]    tmp;\n",
      "\n",
      "  assign tmp = 8'h42;\n",
      "\n",
      "endmodule\n",
      "\n"
     ]
    },
    {
     "data": {
      "text/plain": [
       "defined \u001b[32mclass\u001b[39m \u001b[36mTopLevel\u001b[39m"
      ]
     },
     "execution_count": 27,
     "metadata": {},
     "output_type": "execute_result"
    }
   ],
   "source": [
    "class TopLevel extends Component {\n",
    "  val cond = Bool()\n",
    "\n",
    "  var tmp : UInt = UInt(8 bits)\n",
    "  when(cond){\n",
    "\n",
    "  }\n",
    "  tmp := U\"x42\"\n",
    "}\n",
    "showRtl(new TopLevel)"
   ]
  },
  {
   "cell_type": "markdown",
   "metadata": {},
   "source": [
    "## Spinal can’t clone class  ???\n",
    "This error happens when SpinalHDL wants to create a new datatype via the cloneOf function but isn’t able to do it. The reasons for this is nearly always because it can’t retreive the construction parameters of a Bundle."
   ]
  },
  {
   "cell_type": "code",
   "execution_count": 28,
   "metadata": {},
   "outputs": [
    {
     "name": "stdout",
     "output_type": "stream",
     "text": [
      "[Runtime] SpinalHDL v1.4.1    git head : d1b4746673438bc5f242515335278fa39a666c38\n",
      "[Runtime] JVM max memory : 1820.5MiB\n",
      "[Runtime] Current date : 2020.09.23 10:09:50\n",
      "[Progress] at 1548.096 : Elaborate components\n",
      "[Progress] at 1548.108 : Checks and transforms\n",
      "[Progress] at 1548.111 : Generate Verilog\n",
      "[Warning] 5 signals were pruned. You can call printPruned on the backend report to get more informations.\n",
      "[Done] at 1548.128\n",
      "// Generator : SpinalHDL v1.4.1    git head : d1b4746673438bc5f242515335278fa39a666c38\n",
      "// Component : TopLevel\n",
      "// Git hash  : 3c8f67ad383413c37b9e460fd52ce27764b102b4\n",
      "\n",
      "\n",
      "\n",
      "module TopLevel (\n",
      ");\n",
      "  wire                tmp_valid;\n",
      "  wire                tmp_ready;\n",
      "  wire       [7:0]    tmp_payload_r;\n",
      "  wire       [7:0]    tmp_payload_g;\n",
      "  wire       [7:0]    tmp_payload_b;\n",
      "\n",
      "\n",
      "endmodule\n",
      "\n"
     ]
    },
    {
     "data": {
      "text/plain": [
       "defined \u001b[32mclass\u001b[39m \u001b[36mRGB\u001b[39m\n",
       "defined \u001b[32mclass\u001b[39m \u001b[36mTopLevel\u001b[39m"
      ]
     },
     "execution_count": 28,
     "metadata": {},
     "output_type": "execute_result"
    }
   ],
   "source": [
    "//cloneOf(this) isn't able to retreive the width value that was used to construct itself\n",
    "class RGB(width : Int) extends Bundle{\n",
    "  val r,g,b = UInt(width bits)\n",
    "}\n",
    "class TopLevel extends Component {\n",
    "  val tmp =  Stream(new RGB(8))  //Stream requires the capability to cloneOf(new RGB(8))\n",
    "}\n",
    "showRtl(new TopLevel)"
   ]
  },
  {
   "cell_type": "markdown",
   "metadata": {},
   "source": [
    "A fix could be:"
   ]
  },
  {
   "cell_type": "code",
   "execution_count": 29,
   "metadata": {},
   "outputs": [
    {
     "name": "stdout",
     "output_type": "stream",
     "text": [
      "[Runtime] SpinalHDL v1.4.1    git head : d1b4746673438bc5f242515335278fa39a666c38\n",
      "[Runtime] JVM max memory : 1820.5MiB\n",
      "[Runtime] Current date : 2020.09.23 10:10:53\n",
      "[Progress] at 1611.992 : Elaborate components\n",
      "[Progress] at 1611.995 : Checks and transforms\n",
      "[Progress] at 1611.997 : Generate Verilog\n",
      "[Warning] 5 signals were pruned. You can call printPruned on the backend report to get more informations.\n",
      "[Done] at 1612.021\n",
      "// Generator : SpinalHDL v1.4.1    git head : d1b4746673438bc5f242515335278fa39a666c38\n",
      "// Component : TopLevel\n",
      "// Git hash  : 3c8f67ad383413c37b9e460fd52ce27764b102b4\n",
      "\n",
      "\n",
      "\n",
      "module TopLevel (\n",
      ");\n",
      "  wire                tmp_valid;\n",
      "  wire                tmp_ready;\n",
      "  wire       [7:0]    tmp_payload_r;\n",
      "  wire       [7:0]    tmp_payload_g;\n",
      "  wire       [7:0]    tmp_payload_b;\n",
      "\n",
      "\n",
      "endmodule\n",
      "\n"
     ]
    },
    {
     "data": {
      "text/plain": [
       "defined \u001b[32mclass\u001b[39m \u001b[36mRGB\u001b[39m\n",
       "defined \u001b[32mclass\u001b[39m \u001b[36mTopLevel\u001b[39m"
      ]
     },
     "execution_count": 29,
     "metadata": {},
     "output_type": "execute_result"
    }
   ],
   "source": [
    "case class RGB(width : Int) extends Bundle{\n",
    "  val r,g,b = UInt(width bits)\n",
    "}\n",
    "\n",
    "class TopLevel extends Component {\n",
    "  val tmp = Stream(RGB(8))\n",
    "}\n",
    "showRtl(new TopLevel)"
   ]
  },
  {
   "cell_type": "markdown",
   "metadata": {},
   "source": [
    "## Unassigned register\n",
    "SpinalHDL will check that all registers which impact the design have been assigned somewhere."
   ]
  },
  {
   "cell_type": "code",
   "execution_count": 30,
   "metadata": {},
   "outputs": [
    {
     "name": "stdout",
     "output_type": "stream",
     "text": [
      "[Runtime] SpinalHDL v1.4.1    git head : d1b4746673438bc5f242515335278fa39a666c38\n",
      "[Runtime] JVM max memory : 1820.5MiB\n",
      "[Runtime] Current date : 2020.09.23 10:13:11\n",
      "[Progress] at 1749.609 : Elaborate components\n",
      "[Progress] at 1749.611 : Checks and transforms\n",
      "\n",
      "**********************************************************************************************\n",
      "[Warning] Elaboration failed (1 error).\n",
      "          Spinal will restart with scala trace to help you to find the problem.\n",
      "**********************************************************************************************\n",
      "\n",
      "[Progress] at 1749.614 : Elaborate components\n",
      "[Progress] at 1749.615 : Checks and transforms\n"
     ]
    },
    {
     "ename": "",
     "evalue": "",
     "output_type": "error",
     "traceback": [
      "\u001b[31mspinal.core.SpinalExit: \n\n\n \n********************************************************************************\n********************************************************************************\n\nUNASSIGNED REGISTER (toplevel/a :  UInt[8 bits]), defined at\n    ammonite.$sess.cmd29$Helper$TopLevel.$anonfun$a$1(cmd29.sc:3)\n    ammonite.$sess.cmd29$Helper$TopLevel.<init>(cmd29.sc:3)\n    ammonite.$sess.cmd29$Helper.$anonfun$res29_1$1(cmd29.sc:6)\n    ammonite.$file.dummy.source.load$minusspinal$Helper.showRtl(Main.sc:28)\n    ammonite.$sess.cmd29$Helper.<init>(cmd29.sc:6)\n    ammonite.$sess.cmd29$.<init>(cmd29.sc:7)\n    ammonite.$sess.cmd29$.<clinit>(cmd29.sc)\n    ammonite.$sess.cmd29.$main(cmd29.sc)\n    ammonite.runtime.Evaluator$$anon$1.$anonfun$evalMain$1(Evaluator.scala:112)\n    ammonite.util.Util$.withContextClassloader(Util.scala:16)\n    ammonite.runtime.Evaluator$$anon$1.evalMain(Evaluator.scala:94)\n    ammonite.runtime.Evaluator$$anon$1.$anonfun$processLine$2(Evaluator.scala:131)\n    ammonite.util.Catching.map(Res.scala:117)\n    ammonite.runtime.Evaluator$$anon$1.$anonfun$processLine$1(Evaluator.scala:125)\n    ammonite.util.Res$Success.flatMap(Res.scala:62)\n    ammonite.runtime.Evaluator$$anon$1.processLine(Evaluator.scala:124)\n    ammonite.interp.Interpreter.$anonfun$evaluateLine$3(Interpreter.scala:295)\n    ammonite.util.Res$Success.flatMap(Res.scala:62)\n    ammonite.interp.Interpreter.$anonfun$evaluateLine$1(Interpreter.scala:281)\n    ammonite.util.Catching.flatMap(Res.scala:115)\n    ammonite.interp.Interpreter.evaluateLine(Interpreter.scala:280)\n    ammonite.interp.Interpreter.$anonfun$processLine$5(Interpreter.scala:267)\n    ammonite.util.Res$Success.flatMap(Res.scala:62)\n    ammonite.interp.Interpreter.$anonfun$processLine$3(Interpreter.scala:251)\n    ammonite.util.Res$Success.flatMap(Res.scala:62)\n    ammonite.interp.Interpreter.$anonfun$processLine$1(Interpreter.scala:244)\n    ammonite.util.Catching.flatMap(Res.scala:115)\n    ammonite.interp.Interpreter.processLine(Interpreter.scala:243)\n    almond.Execute.$anonfun$ammResult$9(Execute.scala:226)\n    almond.internals.CaptureImpl.$anonfun$apply$2(CaptureImpl.scala:53)\n    almond.internals.CaptureImpl.$anonfun$apply$1(CaptureImpl.scala:45)\n    almond.internals.CaptureImpl.apply(CaptureImpl.scala:45)\n    almond.Execute.capturingOutput(Execute.scala:164)\n    almond.Execute.$anonfun$ammResult$8(Execute.scala:222)\n    almond.Execute.$anonfun$withClientStdin$1(Execute.scala:144)\n    almond.Execute.withClientStdin(Execute.scala:140)\n    almond.Execute.$anonfun$ammResult$7(Execute.scala:222)\n    almond.Execute.withInputManager(Execute.scala:132)\n    almond.Execute.$anonfun$ammResult$6(Execute.scala:221)\n    ammonite.repl.Signaller.apply(Signaller.scala:28)\n    almond.Execute.interruptible(Execute.scala:181)\n    almond.Execute.$anonfun$ammResult$5(Execute.scala:220)\n    ammonite.util.Res$Success.flatMap(Res.scala:62)\n    almond.Execute.$anonfun$ammResult$1(Execute.scala:211)\n    almond.Execute.withOutputHandler(Execute.scala:155)\n    almond.Execute.ammResult(Execute.scala:211)\n    almond.Execute.apply(Execute.scala:308)\n    almond.ScalaInterpreter.execute(ScalaInterpreter.scala:115)\n    almond.interpreter.InterpreterToIOInterpreter.$anonfun$execute$2(InterpreterToIOInterpreter.scala:69)\n    cats.effect.internals.IORunLoop$.cats$effect$internals$IORunLoop$$loop(IORunLoop.scala:87)\n    cats.effect.internals.IORunLoop$RestartCallback.signal(IORunLoop.scala:351)\n    cats.effect.internals.IORunLoop$RestartCallback.apply(IORunLoop.scala:372)\n    cats.effect.internals.IORunLoop$RestartCallback.apply(IORunLoop.scala:312)\n    cats.effect.internals.IOShift$Tick.run(IOShift.scala:36)\n    java.util.concurrent.ThreadPoolExecutor.runWorker(ThreadPoolExecutor.java:1149)\n    java.util.concurrent.ThreadPoolExecutor$Worker.run(ThreadPoolExecutor.java:624)\n    java.lang.Thread.run(Thread.java:748)\n\n\n********************************************************************************\n********************************************************************************\n\nDesign's errors are listed above.\nSpinalHDL compiler exit stack : \n\u001b[39m\n  spinal.core.SpinalExit$.apply(\u001b[32mMisc.scala\u001b[39m:\u001b[32m396\u001b[39m)\n  spinal.core.SpinalError$.apply(\u001b[32mMisc.scala\u001b[39m:\u001b[32m447\u001b[39m)\n  spinal.core.internals.PhaseContext.checkPendingErrors(\u001b[32mPhase.scala\u001b[39m:\u001b[32m174\u001b[39m)\n  spinal.core.internals.PhaseContext.doPhase(\u001b[32mPhase.scala\u001b[39m:\u001b[32m190\u001b[39m)\n  spinal.core.internals.SpinalVerilogBoot$.$anonfun$singleShot$12(\u001b[32mPhase.scala\u001b[39m:\u001b[32m2362\u001b[39m)\n  spinal.core.internals.SpinalVerilogBoot$.$anonfun$singleShot$12$adapted(\u001b[32mPhase.scala\u001b[39m:\u001b[32m2360\u001b[39m)\n  scala.collection.mutable.ResizableArray.foreach(\u001b[32mResizableArray.scala\u001b[39m:\u001b[32m59\u001b[39m)\n  scala.collection.mutable.ResizableArray.foreach$(\u001b[32mResizableArray.scala\u001b[39m:\u001b[32m52\u001b[39m)\n  scala.collection.mutable.ArrayBuffer.foreach(\u001b[32mArrayBuffer.scala\u001b[39m:\u001b[32m48\u001b[39m)\n  spinal.core.internals.SpinalVerilogBoot$.$anonfun$singleShot$7(\u001b[32mPhase.scala\u001b[39m:\u001b[32m2360\u001b[39m)\n  spinal.core.ScopeProperty$.sandbox(\u001b[32mScopeProperty.scala\u001b[39m:\u001b[32m31\u001b[39m)\n  spinal.core.internals.SpinalVerilogBoot$.singleShot(\u001b[32mPhase.scala\u001b[39m:\u001b[32m2300\u001b[39m)\n  spinal.core.internals.SpinalVerilogBoot$.apply(\u001b[32mPhase.scala\u001b[39m:\u001b[32m2295\u001b[39m)\n  spinal.core.Spinal$.apply(\u001b[32mSpinal.scala\u001b[39m:\u001b[32m341\u001b[39m)\n  spinal.core.SpinalConfig.generate(\u001b[32mSpinal.scala\u001b[39m:\u001b[32m148\u001b[39m)\n  ammonite.$file.dummy.source.load$minusspinal$Helper.showRtl(\u001b[32mMain.sc\u001b[39m:\u001b[32m28\u001b[39m)\n  ammonite.$sess.cmd29$Helper.<init>(\u001b[32mcmd29.sc\u001b[39m:\u001b[32m6\u001b[39m)\n  ammonite.$sess.cmd29$.<init>(\u001b[32mcmd29.sc\u001b[39m:\u001b[32m7\u001b[39m)\n  ammonite.$sess.cmd29$.<clinit>(\u001b[32mcmd29.sc\u001b[39m:\u001b[32m-1\u001b[39m)"
     ]
    }
   ],
   "source": [
    "class TopLevel extends Component {\n",
    "  val result = out(UInt(8 bits))\n",
    "  val a = Reg(UInt(8 bits))\n",
    "  result := a\n",
    "}\n",
    "showRtl(new TopLevel)"
   ]
  },
  {
   "cell_type": "markdown",
   "metadata": {},
   "source": [
    "A fix could be:"
   ]
  },
  {
   "cell_type": "code",
   "execution_count": 31,
   "metadata": {
    "scrolled": true
   },
   "outputs": [
    {
     "name": "stdout",
     "output_type": "stream",
     "text": [
      "[Runtime] SpinalHDL v1.4.1    git head : d1b4746673438bc5f242515335278fa39a666c38\n",
      "[Runtime] JVM max memory : 1820.5MiB\n",
      "[Runtime] Current date : 2020.09.23 10:13:18\n",
      "[Progress] at 1756.463 : Elaborate components\n",
      "[Progress] at 1756.465 : Checks and transforms\n",
      "[Progress] at 1756.467 : Generate Verilog\n",
      "[Done] at 1756.489\n",
      "// Generator : SpinalHDL v1.4.1    git head : d1b4746673438bc5f242515335278fa39a666c38\n",
      "// Component : TopLevel\n",
      "// Git hash  : 3c8f67ad383413c37b9e460fd52ce27764b102b4\n",
      "\n",
      "\n",
      "\n",
      "module TopLevel (\n",
      "  output     [7:0]    result,\n",
      "  input               clk,\n",
      "  input               reset\n",
      ");\n",
      "  reg        [7:0]    a;\n",
      "\n",
      "  assign result = a;\n",
      "  always @ (posedge clk) begin\n",
      "    a <= 8'h2a;\n",
      "  end\n",
      "\n",
      "\n",
      "endmodule\n",
      "\n"
     ]
    },
    {
     "data": {
      "text/plain": [
       "defined \u001b[32mclass\u001b[39m \u001b[36mTopLevel\u001b[39m"
      ]
     },
     "execution_count": 31,
     "metadata": {},
     "output_type": "execute_result"
    }
   ],
   "source": [
    "class TopLevel extends Component {\n",
    "  val result = out(UInt(8 bits))\n",
    "  val a = Reg(UInt(8 bits))\n",
    "  a := 42\n",
    "  result := a\n",
    "}\n",
    "showRtl(new TopLevel)"
   ]
  },
  {
   "cell_type": "markdown",
   "metadata": {},
   "source": [
    "### Register with only init  \n",
    "In some case, because of the design parameterization, it could make sense to generate a register which has no assignement but only a init statement."
   ]
  },
  {
   "cell_type": "code",
   "execution_count": 32,
   "metadata": {},
   "outputs": [
    {
     "name": "stdout",
     "output_type": "stream",
     "text": [
      "[Runtime] SpinalHDL v1.4.1    git head : d1b4746673438bc5f242515335278fa39a666c38\n",
      "[Runtime] JVM max memory : 1820.5MiB\n",
      "[Runtime] Current date : 2020.09.23 10:13:37\n",
      "[Progress] at 1775.407 : Elaborate components\n",
      "[Progress] at 1775.409 : Checks and transforms\n",
      "\n",
      "**********************************************************************************************\n",
      "[Warning] Elaboration failed (1 error).\n",
      "          Spinal will restart with scala trace to help you to find the problem.\n",
      "**********************************************************************************************\n",
      "\n",
      "[Progress] at 1775.412 : Elaborate components\n",
      "[Progress] at 1775.413 : Checks and transforms\n"
     ]
    },
    {
     "ename": "",
     "evalue": "",
     "output_type": "error",
     "traceback": [
      "\u001b[31mspinal.core.SpinalExit: \n\n\n \n********************************************************************************\n********************************************************************************\n\nUNASSIGNED REGISTER (toplevel/a :  UInt[8 bits]), defined at\n    ammonite.$sess.cmd31$Helper$TopLevel.$anonfun$a$1(cmd31.sc:3)\n    ammonite.$sess.cmd31$Helper$TopLevel.<init>(cmd31.sc:3)\n    ammonite.$sess.cmd31$Helper.$anonfun$res31_1$1(cmd31.sc:10)\n    ammonite.$file.dummy.source.load$minusspinal$Helper.showRtl(Main.sc:28)\n    ammonite.$sess.cmd31$Helper.<init>(cmd31.sc:10)\n    ammonite.$sess.cmd31$.<init>(cmd31.sc:7)\n    ammonite.$sess.cmd31$.<clinit>(cmd31.sc)\n    ammonite.$sess.cmd31.$main(cmd31.sc)\n    ammonite.runtime.Evaluator$$anon$1.$anonfun$evalMain$1(Evaluator.scala:112)\n    ammonite.util.Util$.withContextClassloader(Util.scala:16)\n    ammonite.runtime.Evaluator$$anon$1.evalMain(Evaluator.scala:94)\n    ammonite.runtime.Evaluator$$anon$1.$anonfun$processLine$2(Evaluator.scala:131)\n    ammonite.util.Catching.map(Res.scala:117)\n    ammonite.runtime.Evaluator$$anon$1.$anonfun$processLine$1(Evaluator.scala:125)\n    ammonite.util.Res$Success.flatMap(Res.scala:62)\n    ammonite.runtime.Evaluator$$anon$1.processLine(Evaluator.scala:124)\n    ammonite.interp.Interpreter.$anonfun$evaluateLine$3(Interpreter.scala:295)\n    ammonite.util.Res$Success.flatMap(Res.scala:62)\n    ammonite.interp.Interpreter.$anonfun$evaluateLine$1(Interpreter.scala:281)\n    ammonite.util.Catching.flatMap(Res.scala:115)\n    ammonite.interp.Interpreter.evaluateLine(Interpreter.scala:280)\n    ammonite.interp.Interpreter.$anonfun$processLine$5(Interpreter.scala:267)\n    ammonite.util.Res$Success.flatMap(Res.scala:62)\n    ammonite.interp.Interpreter.$anonfun$processLine$3(Interpreter.scala:251)\n    ammonite.util.Res$Success.flatMap(Res.scala:62)\n    ammonite.interp.Interpreter.$anonfun$processLine$1(Interpreter.scala:244)\n    ammonite.util.Catching.flatMap(Res.scala:115)\n    ammonite.interp.Interpreter.processLine(Interpreter.scala:243)\n    almond.Execute.$anonfun$ammResult$9(Execute.scala:226)\n    almond.internals.CaptureImpl.$anonfun$apply$2(CaptureImpl.scala:53)\n    almond.internals.CaptureImpl.$anonfun$apply$1(CaptureImpl.scala:45)\n    almond.internals.CaptureImpl.apply(CaptureImpl.scala:45)\n    almond.Execute.capturingOutput(Execute.scala:164)\n    almond.Execute.$anonfun$ammResult$8(Execute.scala:222)\n    almond.Execute.$anonfun$withClientStdin$1(Execute.scala:144)\n    almond.Execute.withClientStdin(Execute.scala:140)\n    almond.Execute.$anonfun$ammResult$7(Execute.scala:222)\n    almond.Execute.withInputManager(Execute.scala:132)\n    almond.Execute.$anonfun$ammResult$6(Execute.scala:221)\n    ammonite.repl.Signaller.apply(Signaller.scala:28)\n    almond.Execute.interruptible(Execute.scala:181)\n    almond.Execute.$anonfun$ammResult$5(Execute.scala:220)\n    ammonite.util.Res$Success.flatMap(Res.scala:62)\n    almond.Execute.$anonfun$ammResult$1(Execute.scala:211)\n    almond.Execute.withOutputHandler(Execute.scala:155)\n    almond.Execute.ammResult(Execute.scala:211)\n    almond.Execute.apply(Execute.scala:308)\n    almond.ScalaInterpreter.execute(ScalaInterpreter.scala:115)\n    almond.interpreter.InterpreterToIOInterpreter.$anonfun$execute$2(InterpreterToIOInterpreter.scala:69)\n    cats.effect.internals.IORunLoop$.cats$effect$internals$IORunLoop$$loop(IORunLoop.scala:87)\n    cats.effect.internals.IORunLoop$RestartCallback.signal(IORunLoop.scala:351)\n    cats.effect.internals.IORunLoop$RestartCallback.apply(IORunLoop.scala:372)\n    cats.effect.internals.IORunLoop$RestartCallback.apply(IORunLoop.scala:312)\n    cats.effect.internals.IOShift$Tick.run(IOShift.scala:36)\n    java.util.concurrent.ThreadPoolExecutor.runWorker(ThreadPoolExecutor.java:1149)\n    java.util.concurrent.ThreadPoolExecutor$Worker.run(ThreadPoolExecutor.java:624)\n    java.lang.Thread.run(Thread.java:748)\n\n\n********************************************************************************\n********************************************************************************\n\nDesign's errors are listed above.\nSpinalHDL compiler exit stack : \n\u001b[39m\n  spinal.core.SpinalExit$.apply(\u001b[32mMisc.scala\u001b[39m:\u001b[32m396\u001b[39m)\n  spinal.core.SpinalError$.apply(\u001b[32mMisc.scala\u001b[39m:\u001b[32m447\u001b[39m)\n  spinal.core.internals.PhaseContext.checkPendingErrors(\u001b[32mPhase.scala\u001b[39m:\u001b[32m174\u001b[39m)\n  spinal.core.internals.PhaseContext.doPhase(\u001b[32mPhase.scala\u001b[39m:\u001b[32m190\u001b[39m)\n  spinal.core.internals.SpinalVerilogBoot$.$anonfun$singleShot$12(\u001b[32mPhase.scala\u001b[39m:\u001b[32m2362\u001b[39m)\n  spinal.core.internals.SpinalVerilogBoot$.$anonfun$singleShot$12$adapted(\u001b[32mPhase.scala\u001b[39m:\u001b[32m2360\u001b[39m)\n  scala.collection.mutable.ResizableArray.foreach(\u001b[32mResizableArray.scala\u001b[39m:\u001b[32m59\u001b[39m)\n  scala.collection.mutable.ResizableArray.foreach$(\u001b[32mResizableArray.scala\u001b[39m:\u001b[32m52\u001b[39m)\n  scala.collection.mutable.ArrayBuffer.foreach(\u001b[32mArrayBuffer.scala\u001b[39m:\u001b[32m48\u001b[39m)\n  spinal.core.internals.SpinalVerilogBoot$.$anonfun$singleShot$7(\u001b[32mPhase.scala\u001b[39m:\u001b[32m2360\u001b[39m)\n  spinal.core.ScopeProperty$.sandbox(\u001b[32mScopeProperty.scala\u001b[39m:\u001b[32m31\u001b[39m)\n  spinal.core.internals.SpinalVerilogBoot$.singleShot(\u001b[32mPhase.scala\u001b[39m:\u001b[32m2300\u001b[39m)\n  spinal.core.internals.SpinalVerilogBoot$.apply(\u001b[32mPhase.scala\u001b[39m:\u001b[32m2295\u001b[39m)\n  spinal.core.Spinal$.apply(\u001b[32mSpinal.scala\u001b[39m:\u001b[32m341\u001b[39m)\n  spinal.core.SpinalConfig.generate(\u001b[32mSpinal.scala\u001b[39m:\u001b[32m148\u001b[39m)\n  ammonite.$file.dummy.source.load$minusspinal$Helper.showRtl(\u001b[32mMain.sc\u001b[39m:\u001b[32m28\u001b[39m)\n  ammonite.$sess.cmd31$Helper.<init>(\u001b[32mcmd31.sc\u001b[39m:\u001b[32m10\u001b[39m)\n  ammonite.$sess.cmd31$.<init>(\u001b[32mcmd31.sc\u001b[39m:\u001b[32m7\u001b[39m)\n  ammonite.$sess.cmd31$.<clinit>(\u001b[32mcmd31.sc\u001b[39m:\u001b[32m-1\u001b[39m)"
     ]
    }
   ],
   "source": [
    "class TopLevel(something: Boolean) extends Component {\n",
    "  val result = out(UInt(8 bits))\n",
    "  val a = Reg(UInt(8 bits))  \n",
    "   \n",
    "  if(something){ \n",
    "    a := 32\n",
    "  }\n",
    "  result := a\n",
    "}\n",
    "showRtl(new TopLevel(false))"
   ]
  },
  {
   "cell_type": "markdown",
   "metadata": {},
   "source": [
    "To fix it you can ask SpinalHDL to transform the register into a combinatorial one if no assignement is present but it has a init statement:"
   ]
  },
  {
   "cell_type": "code",
   "execution_count": 33,
   "metadata": {},
   "outputs": [
    {
     "name": "stdout",
     "output_type": "stream",
     "text": [
      "[Runtime] SpinalHDL v1.4.1    git head : d1b4746673438bc5f242515335278fa39a666c38\n",
      "[Runtime] JVM max memory : 1820.5MiB\n",
      "[Runtime] Current date : 2020.09.23 10:14:15\n",
      "[Progress] at 1813.927 : Elaborate components\n",
      "[Progress] at 1813.929 : Checks and transforms\n",
      "[Progress] at 1813.933 : Generate Verilog\n",
      "[Done] at 1813.954\n",
      "// Generator : SpinalHDL v1.4.1    git head : d1b4746673438bc5f242515335278fa39a666c38\n",
      "// Component : TopLevel\n",
      "// Git hash  : 3c8f67ad383413c37b9e460fd52ce27764b102b4\n",
      "\n",
      "\n",
      "\n",
      "module TopLevel (\n",
      "  output     [7:0]    result,\n",
      "  input               clk,\n",
      "  input               reset\n",
      ");\n",
      "  wire       [7:0]    a;\n",
      "\n",
      "  assign a = 8'h2a;\n",
      "  assign result = a;\n",
      "\n",
      "endmodule\n",
      "\n"
     ]
    },
    {
     "data": {
      "text/plain": [
       "defined \u001b[32mclass\u001b[39m \u001b[36mTopLevel\u001b[39m"
      ]
     },
     "execution_count": 33,
     "metadata": {},
     "output_type": "execute_result"
    }
   ],
   "source": [
    "class TopLevel(something: Boolean) extends Component {\n",
    "  val result = out(UInt(8 bits))\n",
    "  val a = Reg(UInt(8 bits)).init(42).allowUnsetRegToAvoidLatch\n",
    "\n",
    "  if(something){   \n",
    "    a := 37   \n",
    "  }\n",
    "  result := a\n",
    "}\n",
    "showRtl(new TopLevel(false))"
   ]
  },
  {
   "cell_type": "markdown",
   "metadata": {},
   "source": [
    "## Unreachable is statement\n",
    "SpinalHDL will check all is statements in a switch are reachable."
   ]
  },
  {
   "cell_type": "code",
   "execution_count": 36,
   "metadata": {},
   "outputs": [
    {
     "name": "stdout",
     "output_type": "stream",
     "text": [
      "[Runtime] SpinalHDL v1.4.1    git head : d1b4746673438bc5f242515335278fa39a666c38\n",
      "[Runtime] JVM max memory : 1820.5MiB\n",
      "[Runtime] Current date : 2020.09.23 10:15:24\n",
      "[Progress] at 1882.732 : Elaborate components\n",
      "[Progress] at 1882.738 : Checks and transforms\n",
      "\n",
      "**********************************************************************************************\n",
      "[Warning] Elaboration failed (1 error).\n",
      "          Spinal will restart with scala trace to help you to find the problem.\n",
      "**********************************************************************************************\n",
      "\n",
      "[Progress] at 1882.745 : Elaborate components\n",
      "[Progress] at 1882.748 : Checks and transforms\n"
     ]
    },
    {
     "ename": "",
     "evalue": "",
     "output_type": "error",
     "traceback": [
      "\u001b[31mspinal.core.SpinalExit: \n\n\n \n********************************************************************************\n********************************************************************************\n\nUNREACHABLE IS STATEMENT in the switch statement at \n???\n********************************************************************************\n********************************************************************************\n\nDesign's errors are listed above.\nSpinalHDL compiler exit stack : \n\u001b[39m\n  spinal.core.SpinalExit$.apply(\u001b[32mMisc.scala\u001b[39m:\u001b[32m396\u001b[39m)\n  spinal.core.SpinalError$.apply(\u001b[32mMisc.scala\u001b[39m:\u001b[32m447\u001b[39m)\n  spinal.core.internals.PhaseContext.checkPendingErrors(\u001b[32mPhase.scala\u001b[39m:\u001b[32m174\u001b[39m)\n  spinal.core.internals.PhaseContext.doPhase(\u001b[32mPhase.scala\u001b[39m:\u001b[32m190\u001b[39m)\n  spinal.core.internals.SpinalVerilogBoot$.$anonfun$singleShot$12(\u001b[32mPhase.scala\u001b[39m:\u001b[32m2362\u001b[39m)\n  spinal.core.internals.SpinalVerilogBoot$.$anonfun$singleShot$12$adapted(\u001b[32mPhase.scala\u001b[39m:\u001b[32m2360\u001b[39m)\n  scala.collection.mutable.ResizableArray.foreach(\u001b[32mResizableArray.scala\u001b[39m:\u001b[32m59\u001b[39m)\n  scala.collection.mutable.ResizableArray.foreach$(\u001b[32mResizableArray.scala\u001b[39m:\u001b[32m52\u001b[39m)\n  scala.collection.mutable.ArrayBuffer.foreach(\u001b[32mArrayBuffer.scala\u001b[39m:\u001b[32m48\u001b[39m)\n  spinal.core.internals.SpinalVerilogBoot$.$anonfun$singleShot$7(\u001b[32mPhase.scala\u001b[39m:\u001b[32m2360\u001b[39m)\n  spinal.core.ScopeProperty$.sandbox(\u001b[32mScopeProperty.scala\u001b[39m:\u001b[32m31\u001b[39m)\n  spinal.core.internals.SpinalVerilogBoot$.singleShot(\u001b[32mPhase.scala\u001b[39m:\u001b[32m2300\u001b[39m)\n  spinal.core.internals.SpinalVerilogBoot$.apply(\u001b[32mPhase.scala\u001b[39m:\u001b[32m2295\u001b[39m)\n  spinal.core.Spinal$.apply(\u001b[32mSpinal.scala\u001b[39m:\u001b[32m341\u001b[39m)\n  spinal.core.SpinalConfig.generate(\u001b[32mSpinal.scala\u001b[39m:\u001b[32m148\u001b[39m)\n  ammonite.$file.dummy.source.load$minusspinal$Helper.showRtl(\u001b[32mMain.sc\u001b[39m:\u001b[32m28\u001b[39m)\n  ammonite.$sess.cmd35$Helper.<init>(\u001b[32mcmd35.sc\u001b[39m:\u001b[32m12\u001b[39m)\n  ammonite.$sess.cmd35$.<init>(\u001b[32mcmd35.sc\u001b[39m:\u001b[32m7\u001b[39m)\n  ammonite.$sess.cmd35$.<clinit>(\u001b[32mcmd35.sc\u001b[39m:\u001b[32m-1\u001b[39m)"
     ]
    }
   ],
   "source": [
    "class TopLevel extends Component {\n",
    "  val sel = UInt(2 bits)\n",
    "  val result = UInt(4 bits)\n",
    "  switch(sel){\n",
    "    is(0){ result := 4 }\n",
    "    is(1){ result := 6 }\n",
    "    is(2){ result := 8 }\n",
    "    is(3){ result := 9 }\n",
    "    is(0){ result := 2 } //Duplicated statement is statement !\n",
    "  }\n",
    "}\n",
    "showRtl(new TopLevel)"
   ]
  },
  {
   "cell_type": "markdown",
   "metadata": {},
   "source": [
    "A fix could be:"
   ]
  },
  {
   "cell_type": "code",
   "execution_count": 37,
   "metadata": {},
   "outputs": [
    {
     "name": "stdout",
     "output_type": "stream",
     "text": [
      "[Runtime] SpinalHDL v1.4.1    git head : d1b4746673438bc5f242515335278fa39a666c38\n",
      "[Runtime] JVM max memory : 1820.5MiB\n",
      "[Runtime] Current date : 2020.09.23 10:15:39\n",
      "[Progress] at 1897.522 : Elaborate components\n",
      "[Progress] at 1897.526 : Checks and transforms\n",
      "[Progress] at 1897.534 : Generate Verilog\n",
      "[Warning] 2 signals were pruned. You can call printPruned on the backend report to get more informations.\n",
      "[Done] at 1897.564\n",
      "// Generator : SpinalHDL v1.4.1    git head : d1b4746673438bc5f242515335278fa39a666c38\n",
      "// Component : TopLevel\n",
      "// Git hash  : 3c8f67ad383413c37b9e460fd52ce27764b102b4\n",
      "\n",
      "\n",
      "\n",
      "module TopLevel (\n",
      ");\n",
      "  wire       [1:0]    sel;\n",
      "  reg        [3:0]    result;\n",
      "\n",
      "  always @ (*) begin\n",
      "    case(sel)\n",
      "      2'b00 : begin\n",
      "        result = 4'b0100;\n",
      "      end\n",
      "      2'b01 : begin\n",
      "        result = 4'b0110;\n",
      "      end\n",
      "      2'b10 : begin\n",
      "        result = 4'b1000;\n",
      "      end\n",
      "      default : begin\n",
      "        result = 4'b1001;\n",
      "      end\n",
      "    endcase\n",
      "  end\n",
      "\n",
      "\n",
      "endmodule\n",
      "\n"
     ]
    },
    {
     "data": {
      "text/plain": [
       "defined \u001b[32mclass\u001b[39m \u001b[36mTopLevel\u001b[39m"
      ]
     },
     "execution_count": 37,
     "metadata": {},
     "output_type": "execute_result"
    }
   ],
   "source": [
    "class TopLevel extends Component {\n",
    "  val sel = UInt(2 bits)\n",
    "  val result = UInt(4 bits)\n",
    "  switch(sel){\n",
    "    is(0){ result := 4 }\n",
    "    is(1){ result := 6 }\n",
    "    is(2){ result := 8 }\n",
    "    is(3){ result := 9 }\n",
    "  }\n",
    "}\n",
    "showRtl(new TopLevel)"
   ]
  },
  {
   "cell_type": "markdown",
   "metadata": {},
   "source": [
    "## Width mismatch\n",
    "SpinalHDL will check that signals on the left and right side of assignments and operators are the same width."
   ]
  },
  {
   "cell_type": "code",
   "execution_count": 38,
   "metadata": {},
   "outputs": [
    {
     "name": "stdout",
     "output_type": "stream",
     "text": [
      "[Runtime] SpinalHDL v1.4.1    git head : d1b4746673438bc5f242515335278fa39a666c38\n",
      "[Runtime] JVM max memory : 1820.5MiB\n",
      "[Runtime] Current date : 2020.09.23 10:16:10\n",
      "[Progress] at 1928.574 : Elaborate components\n",
      "[Progress] at 1928.575 : Checks and transforms\n",
      "\n",
      "**********************************************************************************************\n",
      "[Warning] Elaboration failed (1 error).\n",
      "          Spinal will restart with scala trace to help you to find the problem.\n",
      "**********************************************************************************************\n",
      "\n",
      "[Progress] at 1928.579 : Elaborate components\n",
      "[Progress] at 1928.580 : Checks and transforms\n"
     ]
    },
    {
     "ename": "",
     "evalue": "",
     "output_type": "error",
     "traceback": [
      "\u001b[31mspinal.core.SpinalExit: \n\n\n \n********************************************************************************\n********************************************************************************\n\nWIDTH MISMATCH on (toplevel/b :  UInt[4 bits]) := (toplevel/a :  UInt[8 bits]) at \n    ammonite.$sess.cmd37$Helper$TopLevel.<init>(cmd37.sc:4)\n    ammonite.$sess.cmd37$Helper.$anonfun$res37_1$1(cmd37.sc:6)\n    ammonite.$file.dummy.source.load$minusspinal$Helper.showRtl(Main.sc:28)\n    ammonite.$sess.cmd37$Helper.<init>(cmd37.sc:6)\n    ammonite.$sess.cmd37$.<init>(cmd37.sc:7)\n    ammonite.$sess.cmd37$.<clinit>(cmd37.sc)\n    ammonite.$sess.cmd37.$main(cmd37.sc)\n    ammonite.runtime.Evaluator$$anon$1.$anonfun$evalMain$1(Evaluator.scala:112)\n    ammonite.util.Util$.withContextClassloader(Util.scala:16)\n    ammonite.runtime.Evaluator$$anon$1.evalMain(Evaluator.scala:94)\n    ammonite.runtime.Evaluator$$anon$1.$anonfun$processLine$2(Evaluator.scala:131)\n    ammonite.util.Catching.map(Res.scala:117)\n    ammonite.runtime.Evaluator$$anon$1.$anonfun$processLine$1(Evaluator.scala:125)\n    ammonite.util.Res$Success.flatMap(Res.scala:62)\n    ammonite.runtime.Evaluator$$anon$1.processLine(Evaluator.scala:124)\n    ammonite.interp.Interpreter.$anonfun$evaluateLine$3(Interpreter.scala:295)\n    ammonite.util.Res$Success.flatMap(Res.scala:62)\n    ammonite.interp.Interpreter.$anonfun$evaluateLine$1(Interpreter.scala:281)\n    ammonite.util.Catching.flatMap(Res.scala:115)\n    ammonite.interp.Interpreter.evaluateLine(Interpreter.scala:280)\n    ammonite.interp.Interpreter.$anonfun$processLine$5(Interpreter.scala:267)\n    ammonite.util.Res$Success.flatMap(Res.scala:62)\n    ammonite.interp.Interpreter.$anonfun$processLine$3(Interpreter.scala:251)\n    ammonite.util.Res$Success.flatMap(Res.scala:62)\n    ammonite.interp.Interpreter.$anonfun$processLine$1(Interpreter.scala:244)\n    ammonite.util.Catching.flatMap(Res.scala:115)\n    ammonite.interp.Interpreter.processLine(Interpreter.scala:243)\n    almond.Execute.$anonfun$ammResult$9(Execute.scala:226)\n    almond.internals.CaptureImpl.$anonfun$apply$2(CaptureImpl.scala:53)\n    almond.internals.CaptureImpl.$anonfun$apply$1(CaptureImpl.scala:45)\n    almond.internals.CaptureImpl.apply(CaptureImpl.scala:45)\n    almond.Execute.capturingOutput(Execute.scala:164)\n    almond.Execute.$anonfun$ammResult$8(Execute.scala:222)\n    almond.Execute.$anonfun$withClientStdin$1(Execute.scala:144)\n    almond.Execute.withClientStdin(Execute.scala:140)\n    almond.Execute.$anonfun$ammResult$7(Execute.scala:222)\n    almond.Execute.withInputManager(Execute.scala:132)\n    almond.Execute.$anonfun$ammResult$6(Execute.scala:221)\n    ammonite.repl.Signaller.apply(Signaller.scala:28)\n    almond.Execute.interruptible(Execute.scala:181)\n    almond.Execute.$anonfun$ammResult$5(Execute.scala:220)\n    ammonite.util.Res$Success.flatMap(Res.scala:62)\n    almond.Execute.$anonfun$ammResult$1(Execute.scala:211)\n    almond.Execute.withOutputHandler(Execute.scala:155)\n    almond.Execute.ammResult(Execute.scala:211)\n    almond.Execute.apply(Execute.scala:308)\n    almond.ScalaInterpreter.execute(ScalaInterpreter.scala:115)\n    almond.interpreter.InterpreterToIOInterpreter.$anonfun$execute$2(InterpreterToIOInterpreter.scala:69)\n    cats.effect.internals.IORunLoop$.cats$effect$internals$IORunLoop$$loop(IORunLoop.scala:87)\n    cats.effect.internals.IORunLoop$RestartCallback.signal(IORunLoop.scala:351)\n    cats.effect.internals.IORunLoop$RestartCallback.apply(IORunLoop.scala:372)\n    cats.effect.internals.IORunLoop$RestartCallback.apply(IORunLoop.scala:312)\n    cats.effect.internals.IOShift$Tick.run(IOShift.scala:36)\n    java.util.concurrent.ThreadPoolExecutor.runWorker(ThreadPoolExecutor.java:1149)\n    java.util.concurrent.ThreadPoolExecutor$Worker.run(ThreadPoolExecutor.java:624)\n    java.lang.Thread.run(Thread.java:748)\n\n\n********************************************************************************\n********************************************************************************\n\nDesign's errors are listed above.\nSpinalHDL compiler exit stack : \n\u001b[39m\n  spinal.core.SpinalExit$.apply(\u001b[32mMisc.scala\u001b[39m:\u001b[32m396\u001b[39m)\n  spinal.core.SpinalError$.apply(\u001b[32mMisc.scala\u001b[39m:\u001b[32m447\u001b[39m)\n  spinal.core.internals.PhaseContext.checkPendingErrors(\u001b[32mPhase.scala\u001b[39m:\u001b[32m174\u001b[39m)\n  spinal.core.internals.PhaseContext.doPhase(\u001b[32mPhase.scala\u001b[39m:\u001b[32m190\u001b[39m)\n  spinal.core.internals.SpinalVerilogBoot$.$anonfun$singleShot$12(\u001b[32mPhase.scala\u001b[39m:\u001b[32m2362\u001b[39m)\n  spinal.core.internals.SpinalVerilogBoot$.$anonfun$singleShot$12$adapted(\u001b[32mPhase.scala\u001b[39m:\u001b[32m2360\u001b[39m)\n  scala.collection.mutable.ResizableArray.foreach(\u001b[32mResizableArray.scala\u001b[39m:\u001b[32m59\u001b[39m)\n  scala.collection.mutable.ResizableArray.foreach$(\u001b[32mResizableArray.scala\u001b[39m:\u001b[32m52\u001b[39m)\n  scala.collection.mutable.ArrayBuffer.foreach(\u001b[32mArrayBuffer.scala\u001b[39m:\u001b[32m48\u001b[39m)\n  spinal.core.internals.SpinalVerilogBoot$.$anonfun$singleShot$7(\u001b[32mPhase.scala\u001b[39m:\u001b[32m2360\u001b[39m)\n  spinal.core.ScopeProperty$.sandbox(\u001b[32mScopeProperty.scala\u001b[39m:\u001b[32m31\u001b[39m)\n  spinal.core.internals.SpinalVerilogBoot$.singleShot(\u001b[32mPhase.scala\u001b[39m:\u001b[32m2300\u001b[39m)\n  spinal.core.internals.SpinalVerilogBoot$.apply(\u001b[32mPhase.scala\u001b[39m:\u001b[32m2295\u001b[39m)\n  spinal.core.Spinal$.apply(\u001b[32mSpinal.scala\u001b[39m:\u001b[32m341\u001b[39m)\n  spinal.core.SpinalConfig.generate(\u001b[32mSpinal.scala\u001b[39m:\u001b[32m148\u001b[39m)\n  ammonite.$file.dummy.source.load$minusspinal$Helper.showRtl(\u001b[32mMain.sc\u001b[39m:\u001b[32m28\u001b[39m)\n  ammonite.$sess.cmd37$Helper.<init>(\u001b[32mcmd37.sc\u001b[39m:\u001b[32m6\u001b[39m)\n  ammonite.$sess.cmd37$.<init>(\u001b[32mcmd37.sc\u001b[39m:\u001b[32m7\u001b[39m)\n  ammonite.$sess.cmd37$.<clinit>(\u001b[32mcmd37.sc\u001b[39m:\u001b[32m-1\u001b[39m)"
     ]
    }
   ],
   "source": [
    "class TopLevel extends Component {\n",
    "  val a = UInt(8 bits)\n",
    "  val b = UInt(4 bits)\n",
    "  b := a\n",
    "}\n",
    "showRtl(new TopLevel)"
   ]
  },
  {
   "cell_type": "markdown",
   "metadata": {},
   "source": [
    "A fix could be:"
   ]
  },
  {
   "cell_type": "code",
   "execution_count": 39,
   "metadata": {},
   "outputs": [
    {
     "name": "stdout",
     "output_type": "stream",
     "text": [
      "[Runtime] SpinalHDL v1.4.1    git head : d1b4746673438bc5f242515335278fa39a666c38\n",
      "[Runtime] JVM max memory : 1820.5MiB\n",
      "[Runtime] Current date : 2020.09.23 10:16:17\n",
      "[Progress] at 1935.627 : Elaborate components\n",
      "[Progress] at 1935.628 : Checks and transforms\n",
      "[Progress] at 1935.631 : Generate Verilog\n",
      "[Warning] 2 signals were pruned. You can call printPruned on the backend report to get more informations.\n",
      "[Done] at 1935.647\n",
      "// Generator : SpinalHDL v1.4.1    git head : d1b4746673438bc5f242515335278fa39a666c38\n",
      "// Component : TopLevel\n",
      "// Git hash  : 3c8f67ad383413c37b9e460fd52ce27764b102b4\n",
      "\n",
      "\n",
      "\n",
      "module TopLevel (\n",
      ");\n",
      "  wire       [7:0]    a;\n",
      "  wire       [3:0]    b;\n",
      "\n",
      "  assign b = a[3:0];\n",
      "\n",
      "endmodule\n",
      "\n"
     ]
    },
    {
     "data": {
      "text/plain": [
       "defined \u001b[32mclass\u001b[39m \u001b[36mTopLevel\u001b[39m"
      ]
     },
     "execution_count": 39,
     "metadata": {},
     "output_type": "execute_result"
    }
   ],
   "source": [
    "class TopLevel extends Component {\n",
    "  val a = UInt(8 bits)\n",
    "  val b = UInt(4 bits)\n",
    "  b := a.resized\n",
    "}\n",
    "showRtl(new TopLevel)"
   ]
  },
  {
   "cell_type": "markdown",
   "metadata": {},
   "source": [
    "###  Operator example\n",
    "The following code:"
   ]
  },
  {
   "cell_type": "code",
   "execution_count": 40,
   "metadata": {},
   "outputs": [
    {
     "name": "stdout",
     "output_type": "stream",
     "text": [
      "[Runtime] SpinalHDL v1.4.1    git head : d1b4746673438bc5f242515335278fa39a666c38\n",
      "[Runtime] JVM max memory : 1820.5MiB\n",
      "[Runtime] Current date : 2020.09.23 10:16:38\n",
      "[Progress] at 1956.493 : Elaborate components\n",
      "[Progress] at 1956.493 : Checks and transforms\n",
      "\n",
      "**********************************************************************************************\n",
      "[Warning] Elaboration failed (1 error).\n",
      "          Spinal will restart with scala trace to help you to find the problem.\n",
      "**********************************************************************************************\n",
      "\n",
      "[Progress] at 1956.496 : Elaborate components\n",
      "[Progress] at 1956.497 : Checks and transforms\n"
     ]
    },
    {
     "ename": "",
     "evalue": "",
     "output_type": "error",
     "traceback": [
      "\u001b[31mspinal.core.SpinalExit: \n\n\n \n********************************************************************************\n********************************************************************************\n\nWIDTH MISMATCH on (UInt | UInt)[8 bits]\n- Left  operand : (toplevel/a :  UInt[8 bits])\n- Right operand : (toplevel/b :  UInt[4 bits])\n  at \n    ammonite.$sess.cmd39$Helper$TopLevel.<init>(cmd39.sc:4)\n    ammonite.$sess.cmd39$Helper.$anonfun$res39_1$1(cmd39.sc:6)\n    ammonite.$file.dummy.source.load$minusspinal$Helper.showRtl(Main.sc:28)\n    ammonite.$sess.cmd39$Helper.<init>(cmd39.sc:6)\n    ammonite.$sess.cmd39$.<init>(cmd39.sc:7)\n    ammonite.$sess.cmd39$.<clinit>(cmd39.sc)\n    ammonite.$sess.cmd39.$main(cmd39.sc)\n    ammonite.runtime.Evaluator$$anon$1.$anonfun$evalMain$1(Evaluator.scala:112)\n    ammonite.util.Util$.withContextClassloader(Util.scala:16)\n    ammonite.runtime.Evaluator$$anon$1.evalMain(Evaluator.scala:94)\n    ammonite.runtime.Evaluator$$anon$1.$anonfun$processLine$2(Evaluator.scala:131)\n    ammonite.util.Catching.map(Res.scala:117)\n    ammonite.runtime.Evaluator$$anon$1.$anonfun$processLine$1(Evaluator.scala:125)\n    ammonite.util.Res$Success.flatMap(Res.scala:62)\n    ammonite.runtime.Evaluator$$anon$1.processLine(Evaluator.scala:124)\n    ammonite.interp.Interpreter.$anonfun$evaluateLine$3(Interpreter.scala:295)\n    ammonite.util.Res$Success.flatMap(Res.scala:62)\n    ammonite.interp.Interpreter.$anonfun$evaluateLine$1(Interpreter.scala:281)\n    ammonite.util.Catching.flatMap(Res.scala:115)\n    ammonite.interp.Interpreter.evaluateLine(Interpreter.scala:280)\n    ammonite.interp.Interpreter.$anonfun$processLine$5(Interpreter.scala:267)\n    ammonite.util.Res$Success.flatMap(Res.scala:62)\n    ammonite.interp.Interpreter.$anonfun$processLine$3(Interpreter.scala:251)\n    ammonite.util.Res$Success.flatMap(Res.scala:62)\n    ammonite.interp.Interpreter.$anonfun$processLine$1(Interpreter.scala:244)\n    ammonite.util.Catching.flatMap(Res.scala:115)\n    ammonite.interp.Interpreter.processLine(Interpreter.scala:243)\n    almond.Execute.$anonfun$ammResult$9(Execute.scala:226)\n    almond.internals.CaptureImpl.$anonfun$apply$2(CaptureImpl.scala:53)\n    almond.internals.CaptureImpl.$anonfun$apply$1(CaptureImpl.scala:45)\n    almond.internals.CaptureImpl.apply(CaptureImpl.scala:45)\n    almond.Execute.capturingOutput(Execute.scala:164)\n    almond.Execute.$anonfun$ammResult$8(Execute.scala:222)\n    almond.Execute.$anonfun$withClientStdin$1(Execute.scala:144)\n    almond.Execute.withClientStdin(Execute.scala:140)\n    almond.Execute.$anonfun$ammResult$7(Execute.scala:222)\n    almond.Execute.withInputManager(Execute.scala:132)\n    almond.Execute.$anonfun$ammResult$6(Execute.scala:221)\n    ammonite.repl.Signaller.apply(Signaller.scala:28)\n    almond.Execute.interruptible(Execute.scala:181)\n    almond.Execute.$anonfun$ammResult$5(Execute.scala:220)\n    ammonite.util.Res$Success.flatMap(Res.scala:62)\n    almond.Execute.$anonfun$ammResult$1(Execute.scala:211)\n    almond.Execute.withOutputHandler(Execute.scala:155)\n    almond.Execute.ammResult(Execute.scala:211)\n    almond.Execute.apply(Execute.scala:308)\n    almond.ScalaInterpreter.execute(ScalaInterpreter.scala:115)\n    almond.interpreter.InterpreterToIOInterpreter.$anonfun$execute$2(InterpreterToIOInterpreter.scala:69)\n    cats.effect.internals.IORunLoop$.cats$effect$internals$IORunLoop$$loop(IORunLoop.scala:87)\n    cats.effect.internals.IORunLoop$RestartCallback.signal(IORunLoop.scala:351)\n    cats.effect.internals.IORunLoop$RestartCallback.apply(IORunLoop.scala:372)\n    cats.effect.internals.IORunLoop$RestartCallback.apply(IORunLoop.scala:312)\n    cats.effect.internals.IOShift$Tick.run(IOShift.scala:36)\n    java.util.concurrent.ThreadPoolExecutor.runWorker(ThreadPoolExecutor.java:1149)\n    java.util.concurrent.ThreadPoolExecutor$Worker.run(ThreadPoolExecutor.java:624)\n    java.lang.Thread.run(Thread.java:748)\n\n\n********************************************************************************\n********************************************************************************\n\nDesign's errors are listed above.\nSpinalHDL compiler exit stack : \n\u001b[39m\n  spinal.core.SpinalExit$.apply(\u001b[32mMisc.scala\u001b[39m:\u001b[32m396\u001b[39m)\n  spinal.core.SpinalError$.apply(\u001b[32mMisc.scala\u001b[39m:\u001b[32m447\u001b[39m)\n  spinal.core.internals.PhaseContext.checkPendingErrors(\u001b[32mPhase.scala\u001b[39m:\u001b[32m174\u001b[39m)\n  spinal.core.internals.PhaseContext.doPhase(\u001b[32mPhase.scala\u001b[39m:\u001b[32m190\u001b[39m)\n  spinal.core.internals.SpinalVerilogBoot$.$anonfun$singleShot$12(\u001b[32mPhase.scala\u001b[39m:\u001b[32m2362\u001b[39m)\n  spinal.core.internals.SpinalVerilogBoot$.$anonfun$singleShot$12$adapted(\u001b[32mPhase.scala\u001b[39m:\u001b[32m2360\u001b[39m)\n  scala.collection.mutable.ResizableArray.foreach(\u001b[32mResizableArray.scala\u001b[39m:\u001b[32m59\u001b[39m)\n  scala.collection.mutable.ResizableArray.foreach$(\u001b[32mResizableArray.scala\u001b[39m:\u001b[32m52\u001b[39m)\n  scala.collection.mutable.ArrayBuffer.foreach(\u001b[32mArrayBuffer.scala\u001b[39m:\u001b[32m48\u001b[39m)\n  spinal.core.internals.SpinalVerilogBoot$.$anonfun$singleShot$7(\u001b[32mPhase.scala\u001b[39m:\u001b[32m2360\u001b[39m)\n  spinal.core.ScopeProperty$.sandbox(\u001b[32mScopeProperty.scala\u001b[39m:\u001b[32m31\u001b[39m)\n  spinal.core.internals.SpinalVerilogBoot$.singleShot(\u001b[32mPhase.scala\u001b[39m:\u001b[32m2300\u001b[39m)\n  spinal.core.internals.SpinalVerilogBoot$.apply(\u001b[32mPhase.scala\u001b[39m:\u001b[32m2295\u001b[39m)\n  spinal.core.Spinal$.apply(\u001b[32mSpinal.scala\u001b[39m:\u001b[32m341\u001b[39m)\n  spinal.core.SpinalConfig.generate(\u001b[32mSpinal.scala\u001b[39m:\u001b[32m148\u001b[39m)\n  ammonite.$file.dummy.source.load$minusspinal$Helper.showRtl(\u001b[32mMain.sc\u001b[39m:\u001b[32m28\u001b[39m)\n  ammonite.$sess.cmd39$Helper.<init>(\u001b[32mcmd39.sc\u001b[39m:\u001b[32m6\u001b[39m)\n  ammonite.$sess.cmd39$.<init>(\u001b[32mcmd39.sc\u001b[39m:\u001b[32m7\u001b[39m)\n  ammonite.$sess.cmd39$.<clinit>(\u001b[32mcmd39.sc\u001b[39m:\u001b[32m-1\u001b[39m)"
     ]
    }
   ],
   "source": [
    "class TopLevel extends Component {\n",
    "  val a = UInt(8 bits)\n",
    "  val b = UInt(4 bits)\n",
    "  val result = a | b\n",
    "}\n",
    "showRtl(new TopLevel)"
   ]
  },
  {
   "cell_type": "markdown",
   "metadata": {},
   "source": [
    "A fix could be:"
   ]
  },
  {
   "cell_type": "code",
   "execution_count": 41,
   "metadata": {},
   "outputs": [
    {
     "name": "stdout",
     "output_type": "stream",
     "text": [
      "[Runtime] SpinalHDL v1.4.1    git head : d1b4746673438bc5f242515335278fa39a666c38\n",
      "[Runtime] JVM max memory : 1820.5MiB\n",
      "[Runtime] Current date : 2020.09.23 10:16:47\n",
      "[Progress] at 1965.814 : Elaborate components\n",
      "[Progress] at 1965.815 : Checks and transforms\n",
      "[Progress] at 1965.817 : Generate Verilog\n",
      "[Warning] 3 signals were pruned. You can call printPruned on the backend report to get more informations.\n",
      "[Done] at 1965.839\n",
      "// Generator : SpinalHDL v1.4.1    git head : d1b4746673438bc5f242515335278fa39a666c38\n",
      "// Component : TopLevel\n",
      "// Git hash  : 3c8f67ad383413c37b9e460fd52ce27764b102b4\n",
      "\n",
      "\n",
      "\n",
      "module TopLevel (\n",
      ");\n",
      "  wire       [7:0]    _zz_1;\n",
      "  wire       [7:0]    a;\n",
      "  wire       [3:0]    b;\n",
      "  wire       [7:0]    result;\n",
      "\n",
      "  assign _zz_1 = {4'd0, b};\n",
      "  assign result = (a | _zz_1);\n",
      "\n",
      "endmodule\n",
      "\n"
     ]
    },
    {
     "data": {
      "text/plain": [
       "defined \u001b[32mclass\u001b[39m \u001b[36mTopLevel\u001b[39m"
      ]
     },
     "execution_count": 41,
     "metadata": {},
     "output_type": "execute_result"
    }
   ],
   "source": [
    "class TopLevel extends Component {\n",
    "  val a = UInt(8 bits)\n",
    "  val b = UInt(4 bits)\n",
    "  val result = a | (b.resized)\n",
    "}\n",
    "showRtl(new TopLevel)"
   ]
  }
 ],
 "metadata": {
  "kernelspec": {
   "display_name": "Scala",
   "language": "scala",
   "name": "scala"
  },
  "language_info": {
   "codemirror_mode": "text/x-scala",
   "file_extension": ".scala",
   "mimetype": "text/x-scala",
   "name": "scala",
   "nbconvert_exporter": "script",
   "version": "2.12.6"
  },
  "toc": {
   "base_numbering": 1,
   "nav_menu": {},
   "number_sections": true,
   "sideBar": true,
   "skip_h1_title": false,
   "title_cell": "Table of Contents",
   "title_sidebar": "Contents",
   "toc_cell": false,
   "toc_position": {},
   "toc_section_display": true,
   "toc_window_display": false
  }
 },
 "nbformat": 4,
 "nbformat_minor": 2
}

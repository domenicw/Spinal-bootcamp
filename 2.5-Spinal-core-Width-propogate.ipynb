{
 "cells": [
  {
   "cell_type": "markdown",
   "metadata": {},
   "source": [
    "<a name=\"top\"></a><img src=\"source/SpinalHDL.png\" alt=\"SpinalHDL based on Scala\" style=\"width:320px;\" />"
   ]
  },
  {
   "cell_type": "markdown",
   "metadata": {},
   "source": [
    "  Before running Spinal HDL code, be sure to load Spinal HDL Libraries  \n",
    "**Note** : This may be a little slow when the first time load, please wait a moment to download Lib from remote.)"
   ]
  },
  {
   "cell_type": "code",
   "execution_count": 1,
   "metadata": {},
   "outputs": [
    {
     "data": {
      "text/plain": [
       "\u001b[36mpath\u001b[39m: \u001b[32mString\u001b[39m = \u001b[32m\"/Users/domenic/Documents/Spinal-bootcamp/source/load-spinal.sc\"\u001b[39m"
      ]
     },
     "execution_count": 1,
     "metadata": {},
     "output_type": "execute_result"
    }
   ],
   "source": [
    "val path = System.getProperty(\"user.dir\") + \"/source/load-spinal.sc\"\n",
    "interp.load.module(ammonite.ops.Path(java.nio.file.FileSystems.getDefault().getPath(path)))"
   ]
  },
  {
   "cell_type": "markdown",
   "metadata": {},
   "source": [
    "## Width propogate"
   ]
  },
  {
   "cell_type": "markdown",
   "metadata": {},
   "source": [
    "### undefined width propogate"
   ]
  },
  {
   "cell_type": "code",
   "execution_count": 2,
   "metadata": {},
   "outputs": [
    {
     "data": {
      "text/plain": [
       "defined \u001b[32mclass\u001b[39m \u001b[36mT1\u001b[39m"
      ]
     },
     "execution_count": 2,
     "metadata": {},
     "output_type": "execute_result"
    }
   ],
   "source": [
    "class T1 extends Component{\n",
    "    val a = in UInt(8 bits)\n",
    "    val b = out UInt()\n",
    "    b := a\n",
    "}"
   ]
  },
  {
   "cell_type": "markdown",
   "metadata": {},
   "source": [
    "###  unsigned auto resize"
   ]
  },
  {
   "cell_type": "code",
   "execution_count": 3,
   "metadata": {},
   "outputs": [
    {
     "data": {
      "text/plain": [
       "defined \u001b[32mclass\u001b[39m \u001b[36mT2\u001b[39m"
      ]
     },
     "execution_count": 3,
     "metadata": {},
     "output_type": "execute_result"
    }
   ],
   "source": [
    "class T2 extends Component{\n",
    "    val a = in UInt(8 bits)\n",
    "    val b = out UInt(10 bits)\n",
    "    b := a.resized\n",
    "}"
   ]
  },
  {
   "cell_type": "markdown",
   "metadata": {},
   "source": [
    "###  signed auto resize"
   ]
  },
  {
   "cell_type": "code",
   "execution_count": 4,
   "metadata": {},
   "outputs": [
    {
     "name": "stdout",
     "output_type": "stream",
     "text": [
      "[Runtime] SpinalHDL v1.4.1    git head : d1b4746673438bc5f242515335278fa39a666c38\n",
      "[Runtime] JVM max memory : 1820.5MiB\n",
      "[Runtime] Current date : 2020.09.23 11:45:28\n",
      "[Progress] at 0.000 : Elaborate components\n",
      "[Progress] at 0.095 : Checks and transforms\n",
      "[Progress] at 0.146 : Generate Verilog\n",
      "[Done] at 0.248\n",
      "// Generator : SpinalHDL v1.4.1    git head : d1b4746673438bc5f242515335278fa39a666c38\n",
      "// Component : T3\n",
      "// Git hash  : e875e8145e84469434e54f6d6f4306c8fd611bde\n",
      "\n",
      "\n",
      "\n",
      "module T3 (\n",
      "  input      [7:0]    a,\n",
      "  output     [15:0]   b\n",
      ");\n",
      "\n",
      "  assign b = {{8{a[7]}}, a};\n",
      "\n",
      "endmodule\n",
      "\n"
     ]
    },
    {
     "data": {
      "text/plain": [
       "defined \u001b[32mclass\u001b[39m \u001b[36mT3\u001b[39m"
      ]
     },
     "execution_count": 4,
     "metadata": {},
     "output_type": "execute_result"
    }
   ],
   "source": [
    "class T3 extends Component{\n",
    "    val a = in SInt(8 bits)\n",
    "    val b = out SInt( )\n",
    "    b := a.resize(16)\n",
    "}\n",
    "showRtl(new T3)"
   ]
  },
  {
   "cell_type": "markdown",
   "metadata": {},
   "source": [
    "### width auto cut"
   ]
  },
  {
   "cell_type": "code",
   "execution_count": 5,
   "metadata": {},
   "outputs": [
    {
     "name": "stdout",
     "output_type": "stream",
     "text": [
      "[Runtime] SpinalHDL v1.4.1    git head : d1b4746673438bc5f242515335278fa39a666c38\n",
      "[Runtime] JVM max memory : 1820.5MiB\n",
      "[Runtime] Current date : 2020.09.23 11:45:44\n",
      "[Progress] at 16.444 : Elaborate components\n",
      "[Progress] at 16.446 : Checks and transforms\n",
      "[Progress] at 16.449 : Generate Verilog\n",
      "[Done] at 16.472\n",
      "// Generator : SpinalHDL v1.4.1    git head : d1b4746673438bc5f242515335278fa39a666c38\n",
      "// Component : T4\n",
      "// Git hash  : e875e8145e84469434e54f6d6f4306c8fd611bde\n",
      "\n",
      "\n",
      "\n",
      "module T4 (\n",
      "  input      [7:0]    a,\n",
      "  output     [3:0]    b\n",
      ");\n",
      "\n",
      "  assign b = a[3:0];\n",
      "\n",
      "endmodule\n",
      "\n"
     ]
    },
    {
     "data": {
      "text/plain": [
       "defined \u001b[32mclass\u001b[39m \u001b[36mT4\u001b[39m"
      ]
     },
     "execution_count": 5,
     "metadata": {},
     "output_type": "execute_result"
    }
   ],
   "source": [
    "class T4 extends Component{\n",
    "    val a = in SInt(8 bits)\n",
    "    val b = out SInt(4 bits)\n",
    "    b := a.resized\n",
    "}\n",
    "showRtl(new T4)"
   ]
  },
  {
   "cell_type": "code",
   "execution_count": 6,
   "metadata": {},
   "outputs": [
    {
     "name": "stdout",
     "output_type": "stream",
     "text": [
      "[Runtime] SpinalHDL v1.4.1    git head : d1b4746673438bc5f242515335278fa39a666c38\n",
      "[Runtime] JVM max memory : 1820.5MiB\n",
      "[Runtime] Current date : 2020.09.23 11:46:15\n",
      "[Progress] at 47.552 : Elaborate components\n",
      "[Progress] at 47.564 : Checks and transforms\n",
      "[Progress] at 47.573 : Generate Verilog\n",
      "[Done] at 47.601\n",
      "// Generator : SpinalHDL v1.4.1    git head : d1b4746673438bc5f242515335278fa39a666c38\n",
      "// Component : T4\n",
      "// Git hash  : e875e8145e84469434e54f6d6f4306c8fd611bde\n",
      "\n",
      "\n",
      "\n",
      "module T4 (\n",
      "  input      [7:0]    a,\n",
      "  output              b\n",
      ");\n",
      "\n",
      "  assign b = (a == 8'hff);\n",
      "\n",
      "endmodule\n",
      "\n"
     ]
    },
    {
     "data": {
      "text/plain": [
       "defined \u001b[32mclass\u001b[39m \u001b[36mT4\u001b[39m"
      ]
     },
     "execution_count": 6,
     "metadata": {},
     "output_type": "execute_result"
    }
   ],
   "source": [
    "class T4 extends Component{\n",
    "    val a = in SInt(8 bits)\n",
    "    val b = out Bool()\n",
    "    b := a.andR\n",
    "}\n",
    "showRtl(new T4)"
   ]
  },
  {
   "cell_type": "markdown",
   "metadata": {},
   "source": [
    "## Width propogate cross boundary"
   ]
  },
  {
   "cell_type": "code",
   "execution_count": 7,
   "metadata": {},
   "outputs": [
    {
     "name": "stdout",
     "output_type": "stream",
     "text": [
      "[Runtime] SpinalHDL v1.4.1    git head : d1b4746673438bc5f242515335278fa39a666c38\n",
      "[Runtime] JVM max memory : 1820.5MiB\n",
      "[Runtime] Current date : 2020.09.23 11:46:41\n",
      "[Progress] at 73.039 : Elaborate components\n",
      "[Progress] at 73.047 : Checks and transforms\n",
      "[Progress] at 73.055 : Generate Verilog\n",
      "[Done] at 73.079\n",
      "// Generator : SpinalHDL v1.4.1    git head : d1b4746673438bc5f242515335278fa39a666c38\n",
      "// Component : Top\n",
      "// Git hash  : e875e8145e84469434e54f6d6f4306c8fd611bde\n",
      "\n",
      "\n",
      "\n",
      "module Top (\n",
      "  input      [7:0]    x,\n",
      "  output     [7:0]    y\n",
      ");\n",
      "  wire       [7:0]    uut_b;\n",
      "\n",
      "  Pass uut (\n",
      "    .a    (x[7:0]      ), //i\n",
      "    .b    (uut_b[7:0]  )  //o\n",
      "  );\n",
      "  assign y = uut_b;\n",
      "\n",
      "endmodule\n",
      "\n",
      "module Pass (\n",
      "  input      [7:0]    a,\n",
      "  output     [7:0]    b\n",
      ");\n",
      "\n",
      "  assign b = a;\n",
      "\n",
      "endmodule\n",
      "\n"
     ]
    },
    {
     "data": {
      "text/plain": [
       "defined \u001b[32mclass\u001b[39m \u001b[36mPass\u001b[39m\n",
       "defined \u001b[32mclass\u001b[39m \u001b[36mTop\u001b[39m"
      ]
     },
     "execution_count": 7,
     "metadata": {},
     "output_type": "execute_result"
    }
   ],
   "source": [
    "class Pass extends Component{\n",
    "    val a = in UInt() //without width declare\n",
    "    val b = out UInt() //without width declare\n",
    "    b := a\n",
    "}\n",
    "\n",
    "class Top extends Component{\n",
    "    val x = in UInt(8 bits)\n",
    "    val y = out UInt() //without width declare\n",
    "    \n",
    "    val uut = new Pass\n",
    "    uut.a := x\n",
    "    y     := uut.b\n",
    "}\n",
    "showRtl(new Top)"
   ]
  },
  {
   "cell_type": "markdown",
   "metadata": {},
   "source": [
    "## Bit Join\n",
    "`##` return Bits"
   ]
  },
  {
   "cell_type": "code",
   "execution_count": 8,
   "metadata": {},
   "outputs": [
    {
     "name": "stdout",
     "output_type": "stream",
     "text": [
      "[Runtime] SpinalHDL v1.4.1    git head : d1b4746673438bc5f242515335278fa39a666c38\n",
      "[Runtime] JVM max memory : 1820.5MiB\n",
      "[Runtime] Current date : 2020.09.23 11:47:15\n",
      "[Progress] at 107.679 : Elaborate components\n",
      "[Progress] at 107.681 : Checks and transforms\n",
      "[Progress] at 107.685 : Generate Verilog\n",
      "[Done] at 107.710\n",
      "// Generator : SpinalHDL v1.4.1    git head : d1b4746673438bc5f242515335278fa39a666c38\n",
      "// Component : T5\n",
      "// Git hash  : e875e8145e84469434e54f6d6f4306c8fd611bde\n",
      "\n",
      "\n",
      "\n",
      "module T5 (\n",
      "  input      [7:0]    a0,\n",
      "  input      [7:0]    a1,\n",
      "  output     [15:0]   c\n",
      ");\n",
      "\n",
      "  assign c = {a0,a1};\n",
      "\n",
      "endmodule\n",
      "\n"
     ]
    },
    {
     "data": {
      "text/plain": [
       "defined \u001b[32mclass\u001b[39m \u001b[36mT5\u001b[39m"
      ]
     },
     "execution_count": 8,
     "metadata": {},
     "output_type": "execute_result"
    }
   ],
   "source": [
    "class T5 extends Component{\n",
    "    val a0 = in SInt(8 bits)    \n",
    "    val a1 = in SInt(8 bits)\n",
    "    val c = out SInt()\n",
    "    c:= (a0 ## a1).asSInt\n",
    "}\n",
    "showRtl(new T5)"
   ]
  },
  {
   "cell_type": "markdown",
   "metadata": {},
   "source": [
    "## Bits slice"
   ]
  },
  {
   "cell_type": "code",
   "execution_count": 9,
   "metadata": {
    "scrolled": true
   },
   "outputs": [
    {
     "name": "stdout",
     "output_type": "stream",
     "text": [
      "[Runtime] SpinalHDL v1.4.1    git head : d1b4746673438bc5f242515335278fa39a666c38\n",
      "[Runtime] JVM max memory : 1820.5MiB\n",
      "[Runtime] Current date : 2020.09.23 11:47:48\n",
      "[Progress] at 140.525 : Elaborate components\n",
      "5\n",
      "[Progress] at 140.533 : Checks and transforms\n",
      "[Progress] at 140.540 : Generate Verilog\n",
      "[Done] at 140.559\n",
      "// Generator : SpinalHDL v1.4.1    git head : d1b4746673438bc5f242515335278fa39a666c38\n",
      "// Component : T6\n",
      "// Git hash  : e875e8145e84469434e54f6d6f4306c8fd611bde\n",
      "\n",
      "\n",
      "\n",
      "module T6 (\n",
      "  input      [15:0]   a,\n",
      "  output     [3:0]    b,\n",
      "  output     [4:0]    c,\n",
      "  output              o0,\n",
      "  output              o1,\n",
      "  output              o2,\n",
      "  output              o3\n",
      ");\n",
      "\n",
      "  assign b = a[5 : 2];\n",
      "  assign c = a[4 : 0];\n",
      "  assign o0 = a[15];\n",
      "  assign o1 = a[0];\n",
      "  assign o2 = a[0];\n",
      "  assign o3 = a[9];\n",
      "\n",
      "endmodule\n",
      "\n"
     ]
    },
    {
     "data": {
      "text/plain": [
       "defined \u001b[32mclass\u001b[39m \u001b[36mT6\u001b[39m"
      ]
     },
     "execution_count": 9,
     "metadata": {},
     "output_type": "execute_result"
    }
   ],
   "source": [
    "class T6 extends Component{\n",
    "    val a = in SInt(16 bits) \n",
    "    val b  = out SInt()\n",
    "    val c  = out SInt() \n",
    "    val o0,o1,o2,o3 = out Bool()\n",
    "    \n",
    "    b  := a(5 downto 2)  \n",
    "    c  := a(0 to 4)\n",
    "    o0 := a.msb\n",
    "    o1 := a.lsb\n",
    "    o2 := a(0)\n",
    "    o3 := a(9)\n",
    "    \n",
    "    println(c.getWidth)\n",
    "}\n",
    "\n",
    "showRtl(new T6)"
   ]
  },
  {
   "cell_type": "code",
   "execution_count": null,
   "metadata": {},
   "outputs": [],
   "source": []
  }
 ],
 "metadata": {
  "kernelspec": {
   "display_name": "Scala",
   "language": "scala",
   "name": "scala"
  },
  "language_info": {
   "codemirror_mode": "text/x-scala",
   "file_extension": ".scala",
   "mimetype": "text/x-scala",
   "name": "scala",
   "nbconvert_exporter": "script",
   "version": "2.12.6"
  },
  "toc": {
   "base_numbering": 1,
   "nav_menu": {},
   "number_sections": true,
   "sideBar": true,
   "skip_h1_title": false,
   "title_cell": "Table of Contents",
   "title_sidebar": "Contents",
   "toc_cell": false,
   "toc_position": {},
   "toc_section_display": true,
   "toc_window_display": false
  }
 },
 "nbformat": 4,
 "nbformat_minor": 2
}
